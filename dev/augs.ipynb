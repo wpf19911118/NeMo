{
 "cells": [
  {
   "cell_type": "code",
   "execution_count": 1,
   "metadata": {},
   "outputs": [],
   "source": [
    "%load_ext autoreload\n",
    "%autoreload 2\n",
    "\n",
    "import numpy as np"
   ]
  },
  {
   "cell_type": "code",
   "execution_count": 4,
   "metadata": {},
   "outputs": [
    {
     "data": {
      "text/plain": [
       "13036"
      ]
     },
     "execution_count": 4,
     "metadata": {},
     "output_type": "execute_result"
    }
   ],
   "source": [
    "DURS_PATH = '/home/stanislavv/data/librimeta/durs/ljspeech_300epochs-qn15x5-eqlen/train.npy'\n",
    "all_durs = np.load(DURS_PATH, allow_pickle=True)\n",
    "len(all_durs)"
   ]
  },
  {
   "cell_type": "code",
   "execution_count": 5,
   "metadata": {},
   "outputs": [
    {
     "name": "stdout",
     "output_type": "stream",
     "text": [
      "14 2 0 8 4 2 10 1 0 0 20 3 2 8 15 2 2 6 0 20 6 2 9 2 64 1 5 3 9 3 15 3 18 1 5 3 0 7 3 1 6 17 2 9 0 24 5 2 10 2 2 5 8 2 8 0 28 1\n",
      "1 1 1 2 2 0 1 1 2 3 1 1 1 1 1 1 2 1 2 1 1 1 0 0 1 1 1 1 1 1 1 1 1 1 1 1 1 2 2 1 1 1 1 1 2 1 1 1 2 1 1 2 1 1 1 1 1\n"
     ]
    }
   ],
   "source": [
    "blanks, durs = all_durs[0]\n",
    "print(*blanks)\n",
    "print(*durs)"
   ]
  },
  {
   "cell_type": "code",
   "execution_count": 406,
   "metadata": {},
   "outputs": [
    {
     "data": {
      "text/plain": [
       "(3, 7)"
      ]
     },
     "execution_count": 406,
     "metadata": {},
     "output_type": "execute_result"
    }
   ],
   "source": [
    "def split2(x, p=0.1):\n",
    "    xl = np.random.binomial(x, p)\n",
    "    return xl, x - xl\n",
    "\n",
    "\n",
    "split2(10)"
   ]
  },
  {
   "cell_type": "code",
   "execution_count": 407,
   "metadata": {},
   "outputs": [
    {
     "data": {
      "text/plain": [
       "(0, 0, 0)"
      ]
     },
     "execution_count": 407,
     "metadata": {},
     "output_type": "execute_result"
    }
   ],
   "source": [
    "def split3(x, p=0.1):\n",
    "    xl, xm = split2(x, p=p)\n",
    "    xr, xm = split2(xm, p=p)\n",
    "    return xl, xm, xr\n",
    "\n",
    "\n",
    "split3(0)"
   ]
  },
  {
   "cell_type": "code",
   "execution_count": 518,
   "metadata": {},
   "outputs": [
    {
     "name": "stdout",
     "output_type": "stream",
     "text": [
      "1 1 1 2 2 0 1 1 2 3 1 1 1 1 1 1 2 1 2 1 1 1 0 0 1 1 1 1 1 1 1 1 1 1 1 1 1 2 2 1 1 1 1 1 2 1 1 1 2 1 1 2 1 1 1 1 1\n",
      "1 1 1 2 2 0 1 1 2 3 1 1 1 1 1 1 2 1 2 1 1 1 0 0 1 1 1 1 1 1 1 1 1 1 1 1 1 2 2 1 1 1 1 1 2 1 1 1 2 1 1 2 1 1 1 1 1\n"
     ]
    }
   ],
   "source": [
    "def aug(b, d, p=0.1):\n",
    "    n, m = len(b), len(d)\n",
    "\n",
    "    new_b, new_d = np.zeros_like(b), d.copy()\n",
    "    for i in range(len(b)):\n",
    "        bl, bm, br = split3(b[i], p=p)\n",
    "        \n",
    "        new_b[i] += bm\n",
    "\n",
    "        if i > 0:\n",
    "            new_d[i - 1] += bl\n",
    "        else:\n",
    "            new_b[i] += bl\n",
    "        \n",
    "        if i < m:\n",
    "            new_d[i] += br\n",
    "        else:\n",
    "            new_b[i] += br\n",
    "    \n",
    "    assert len(new_b) == len(b)\n",
    "    assert len(new_d) == len(d)\n",
    "    assert sum(new_b) + sum(new_d) == sum(b) + sum(d)\n",
    "\n",
    "    return new_b, new_d\n",
    "\n",
    "\n",
    "print(*durs)\n",
    "_, new_durs = aug(blanks, durs, p=0.00)\n",
    "print(*new_durs)"
   ]
  }
 ],
 "metadata": {
  "kernelspec": {
   "display_name": "Python 3",
   "language": "python",
   "name": "python3"
  },
  "language_info": {
   "codemirror_mode": {
    "name": "ipython",
    "version": 3
   },
   "file_extension": ".py",
   "mimetype": "text/x-python",
   "name": "python",
   "nbconvert_exporter": "python",
   "pygments_lexer": "ipython3",
   "version": "3.6.9"
  }
 },
 "nbformat": 4,
 "nbformat_minor": 2
}
