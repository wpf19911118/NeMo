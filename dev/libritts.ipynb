{
 "cells": [
  {
   "cell_type": "code",
   "execution_count": 1,
   "metadata": {},
   "outputs": [],
   "source": [
    "import os\n",
    "import tqdm\n",
    "import json\n",
    "import nemo\n",
    "import shutil\n",
    "import string\n",
    "import fnmatch\n",
    "import pathlib\n",
    "import subprocess\n",
    "import numpy as np\n",
    "import pandas as pd\n",
    "import seaborn as sns\n",
    "import matplotlib.pyplot as plt\n",
    "\n",
    "from nemo.collections import asr as nemo_asr"
   ]
  },
  {
   "cell_type": "code",
   "execution_count": 2,
   "metadata": {},
   "outputs": [],
   "source": [
    "BASE = pathlib.Path('/home/stanislavv/data/libritts')\n",
    "LOCAL_DATA_ROOT = BASE / 'LibriTTS'\n",
    "NGC_DATA_ROOT = BASE / 'LibriTTS_ngc'\n",
    "LOCAL_MANIFEST_ROOT = BASE / 'local'\n",
    "NGC_MANIFEST_ROOT = BASE / 'ngc'"
   ]
  },
  {
   "cell_type": "code",
   "execution_count": 50,
   "metadata": {},
   "outputs": [
    {
     "name": "stderr",
     "output_type": "stream",
     "text": [
      "100%|██████████| 5736/5736 [00:44<00:00, 128.77it/s]\n"
     ]
    }
   ],
   "source": [
    "def process(part):\n",
    "    def read_text(file):\n",
    "        with open(file, 'r') as f:\n",
    "            return str(f.read())\n",
    "    \n",
    "    def write_manifest(data, file):\n",
    "        with open(file, 'w') as f:\n",
    "            for example in data:\n",
    "                f.write(json.dumps(example) + '\\n')\n",
    "    \n",
    "    ngc_datat_root = NGC_DATA_ROOT / part\n",
    "    ngc_datat_root.mkdir(parents=True, exist_ok=True)\n",
    "    \n",
    "    wavs = list((LOCAL_DATA_ROOT / part).glob('*/*/*.wav'))\n",
    "    local_data, ngc_data = [], []\n",
    "    for wav in tqdm.tqdm(wavs):\n",
    "        shutil.copy(wav, ngc_datat_root / wav.name)\n",
    "        \n",
    "        normalized_text = read_text(wav.with_suffix('.normalized.txt'))\n",
    "        original_text = read_text(wav.with_suffix('.original.txt'))\n",
    "        duration = float(subprocess.check_output(f'soxi -D {wav}', shell=True))\n",
    "        speaker = int(wav.name.split('_')[0])\n",
    "\n",
    "        local_data.append(\n",
    "            dict(\n",
    "                audio_filepath=str(wav),\n",
    "                duration=duration,\n",
    "                normalized_text=normalized_text,\n",
    "                original_text=original_text,\n",
    "                speaker=speaker,\n",
    "            )\n",
    "        )\n",
    "        \n",
    "        ngc_data.append(\n",
    "            dict(\n",
    "                audio_filepath=str(pathlib.Path('/data/libritts') / part / wav.name),\n",
    "                duration=duration,\n",
    "                normalized_text=normalized_text,\n",
    "                original_text=original_text,\n",
    "                speaker=speaker,\n",
    "            )\n",
    "        )\n",
    "\n",
    "    LOCAL_MANIFEST_ROOT.mkdir(parents=True, exist_ok=True)\n",
    "    write_manifest(local_data, LOCAL_MANIFEST_ROOT / f'{part}.json')\n",
    "\n",
    "    NGC_MANIFEST_ROOT.mkdir(parents=True, exist_ok=True)\n",
    "    write_manifest(ngc_data, NGC_MANIFEST_ROOT / f'{part}.json')\n",
    "\n",
    "\n",
    "process('dev-clean')"
   ]
  },
  {
   "cell_type": "code",
   "execution_count": 51,
   "metadata": {},
   "outputs": [
    {
     "name": "stderr",
     "output_type": "stream",
     "text": [
      "  0%|          | 13/4613 [00:00<00:35, 127.91it/s]"
     ]
    },
    {
     "name": "stdout",
     "output_type": "stream",
     "text": [
      "dev-other\n"
     ]
    },
    {
     "name": "stderr",
     "output_type": "stream",
     "text": [
      "100%|██████████| 4613/4613 [00:32<00:00, 142.37it/s]\n",
      "  0%|          | 14/4837 [00:00<00:36, 132.77it/s]"
     ]
    },
    {
     "name": "stdout",
     "output_type": "stream",
     "text": [
      "test-clean\n"
     ]
    },
    {
     "name": "stderr",
     "output_type": "stream",
     "text": [
      "100%|██████████| 4837/4837 [00:37<00:00, 130.14it/s]\n",
      "  0%|          | 14/5120 [00:00<00:37, 135.68it/s]"
     ]
    },
    {
     "name": "stdout",
     "output_type": "stream",
     "text": [
      "test-other\n"
     ]
    },
    {
     "name": "stderr",
     "output_type": "stream",
     "text": [
      "100%|██████████| 5120/5120 [00:38<00:00, 131.62it/s]\n"
     ]
    },
    {
     "name": "stdout",
     "output_type": "stream",
     "text": [
      "train-clean-100\n"
     ]
    },
    {
     "name": "stderr",
     "output_type": "stream",
     "text": [
      "100%|██████████| 33236/33236 [04:31<00:00, 122.43it/s]\n"
     ]
    },
    {
     "name": "stdout",
     "output_type": "stream",
     "text": [
      "train-clean-360\n"
     ]
    },
    {
     "name": "stderr",
     "output_type": "stream",
     "text": [
      "100%|██████████| 116500/116500 [19:11<00:00, 101.19it/s]\n"
     ]
    },
    {
     "name": "stdout",
     "output_type": "stream",
     "text": [
      "train-other-500\n"
     ]
    },
    {
     "name": "stderr",
     "output_type": "stream",
     "text": [
      "100%|██████████| 205044/205044 [39:53<00:00, 85.67it/s]\n"
     ]
    }
   ],
   "source": [
    "for part in ['dev-other', 'test-clean', 'test-other', 'train-clean-100', 'train-clean-360', 'train-other-500']:\n",
    "    print(part)\n",
    "    process(part)"
   ]
  },
  {
   "cell_type": "code",
   "execution_count": 53,
   "metadata": {},
   "outputs": [
    {
     "data": {
      "text/plain": [
       "PosixPath('/home/stanislavv/data/libritts/ngc/speakers.tsv')"
      ]
     },
     "execution_count": 53,
     "metadata": {},
     "output_type": "execute_result"
    }
   ],
   "source": [
    "shutil.copy(LOCAL_DATA_ROOT / 'eval_sentences10.tsv', LOCAL_MANIFEST_ROOT / 'eval_sentences10.tsv')\n",
    "shutil.copy(LOCAL_DATA_ROOT / 'speakers.tsv', LOCAL_MANIFEST_ROOT / 'speakers.tsv')\n",
    "shutil.copy(LOCAL_DATA_ROOT / 'eval_sentences10.tsv', NGC_MANIFEST_ROOT / 'eval_sentences10.tsv')\n",
    "shutil.copy(LOCAL_DATA_ROOT / 'speakers.tsv', NGC_MANIFEST_ROOT / 'speakers.tsv')"
   ]
  },
  {
   "cell_type": "code",
   "execution_count": 54,
   "metadata": {},
   "outputs": [],
   "source": [
    "# !cat train-clean-100.json train-clean-360.json train-other-500.json >train-all.json"
   ]
  },
  {
   "cell_type": "markdown",
   "metadata": {},
   "source": [
    "## Analysis"
   ]
  },
  {
   "cell_type": "code",
   "execution_count": 7,
   "metadata": {},
   "outputs": [
    {
     "name": "stdout",
     "output_type": "stream",
     "text": [
      "dev-clean\n",
      "dev-other\n",
      "test-clean\n",
      "test-other\n",
      "train-all\n"
     ]
    }
   ],
   "source": [
    "alphabet = set()\n",
    "for part in [\n",
    "    'dev-clean',\n",
    "    'dev-other',\n",
    "    'test-clean',\n",
    "    'test-other',\n",
    "    'train-all',\n",
    "]:\n",
    "    print(part)\n",
    "    manifest = LOCAL_MANIFEST_ROOT / f'{part}.json'\n",
    "    with open(manifest, 'r') as f:\n",
    "        for line in f:\n",
    "            text = json.loads(line)['normalized_text']\n",
    "            alphabet.update(text)"
   ]
  },
  {
   "cell_type": "code",
   "execution_count": 25,
   "metadata": {},
   "outputs": [
    {
     "name": "stdout",
     "output_type": "stream",
     "text": [
      "æ ( ê ô . ! { ] ' ) } [ ; — ò é : œ ¯ \"   ñ , ? - è /\n"
     ]
    }
   ],
   "source": [
    "alpha = string.ascii_letters\n",
    "non_ascii = alphabet - set(alpha)\n",
    "print(*non_ascii)"
   ]
  },
  {
   "cell_type": "code",
   "execution_count": 24,
   "metadata": {},
   "outputs": [
    {
     "name": "stdout",
     "output_type": "stream",
     "text": [
      "æ — ò ê ô é œ è ¯ ñ\n"
     ]
    }
   ],
   "source": [
    "punct = '()[]{}!?,.;:-/\\'\" '\n",
    "left = non_ascii - set(punct)\n",
    "print(*left)"
   ]
  },
  {
   "cell_type": "code",
   "execution_count": 26,
   "metadata": {},
   "outputs": [
    {
     "name": "stdout",
     "output_type": "stream",
     "text": [
      "a b c d e f g h i j k l m n o p q r s t u v w x y z A B C D E F G H I J K L M N O P Q R S T U V W X Y Z\n",
      "( ) [ ] { } ! ? , . ; : - / ' \"  \n",
      "æ — ò ê ô é œ è ¯ ñ\n"
     ]
    }
   ],
   "source": [
    "print(*alpha)\n",
    "print(*punct)\n",
    "print(*left)"
   ]
  },
  {
   "cell_type": "code",
   "execution_count": 4,
   "metadata": {},
   "outputs": [
    {
     "data": {
      "text/plain": [
       "2311"
      ]
     },
     "execution_count": 4,
     "metadata": {},
     "output_type": "execute_result"
    }
   ],
   "source": [
    "TRAIN_DATA = '/home/stanislavv/data/libritts/local/train-all.json'\n",
    "train_all_sp = set(e['speaker'] for e in nemo.collections.asr.parts.manifest.item_iter(TRAIN_DATA))\n",
    "len(train_all_sp)"
   ]
  },
  {
   "cell_type": "code",
   "execution_count": 32,
   "metadata": {},
   "outputs": [
    {
     "data": {
      "text/plain": [
       "40"
      ]
     },
     "execution_count": 32,
     "metadata": {},
     "output_type": "execute_result"
    }
   ],
   "source": [
    "DATA = '/home/stanislavv/data/libritts/local/dev-clean.json'\n",
    "dev_clean_sp = set(e['speaker'] for e in nemo.collections.asr.parts.manifest.item_iter(DATA))\n",
    "len(dev_clean_sp)"
   ]
  },
  {
   "cell_type": "code",
   "execution_count": 34,
   "metadata": {},
   "outputs": [
    {
     "data": {
      "text/plain": [
       "33"
      ]
     },
     "execution_count": 34,
     "metadata": {},
     "output_type": "execute_result"
    }
   ],
   "source": [
    "DATA = '/home/stanislavv/data/libritts/local/dev-other.json'\n",
    "dev_other_sp = set(e['speaker'] for e in nemo.collections.asr.parts.manifest.item_iter(DATA))\n",
    "len(dev_other_sp)"
   ]
  },
  {
   "cell_type": "code",
   "execution_count": 6,
   "metadata": {},
   "outputs": [
    {
     "data": {
      "text/plain": [
       "set()"
      ]
     },
     "execution_count": 6,
     "metadata": {},
     "output_type": "execute_result"
    }
   ],
   "source": [
    "train_all_sp & dev_clean_sp"
   ]
  },
  {
   "cell_type": "code",
   "execution_count": 8,
   "metadata": {},
   "outputs": [
    {
     "data": {
      "text/plain": [
       "set()"
      ]
     },
     "execution_count": 8,
     "metadata": {},
     "output_type": "execute_result"
    }
   ],
   "source": [
    "dev_clean_sp & dev_other_sp"
   ]
  },
  {
   "cell_type": "code",
   "execution_count": 9,
   "metadata": {},
   "outputs": [
    {
     "data": {
      "text/plain": [
       "set()"
      ]
     },
     "execution_count": 9,
     "metadata": {},
     "output_type": "execute_result"
    }
   ],
   "source": [
    "train_all_sp & dev_other_sp"
   ]
  },
  {
   "cell_type": "code",
   "execution_count": 12,
   "metadata": {},
   "outputs": [
    {
     "name": "stdout",
     "output_type": "stream",
     "text": [
      "{'audio_file': '/home/stanislavv/data/libritts/LibriTTS/train-other-500/6358/73329/6358_73329_000053_000006.wav', 'duration': 3.62, 'text': 'A doorway cut near the fireplace showed there was probably an inner chamber.', 'offset': None, 'speaker': 6358, 'id': 188015}\n",
      "{'audio_file': '/home/stanislavv/data/libritts/LibriTTS/train-other-500/6358/73329/6358_73329_000051_000002.wav', 'duration': 10.07, 'text': 'Accustomed to the life of a convent, they could not conceive of any other; and when one morning their bars and gratings were flung down, they had shuddered at finding themselves free.', 'offset': None, 'speaker': 6358, 'id': 188016}\n",
      "{'audio_file': '/home/stanislavv/data/libritts/LibriTTS/train-other-500/6358/73329/6358_73329_000079_000001.wav', 'duration': 17.09, 'text': \"Beneath the dome of saint Peter's in Rome, God had never seemed more majestic to man than he did now in this refuge of poverty and to the eyes of these Christians,--so true is it that between man and God all mediation is unneeded, for his glory descends from himself alone.\", 'offset': None, 'speaker': 6358, 'id': 188017}\n",
      "{'audio_file': '/home/stanislavv/data/libritts/LibriTTS/train-other-500/6358/73329/6358_73329_000098_000004.wav', 'duration': 10.129917, 'text': 'They added to their daily prayers a special prayer for him; night and day these pious hearts made supplication for his happiness, his prosperity, his redemption.', 'offset': None, 'speaker': 6358, 'id': 188018}\n",
      "{'audio_file': '/home/stanislavv/data/libritts/LibriTTS/train-other-500/6358/73329/6358_73329_000079_000000.wav', 'duration': 5.9, 'text': 'At these words, uttered with penetrating unction, a solemn awe seized the participants.', 'offset': None, 'speaker': 6358, 'id': 188019}\n",
      "{'audio_file': '/home/stanislavv/data/libritts/LibriTTS/train-other-500/6358/73329/6358_73329_000079_000004.wav', 'duration': 6.49, 'text': 'The two nuns saw the tears coursing down the manly cheeks of their visitant, and dropping fast on the tiled floor.', 'offset': None, 'speaker': 6358, 'id': 188020}\n",
      "{'audio_file': '/home/stanislavv/data/libritts/LibriTTS/train-other-500/6358/73329/6358_73329_000072_000001.wav', 'duration': 10.160042, 'text': 'The nuns, not as yet understanding who it was of whom the unknown man had spoken, stood with their necks stretched and their faces turned towards the speakers, in an attitude of eager curiosity.', 'offset': None, 'speaker': 6358, 'id': 188021}\n",
      "{'audio_file': '/home/stanislavv/data/libritts/LibriTTS/train-other-500/6358/73329/6358_73329_000064_000000.wav', 'duration': 10.290042, 'text': 'He stopped short, for the extreme distress painted on the faces of the poor nuns made him fear he had gone too far; they trembled violently, and their eyes filled with tears.', 'offset': None, 'speaker': 6358, 'id': 188022}\n",
      "{'audio_file': '/home/stanislavv/data/libritts/LibriTTS/train-other-500/6358/73329/6358_73329_000057_000000.wav', 'duration': 10.700042, 'text': '\"If I ask too much-if I annoy you-I will go away; but believe me, I am heartily devoted to you, and if there is any service that I could render you, you may employ me without fear.', 'offset': None, 'speaker': 6358, 'id': 188023}\n",
      "{'audio_file': '/home/stanislavv/data/libritts/LibriTTS/train-other-500/6358/73329/6358_73329_000077_000000.wav', 'duration': 2.810083, 'text': 'The unknown man knelt piously between the sisters.', 'offset': None, 'speaker': 6358, 'id': 188024}\n",
      "{'audio_file': '/home/stanislavv/data/libritts/LibriTTS/train-other-500/6358/73329/6358_73329_000026_000003.wav', 'duration': 8.44, 'text': 'Take back the box.\" These words, whispered in the pastry cook\\'s ear by the wife of his bosom, chilled the sudden compassion that had warmed him.', 'offset': None, 'speaker': 6358, 'id': 188025}\n",
      "{'audio_file': '/home/stanislavv/data/libritts/LibriTTS/train-other-500/6358/73329/6358_73329_000029_000000.wav', 'duration': 4.24, 'text': '\"Miserable aristocrat!\" he cried, furiously, \"do you want to cut off our heads?', 'offset': None, 'speaker': 6358, 'id': 188026}\n",
      "{'audio_file': '/home/stanislavv/data/libritts/LibriTTS/train-other-500/6358/73329/6358_73329_000028_000000.wav', 'duration': 4.4, 'text': 'The old gentlewoman, passive as a child and half paralyzed with fear, sat down again.', 'offset': None, 'speaker': 6358, 'id': 188027}\n",
      "{'audio_file': '/home/stanislavv/data/libritts/LibriTTS/train-other-500/6358/73329/6358_73329_000015_000006.wav', 'duration': 2.16, 'text': 'Her clothing showed vestiges of luxury.', 'offset': None, 'speaker': 6358, 'id': 188028}\n",
      "{'audio_file': '/home/stanislavv/data/libritts/LibriTTS/train-other-500/6358/73329/6358_73329_000015_000007.wav', 'duration': 8.6, 'text': 'It was of silk, well worn; the mantle was clean, though faded; the laces carefully darned; in short, here were the rags of opulence.', 'offset': None, 'speaker': 6358, 'id': 188029}\n",
      "{'audio_file': '/home/stanislavv/data/libritts/LibriTTS/train-other-500/6358/73329/6358_73329_000062_000000.wav', 'duration': 4.9, 'text': '\"But, Monsieur, we have no priest here,\" cried Sister Martha, hastily, \"and-\"', 'offset': None, 'speaker': 6358, 'id': 188030}\n",
      "{'audio_file': '/home/stanislavv/data/libritts/LibriTTS/train-other-500/6358/73329/6358_73329_000092_000004.wav', 'duration': 0.820083, 'text': 'Remain here.', 'offset': None, 'speaker': 6358, 'id': 188031}\n",
      "{'audio_file': '/home/stanislavv/data/libritts/LibriTTS/train-other-500/6358/73329/6358_73329_000072_000002.wav', 'duration': 10.13, 'text': 'The ecclesiastic looked intently at the stranger; unequivocal anxiety was marked on every feature, and his eyes offered an earnest and even ardent prayer.', 'offset': None, 'speaker': 6358, 'id': 188032}\n",
      "{'audio_file': '/home/stanislavv/data/libritts/LibriTTS/train-other-500/6358/73329/6358_73329_000100_000002.wav', 'duration': 3.409917, 'text': 'The room was prepared for the service; the altar was dressed.', 'offset': None, 'speaker': 6358, 'id': 188033}\n",
      "{'audio_file': '/home/stanislavv/data/libritts/LibriTTS/train-other-500/6358/73329/6358_73329_000073_000000.wav', 'duration': 1.960083, 'text': '\"Yes,\" said the priest at length.', 'offset': None, 'speaker': 6358, 'id': 188034}\n",
      "{'audio_file': '/home/stanislavv/data/libritts/LibriTTS/train-other-500/6358/73329/6358_73329_000037_000003.wav', 'duration': 6.770042, 'text': 'The eyes of the two women, fixed upon the old man, showed plainly that he alone was the object of their extreme anxiety.', 'offset': None, 'speaker': 6358, 'id': 188035}\n",
      "{'audio_file': '/home/stanislavv/data/libritts/LibriTTS/train-other-500/6358/73329/6358_73329_000003_000001.wav', 'duration': 4.06, 'text': 'Snow had fallen throughout the day, so that footfalls could be scarcely heard.', 'offset': None, 'speaker': 6358, 'id': 188036}\n",
      "{'audio_file': '/home/stanislavv/data/libritts/LibriTTS/train-other-500/6358/73329/6358_73329_000015_000000.wav', 'duration': 2.73, 'text': 'There is a poverty which poor people quickly divine.', 'offset': None, 'speaker': 6358, 'id': 188037}\n",
      "{'audio_file': '/home/stanislavv/data/libritts/LibriTTS/train-other-500/6358/73329/6358_73329_000090_000001.wav', 'duration': 12.47, 'text': 'We can only pay for inestimable things by offerings which are likewise beyond all price. Deign to accept, Monsieur, the gift which I now make to you of a holy relic; the day may come when you will know its value.\"', 'offset': None, 'speaker': 6358, 'id': 188038}\n",
      "{'audio_file': '/home/stanislavv/data/libritts/LibriTTS/train-other-500/6358/73329/6358_73329_000037_000002.wav', 'duration': 11.519958, 'text': 'Under the pressure of misfortune or the yoke of persecution a man of courage begins, as it were, by preparing for the sacrifice of himself: he looks upon his days as so many victories won from fate.', 'offset': None, 'speaker': 6358, 'id': 188039}\n",
      "{'audio_file': '/home/stanislavv/data/libritts/LibriTTS/train-other-500/6358/73329/6358_73329_000028_000001.wav', 'duration': 14.39, 'text': 'The shopkeeper almost instantly reappeared; but his face, red by nature and still further scorched by the fires of his bakery, had suddenly turned pale, and he was in the grasp of such terror that his legs shook and his eyes were like those of a drunken man.', 'offset': None, 'speaker': 6358, 'id': 188040}\n",
      "{'audio_file': '/home/stanislavv/data/libritts/LibriTTS/train-other-500/6358/73329/6358_73329_000075_000004.wav', 'duration': 10.180083, 'text': 'These feeble rays scarcely lit up the rest of the chamber, but as their light fell upon the sacred objects it seemed a halo falling from heaven upon the bare and undecorated altar.', 'offset': None, 'speaker': 6358, 'id': 188041}\n",
      "{'audio_file': '/home/stanislavv/data/libritts/LibriTTS/train-other-500/6358/73329/6358_73329_000080_000001.wav', 'duration': 12.470083, 'text': 'The \"Domine salvum fac regem,\" sung in low tones, touched the hearts of these faithful royalists as they thought of the infant king, now captive in the hands of his enemies, for whom this prayer was offered.', 'offset': None, 'speaker': 6358, 'id': 188042}\n",
      "{'audio_file': '/home/stanislavv/data/libritts/LibriTTS/train-other-500/6358/73329/6358_73329_000090_000000.wav', 'duration': 9.060083, 'text': '\"I should blush to offer you any fee whatever in acknowledgment of the funeral service you have just celebrated for the repose of the king\\'s soul and for the discharge of my conscience.', 'offset': None, 'speaker': 6358, 'id': 188043}\n",
      "{'audio_file': '/home/stanislavv/data/libritts/LibriTTS/train-other-500/6358/73329/6358_73329_000044_000000.wav', 'duration': 4.920042, 'text': '\"Shall you not follow us?\" said the two nuns softly, but in a tone of despair.', 'offset': None, 'speaker': 6358, 'id': 188044}\n",
      "{'audio_file': '/home/stanislavv/data/libritts/LibriTTS/train-other-500/6358/73329/6358_73329_000109_000000.wav', 'duration': 2.349875, 'text': '\"Who is that?\" he asked; \"the one standing-\"', 'offset': None, 'speaker': 6358, 'id': 188045}\n",
      "{'audio_file': '/home/stanislavv/data/libritts/LibriTTS/train-other-500/6358/73329/6358_73329_000033_000002.wav', 'duration': 9.089958, 'text': 'Each story had three windows whose frames, rotted by dampness and shrunken by the heat of the sun, told that the outer cold penetrated to the chambers.', 'offset': None, 'speaker': 6358, 'id': 188046}\n",
      "{'audio_file': '/home/stanislavv/data/libritts/LibriTTS/train-other-500/6358/73329/6358_73329_000015_000005.wav', 'duration': 5.56, 'text': 'Hunger and want were traced upon her features in lines as legible as those of timidity and ascetic habits.', 'offset': None, 'speaker': 6358, 'id': 188047}\n",
      "{'audio_file': '/home/stanislavv/data/libritts/LibriTTS/train-other-500/6358/73329/6358_73329_000031_000006.wav', 'duration': 7.61, 'text': 'Thus the old lady, receiving no injury from her apparent persecutor, began to think that he might be a secret friend watching to protect her.', 'offset': None, 'speaker': 6358, 'id': 188048}\n",
      "{'audio_file': '/home/stanislavv/data/libritts/LibriTTS/train-other-500/6358/73329/6358_73329_000052_000003.wav', 'duration': 6.040042, 'text': 'The stranger was very tall and stout, but nothing in his manner or appearance denoted that he was a bad man.', 'offset': None, 'speaker': 6358, 'id': 188049}\n",
      "{'audio_file': '/home/stanislavv/data/libritts/LibriTTS/train-other-500/6358/73329/6358_73329_000051_000000.wav', 'duration': 7.41, 'text': 'He was scarcely hidden when three knocks upon the door made the sisters tremble and consult each other with their eyes, for they dared not speak.', 'offset': None, 'speaker': 6358, 'id': 188050}\n",
      "{'audio_file': '/home/stanislavv/data/libritts/LibriTTS/train-other-500/6358/73329/6358_73329_000080_000000.wav', 'duration': 2.0, 'text': 'The Office of the Dead was recited.', 'offset': None, 'speaker': 6358, 'id': 188051}\n",
      "{'audio_file': '/home/stanislavv/data/libritts/LibriTTS/train-other-500/6358/73329/6358_73329_000053_000005.wav', 'duration': 4.39, 'text': 'Three chairs, two coffers, and a broken chest of drawers completed the furniture of the room.', 'offset': None, 'speaker': 6358, 'id': 188052}\n",
      "{'audio_file': '/home/stanislavv/data/libritts/LibriTTS/train-other-500/6358/73329/6358_73329_000026_000000.wav', 'duration': 1.67, 'text': '\"Suppose he should be a spy.', 'offset': None, 'speaker': 6358, 'id': 188053}\n",
      "{'audio_file': '/home/stanislavv/data/libritts/LibriTTS/train-other-500/6358/73329/6358_73329_000022_000000.wav', 'duration': 2.66, 'text': '\"Is that all?\" said the man with the phrygian cap.', 'offset': None, 'speaker': 6358, 'id': 188054}\n",
      "{'audio_file': '/home/stanislavv/data/libritts/LibriTTS/train-other-500/6358/73329/6358_73329_000087_000002.wav', 'duration': 12.680042, 'text': 'Oh, yes,\" added the venerable man, moving his head from right to left with an expressive motion; \"yes, heavy, indeed! for, standing idle, they made themselves the accomplices of a horrible transgression.\"', 'offset': None, 'speaker': 6358, 'id': 188055}\n",
      "{'audio_file': '/home/stanislavv/data/libritts/LibriTTS/train-other-500/6358/73329/6358_73329_000053_000000.wav', 'duration': 4.02, 'text': 'Two bundles of straw placed on two planks served as beds for the nuns.', 'offset': None, 'speaker': 6358, 'id': 188056}\n",
      "{'audio_file': '/home/stanislavv/data/libritts/LibriTTS/train-other-500/6358/73329/6358_73329_000031_000007.wav', 'duration': 12.989958, 'text': 'She gathered up in her mind the circumstances attending other apparitions of the mysterious stranger as if to find plausible grounds for this consoling opinion, and took pleasure in crediting him with good rather than sinister intentions.', 'offset': None, 'speaker': 6358, 'id': 188057}\n",
      "{'audio_file': '/home/stanislavv/data/libritts/LibriTTS/train-other-500/6358/73329/6358_73329_000046_000000.wav', 'duration': 3.400042, 'text': 'The nuns were silent, looking at him with devout admiration.', 'offset': None, 'speaker': 6358, 'id': 188058}\n",
      "{'audio_file': '/home/stanislavv/data/libritts/LibriTTS/train-other-500/6358/73329/6358_73329_000012_000001.wav', 'duration': 5.94, 'text': 'Seeing a phrygian cap upon his head, a cry escaped her:--\"Ah! it is you who have betrayed me!\"', 'offset': None, 'speaker': 6358, 'id': 188059}\n",
      "{'audio_file': '/home/stanislavv/data/libritts/LibriTTS/train-other-500/6358/73329/6358_73329_000069_000000.wav', 'duration': 4.99, 'text': '\"I cannot believe, Monsieur,\" he said courteously, \"that you are one of our persecutors.', 'offset': None, 'speaker': 6358, 'id': 188060}\n",
      "{'audio_file': '/home/stanislavv/data/libritts/LibriTTS/train-other-500/6358/73329/6358_73329_000061_000000.wav', 'duration': 2.430083, 'text': '\"That is not his name, I think,\" he answered.', 'offset': None, 'speaker': 6358, 'id': 188061}\n",
      "{'audio_file': '/home/stanislavv/data/libritts/LibriTTS/train-other-500/6358/73329/6358_73329_000106_000001.wav', 'duration': 1.560042, 'text': '\"What you say is not Christian.\"', 'offset': None, 'speaker': 6358, 'id': 188062}\n",
      "{'audio_file': '/home/stanislavv/data/libritts/LibriTTS/train-other-500/6358/73329/6358_73329_000098_000000.wav', 'duration': 5.25, 'text': 'The three prisoners soon perceived that, in spite of the Terror, a powerful arm was stretched over them.', 'offset': None, 'speaker': 6358, 'id': 188063}\n",
      "{'audio_file': '/home/stanislavv/data/libritts/LibriTTS/train-other-500/6358/73329/6358_73329_000092_000001.wav', 'duration': 3.199958, 'text': 'He is, however, secretly attached to the Bourbons.', 'offset': None, 'speaker': 6358, 'id': 188064}\n",
      "{'audio_file': '/home/stanislavv/data/libritts/LibriTTS/train-other-500/6358/73329/6358_73329_000032_000006.wav', 'duration': 6.56, 'text': 'Fear gave eyes to the old gentlewoman, who now fancied that she saw something sinister in the features of this unknown man.', 'offset': None, 'speaker': 6358, 'id': 188065}\n",
      "{'audio_file': '/home/stanislavv/data/libritts/LibriTTS/train-other-500/6358/73329/6358_73329_000076_000000.wav', 'duration': 1.200083, 'text': 'The floor was damp.', 'offset': None, 'speaker': 6358, 'id': 188066}\n",
      "{'audio_file': '/home/stanislavv/data/libritts/LibriTTS/train-other-500/6358/73329/6358_73329_000005_000002.wav', 'duration': 8.17, 'text': 'Then, without looking at the lady, she came rapidly from behind the counter, and went towards the back shop to call her husband, who appeared at once.', 'offset': None, 'speaker': 6358, 'id': 188067}\n",
      "{'audio_file': '/home/stanislavv/data/libritts/LibriTTS/train-other-500/6358/73329/6358_73329_000082_000000.wav', 'duration': 4.660042, 'text': '\"My son, if you have steeped your hands in the blood of the martyr king, confess yourself to me.', 'offset': None, 'speaker': 6358, 'id': 188068}\n",
      "{'audio_file': '/home/stanislavv/data/libritts/LibriTTS/train-other-500/6358/73329/6358_73329_000058_000001.wav', 'duration': 5.670042, 'text': 'The unknown gave vent to an expression of joy, mingled with melancholy, as he understood this gesture.', 'offset': None, 'speaker': 6358, 'id': 188069}\n",
      "{'audio_file': '/home/stanislavv/data/libritts/LibriTTS/train-other-500/6358/73329/6358_73329_000076_000005.wav', 'duration': 11.12, 'text': 'Close to this vase, which was a gift of royal munificence, the bread and wine of the consecrated sacrifice were contained in two glass tumblers scarcely worthy of the meanest tavern.', 'offset': None, 'speaker': 6358, 'id': 188070}\n",
      "{'audio_file': '/home/stanislavv/data/libritts/LibriTTS/train-other-500/6358/73329/6358_73329_000023_000002.wav', 'duration': 1.77, 'text': 'But the wife meantime had reflected.', 'offset': None, 'speaker': 6358, 'id': 188071}\n",
      "{'audio_file': '/home/stanislavv/data/libritts/LibriTTS/train-other-500/6358/73329/6358_73329_000038_000000.wav', 'duration': 4.589958, 'text': '\"Why distrust God, my sisters?\" he said, in a hollow but impressive voice.', 'offset': None, 'speaker': 6358, 'id': 188072}\n",
      "{'audio_file': '/home/stanislavv/data/libritts/LibriTTS/train-other-500/6358/73329/6358_73329_000100_000004.wav', 'duration': 5.419917, 'text': 'Mademoiselle de Langeais even went down a few stairs that she might catch the first glimpse of their benefactor.', 'offset': None, 'speaker': 6358, 'id': 188073}\n",
      "{'audio_file': '/home/stanislavv/data/libritts/LibriTTS/train-other-500/6358/73329/6358_73329_000051_000003.wav', 'duration': 8.429958, 'text': 'It is easy to imagine the species of imbecility which the events of the Revolution, enacted before their eyes, had produced in these innocent souls.', 'offset': None, 'speaker': 6358, 'id': 188074}\n",
      "{'audio_file': '/home/stanislavv/data/libritts/LibriTTS/train-other-500/6358/73329/6358_73329_000005_000000.wav', 'duration': 15.96, 'text': 'As she lifted the creaking latch of the door, a young woman, who was at work on a piece of embroidery, looked up and recognized through the glass panes the antiquated mantle of purple silk which wrapped the old lady, and hastened to pull open a drawer, as if to take from thence something that she had to give her.', 'offset': None, 'speaker': 6358, 'id': 188075}\n",
      "{'audio_file': '/home/stanislavv/data/libritts/LibriTTS/train-other-500/6358/73329/6358_73329_000026_000002.wav', 'duration': 0.78, 'text': \"Don't go.\", 'offset': None, 'speaker': 6358, 'id': 188076}\n",
      "{'audio_file': '/home/stanislavv/data/libritts/LibriTTS/train-other-500/6358/73329/6358_73329_000089_000000.wav', 'duration': 1.25, 'text': 'The priest hesitated.', 'offset': None, 'speaker': 6358, 'id': 188077}\n",
      "{'audio_file': '/home/stanislavv/data/libritts/LibriTTS/train-other-500/6358/73329/6358_73329_000075_000000.wav', 'duration': 12.050042, 'text': 'Two hours later the stranger returned, knocked cautiously at the door of the garret, and was admitted by Mademoiselle de Langeais, who led him to the inner chamber of the humble refuge, where all was in readiness for the ceremony.', 'offset': None, 'speaker': 6358, 'id': 188078}\n",
      "{'audio_file': '/home/stanislavv/data/libritts/LibriTTS/train-other-500/6358/73329/6358_73329_000100_000001.wav', 'duration': 3.23, 'text': 'At midnight the heavy steps resounded up the wooden stairway.', 'offset': None, 'speaker': 6358, 'id': 188079}\n",
      "{'audio_file': '/home/stanislavv/data/libritts/LibriTTS/train-other-500/6358/73329/6358_73329_000051_000005.wav', 'duration': 7.030042, 'text': 'So it happened that in presence of immediate danger they were dumb and passive, and could think of no other defence than Christian resignation.', 'offset': None, 'speaker': 6358, 'id': 188080}\n",
      "{'audio_file': '/home/stanislavv/data/libritts/LibriTTS/train-other-500/6358/73329/6358_73329_000074_000000.wav', 'duration': 6.030042, 'text': 'The unknown shivered; a joy both sweet and solemn seemed to rise in his soul above some secret grief.', 'offset': None, 'speaker': 6358, 'id': 188081}\n",
      "{'audio_file': '/home/stanislavv/data/libritts/LibriTTS/train-other-500/6358/73329/6358_73329_000076_000001.wav', 'duration': 12.270042, 'text': 'The attic roof, which sloped sharply on both sides of the room, was full of chinks through which the wind penetrated. Nothing could be less stately, yet nothing was ever more solemn than this lugubrious ceremony.', 'offset': None, 'speaker': 6358, 'id': 188082}\n",
      "{'audio_file': '/home/stanislavv/data/libritts/LibriTTS/train-other-500/6358/73329/6358_73329_000099_000001.wav', 'duration': 13.069833, 'text': 'The circumstances attending the appearance of the stranger were a ceaseless topic of conversation and of endless conjecture, and soon became a benefit of a special kind, from the occupation and distraction of mind which was thus produced.', 'offset': None, 'speaker': 6358, 'id': 188083}\n",
      "{'audio_file': '/home/stanislavv/data/libritts/LibriTTS/train-other-500/6358/73329/6358_73329_000003_000002.wav', 'duration': 1.27, 'text': 'The streets were deserted.', 'offset': None, 'speaker': 6358, 'id': 188084}\n",
      "{'audio_file': '/home/stanislavv/data/libritts/LibriTTS/train-other-500/6358/73329/6358_73329_000004_000000.wav', 'duration': 1.43, 'text': 'The old lady had met no one.', 'offset': None, 'speaker': 6358, 'id': 188085}\n",
      "{'audio_file': '/home/stanislavv/data/libritts/LibriTTS/train-other-500/6358/73329/6358_73329_000020_000000.wav', 'duration': 2.96, 'text': '\"The devil is not so black as he is painted,\" cried the husband.', 'offset': None, 'speaker': 6358, 'id': 188086}\n",
      "{'audio_file': '/home/stanislavv/data/libritts/LibriTTS/train-other-500/6358/73329/6358_73329_000094_000003.wav', 'duration': 2.769917, 'text': 'As she unfolded it they saw dark stains.', 'offset': None, 'speaker': 6358, 'id': 188087}\n",
      "{'audio_file': '/home/stanislavv/data/libritts/LibriTTS/train-other-500/6358/73329/6358_73329_000083_000000.wav', 'duration': 9.930042, 'text': 'At the first words of the ecclesiastic an involuntary motion of terror escaped the stranger; but he quickly recovered himself, and looked at the astonished priest with calm assurance.', 'offset': None, 'speaker': 6358, 'id': 188088}\n",
      "{'audio_file': '/home/stanislavv/data/libritts/LibriTTS/train-other-500/6358/73329/6358_73329_000092_000002.wav', 'duration': 5.400042, 'text': 'He was formerly huntsman to Monseigneur the Prince de Conti, to whom he owes everything.', 'offset': None, 'speaker': 6358, 'id': 188089}\n",
      "{'audio_file': '/home/stanislavv/data/libritts/LibriTTS/train-other-500/6358/73329/6358_73329_000049_000000.wav', 'duration': 7.539958, 'text': 'This time it was easy to hear the steps of a man sounding through the deep silence on the rough stairs, which were caked with patches of hardened mud.', 'offset': None, 'speaker': 6358, 'id': 188090}\n",
      "{'audio_file': '/home/stanislavv/data/libritts/LibriTTS/train-other-500/6358/73329/6358_73329_000010_000001.wav', 'duration': 4.76, 'text': 'Her eyes were fixed on the glass of the shop window, as if some alarming object were painted upon it.', 'offset': None, 'speaker': 6358, 'id': 188091}\n",
      "{'audio_file': '/home/stanislavv/data/libritts/LibriTTS/train-other-500/6358/73329/6358_73329_000087_000000.wav', 'duration': 6.340083, 'text': '\"Reflect, my son, that something more than taking no part in that great crime is needed to absolve from guilt.', 'offset': None, 'speaker': 6358, 'id': 188092}\n",
      "{'audio_file': '/home/stanislavv/data/libritts/LibriTTS/train-other-500/6358/73329/6358_73329_000088_000000.wav', 'duration': 6.130042, 'text': '\"Do you believe,\" asked the stranger, in a surprised tone, \"that even an indirect participation will be punished?', 'offset': None, 'speaker': 6358, 'id': 188093}\n",
      "{'audio_file': '/home/stanislavv/data/libritts/LibriTTS/train-other-500/6358/73329/6358_73329_000015_000003.wav', 'duration': 5.55, 'text': 'The hands of the poor woman trembled as she offered it, and her eyes rested upon it sadly, yet not with avarice.', 'offset': None, 'speaker': 6358, 'id': 188094}\n",
      "{'audio_file': '/home/stanislavv/data/libritts/LibriTTS/train-other-500/6358/73329/6358_73329_000071_000000.wav', 'duration': 10.12, 'text': '\"My father, I came to ask you to celebrate a mass for the repose of the soul-of-of a sacred being whose body can never lie in holy ground.\"', 'offset': None, 'speaker': 6358, 'id': 188095}\n",
      "{'audio_file': '/home/stanislavv/data/libritts/LibriTTS/train-other-500/6358/73329/6358_73329_000070_000000.wav', 'duration': 7.580083, 'text': 'The saintly confidence of the old man, and the nobility of mind imprinted on his countenance, might have disarmed even an assassin.', 'offset': None, 'speaker': 6358, 'id': 188096}\n",
      "{'audio_file': '/home/stanislavv/data/libritts/LibriTTS/train-other-500/6358/73329/6358_73329_000088_000001.wav', 'duration': 2.969958, 'text': 'The soldier ordered to form the line-do you think he was guilty?\"', 'offset': None, 'speaker': 6358, 'id': 188097}\n",
      "{'audio_file': '/home/stanislavv/data/libritts/LibriTTS/train-other-500/6358/73329/6358_73329_000050_000000.wav', 'duration': 3.899958, 'text': '\"You can shut me in, Sister Agatha,\" he said, in a smothered voice.', 'offset': None, 'speaker': 6358, 'id': 188098}\n",
      "{'audio_file': '/home/stanislavv/data/libritts/LibriTTS/train-other-500/6358/73329/6358_73329_000096_000000.wav', 'duration': 2.85, 'text': '\"It is marked with the royal crown!\" cried the other nun.', 'offset': None, 'speaker': 6358, 'id': 188099}\n",
      "{'audio_file': '/home/stanislavv/data/libritts/LibriTTS/train-other-500/6358/73329/6358_73329_000031_000003.wav', 'duration': 9.25, 'text': 'Presently she continued her walk slowly; the man measured his step by hers, and kept at the same distance behind her; he seemed to move like her shadow.', 'offset': None, 'speaker': 6358, 'id': 188100}\n",
      "{'audio_file': '/home/stanislavv/data/libritts/LibriTTS/train-other-500/6358/73329/6358_73329_000006_000000.wav', 'duration': 7.67, 'text': '\"Where have you put ---- ----?\" she asked him, mysteriously, calling his attention to the old lady by a glance, and not concluding her sentence.', 'offset': None, 'speaker': 6358, 'id': 188101}\n",
      "{'audio_file': '/home/stanislavv/data/libritts/LibriTTS/train-other-500/6358/73329/6358_73329_000051_000004.wav', 'duration': 17.360083, 'text': 'Quite incapable of harmonizing their conventual ideas with the exigencies of ordinary life, not even comprehending their own situation, they were like children who had always been cared for, and who now, torn from their maternal providence, had taken to prayers as other children take to tears.', 'offset': None, 'speaker': 6358, 'id': 188102}\n",
      "{'audio_file': '/home/stanislavv/data/libritts/LibriTTS/train-other-500/6358/73329/6358_73329_000032_000003.wav', 'duration': 3.68, 'text': 'This dismal region seems the natural home of poverty and despair.', 'offset': None, 'speaker': 6358, 'id': 188103}\n",
      "{'audio_file': '/home/stanislavv/data/libritts/LibriTTS/train-other-500/6358/73329/6358_73329_000058_000002.wav', 'duration': 3.340083, 'text': 'He waited respectfully till the sisters were seated, and then obeyed it.', 'offset': None, 'speaker': 6358, 'id': 188104}\n",
      "{'audio_file': '/home/stanislavv/data/libritts/LibriTTS/train-other-500/6358/73329/6358_73329_000091_000002.wav', 'duration': 3.09, 'text': 'They re-entered the outer room, where the two nuns were waiting for them.', 'offset': None, 'speaker': 6358, 'id': 188105}\n",
      "{'audio_file': '/home/stanislavv/data/libritts/LibriTTS/train-other-500/6358/73329/6358_73329_000080_000002.wav', 'duration': 6.960083, 'text': 'The unknown shuddered; perhaps he feared an impending crime in which he would be called to take an unwilling part.', 'offset': None, 'speaker': 6358, 'id': 188106}\n",
      "{'audio_file': '/home/stanislavv/data/libritts/LibriTTS/train-other-500/6358/73329/6358_73329_000069_000001.wav', 'duration': 0.819958, 'text': 'I trust you.', 'offset': None, 'speaker': 6358, 'id': 188107}\n",
      "{'audio_file': '/home/stanislavv/data/libritts/LibriTTS/train-other-500/6358/73329/6358_73329_000023_000004.wav', 'duration': 14.63, 'text': 'Uneasy, and alarmed lest her husband should be mixed up in some dangerous affair, she pulled him by the flap of his coat, intending to stop him; but the worthy man, obeying the impulse of charity, promptly offered to escort the poor lady to her home.', 'offset': None, 'speaker': 6358, 'id': 188108}\n",
      "{'audio_file': '/home/stanislavv/data/libritts/LibriTTS/train-other-500/6358/73329/6358_73329_000027_000000.wav', 'duration': 5.94, 'text': '\"Well, well, I will just say two words to the man and get rid of him,\" he said, opening the door and hurrying out.', 'offset': None, 'speaker': 6358, 'id': 188109}\n",
      "{'audio_file': '/home/stanislavv/data/libritts/LibriTTS/train-other-500/6358/73329/6358_73329_000092_000003.wav', 'duration': 5.09, 'text': 'As long as you stay in this house you are in greater safety than you can be in any other part of France.', 'offset': None, 'speaker': 6358, 'id': 188110}\n",
      "{'audio_file': '/home/stanislavv/data/libritts/LibriTTS/train-other-500/6358/73329/6358_73329_000031_000000.wav', 'duration': 11.069917, 'text': 'As soon as the poor lady found herself alone in the street she began to walk rapidly; but her strength soon gave way, for she once more heard the snow creaking under the footsteps of the spy as he trod heavily upon it.', 'offset': None, 'speaker': 6358, 'id': 188111}\n",
      "{'audio_file': '/home/stanislavv/data/libritts/LibriTTS/train-other-500/6358/73329/6358_73329_000097_000000.wav', 'duration': 3.38, 'text': 'The sisters let fall the precious relic with gestures of horror.', 'offset': None, 'speaker': 6358, 'id': 188112}\n",
      "{'audio_file': '/home/stanislavv/data/libritts/LibriTTS/train-other-500/6358/73329/6358_73329_000032_000007.wav', 'duration': 12.79, 'text': 'All her terrors revived, and profiting by the curious hesitation that had seized him, she glided like a shadow to the doorway of the solitary dwelling, touched a spring, and disappeared with phantasmagoric rapidity.', 'offset': None, 'speaker': 6358, 'id': 188113}\n",
      "{'audio_file': '/home/stanislavv/data/libritts/LibriTTS/train-other-500/6358/73329/6358_73329_000113_000000.wav', 'duration': 6.899917, 'text': '\"He must have given me,\" said the old priest, \"the handkerchief with which the king wiped his brow as he went to his martyrdom.', 'offset': None, 'speaker': 6358, 'id': 188114}\n",
      "{'audio_file': '/home/stanislavv/data/libritts/LibriTTS/train-other-500/6358/73329/6358_73329_000043_000000.wav', 'duration': 3.539958, 'text': '\"Do not be frightened,\" said the priest, \"even if some one asks to enter.', 'offset': None, 'speaker': 6358, 'id': 188115}\n",
      "{'audio_file': '/home/stanislavv/data/libritts/LibriTTS/train-other-500/6358/73329/6358_73329_000004_000007.wav', 'duration': 3.6, 'text': 'The hope of escaping such a spy lent strength to her feeble limbs.', 'offset': None, 'speaker': 6358, 'id': 188116}\n",
      "{'audio_file': '/home/stanislavv/data/libritts/LibriTTS/train-other-500/6358/73329/6358_73329_000033_000006.wav', 'duration': 6.72, 'text': 'She knocked furtively at the door of a lodging under the roof, and sat hastily down on a chair which an old man offered her.', 'offset': None, 'speaker': 6358, 'id': 188117}\n",
      "{'audio_file': '/home/stanislavv/data/libritts/LibriTTS/train-other-500/6358/73329/6358_73329_000024_000000.wav', 'duration': 5.2, 'text': '\"It seems that the man who has given her this fright is prowling outside,\" said his wife nervously.', 'offset': None, 'speaker': 6358, 'id': 188118}\n",
      "{'audio_file': '/home/stanislavv/data/libritts/LibriTTS/train-other-500/6358/73329/6358_73329_000008_000000.wav', 'duration': 9.89, 'text': 'Surprised at the silence and immobility of her customer, the wife came forward, and was seized with a sudden movement of compassion as well as of curiosity when she looked at her.', 'offset': None, 'speaker': 6358, 'id': 188119}\n",
      "{'audio_file': '/home/stanislavv/data/libritts/LibriTTS/train-other-500/6358/73329/6358_73329_000034_000000.wav', 'duration': 2.15, 'text': '\"Hide! hide yourself!\" she cried.', 'offset': None, 'speaker': 6358, 'id': 188120}\n",
      "{'audio_file': '/home/stanislavv/data/libritts/LibriTTS/train-other-500/6358/73329/6358_73329_000089_000001.wav', 'duration': 20.14, 'text': 'Glad of the dilemma that placed this puritan of royalty between the dogma of passive obedience, which according to the partisans of monarchy should dominate the military system, and the other dogma, equally imperative, which consecrates the person of the king, the stranger hastened to accept the hesitation of the priest as a solution of the doubts that seemed to trouble him.', 'offset': None, 'speaker': 6358, 'id': 188121}\n",
      "{'audio_file': '/home/stanislavv/data/libritts/LibriTTS/train-other-500/6358/73329/6358_73329_000072_000000.wav', 'duration': 2.050042, 'text': 'The priest involuntarily shuddered.', 'offset': None, 'speaker': 6358, 'id': 188122}\n",
      "{'audio_file': '/home/stanislavv/data/libritts/LibriTTS/train-other-500/6358/73329/6358_73329_000086_000000.wav', 'duration': 14.280042, 'text': 'He paused a moment, during which he examined afresh his penitent; then, persisting in the belief that he was one of those timid members of the Assembly who sacrificed the inviolate and sacred head to save their own, he resumed in a grave voice:--', 'offset': None, 'speaker': 6358, 'id': 188123}\n",
      "{'audio_file': '/home/stanislavv/data/libritts/LibriTTS/train-other-500/6358/73329/6358_73329_000012_000000.wav', 'duration': 5.96, 'text': '\"It is nothing, nothing, my friends,\" she answered in a gentle voice, as she raised her eyes to give the man a thankful look.', 'offset': None, 'speaker': 6358, 'id': 188124}\n",
      "{'audio_file': '/home/stanislavv/data/libritts/LibriTTS/train-other-500/6358/73329/6358_73329_000013_000000.wav', 'duration': 10.46, 'text': 'The young woman and her husband replied by a deprecating gesture of horror which caused the unknown lady to blush, either for her harsh suspicion or from the relief of feeling it unjust.', 'offset': None, 'speaker': 6358, 'id': 188125}\n",
      "{'audio_file': '/home/stanislavv/data/libritts/LibriTTS/train-other-500/6358/73329/6358_73329_000100_000003.wav', 'duration': 3.839833, 'text': 'This time the sisters opened the door and hastened to light the entrance.', 'offset': None, 'speaker': 6358, 'id': 188126}\n",
      "{'audio_file': '/home/stanislavv/data/libritts/LibriTTS/train-other-500/6358/73329/6358_73329_000077_000005.wav', 'duration': 6.13, 'text': 'It was the purest of all devotions; an act of wonderful loyalty accomplished without one thought of self.', 'offset': None, 'speaker': 6358, 'id': 188127}\n",
      "{'audio_file': '/home/stanislavv/data/libritts/LibriTTS/train-other-500/6358/73329/6358_73329_000004_000004.wav', 'duration': 7.94, 'text': 'When well beyond the horizontal rays of light thrown across the pavement, she turned abruptly and saw a human form looming through the fog.', 'offset': None, 'speaker': 6358, 'id': 188128}\n",
      "{'audio_file': '/home/stanislavv/data/libritts/LibriTTS/train-other-500/6358/73329/6358_73329_000101_000001.wav', 'duration': 1.5, 'text': '\"Come, you are expected!\"', 'offset': None, 'speaker': 6358, 'id': 188129}\n",
      "{'audio_file': '/home/stanislavv/data/libritts/LibriTTS/train-other-500/6358/73329/6358_73329_000014_000002.wav', 'duration': 2.65, 'text': '\"Here is the sum we agreed upon,\" she added.', 'offset': None, 'speaker': 6358, 'id': 188130}\n",
      "{'audio_file': '/home/stanislavv/data/libritts/LibriTTS/train-other-500/6358/73329/6358_73329_000098_000005.wav', 'duration': 6.75, 'text': 'They prayed that God would keep his feet from snares and save him from his enemies, and grant him a long and peaceful life.', 'offset': None, 'speaker': 6358, 'id': 188131}\n",
      "{'audio_file': '/home/stanislavv/data/libritts/LibriTTS/train-other-500/6358/73329/6358_73329_000008_000001.wav', 'duration': 11.17, 'text': 'Though the complexion of the old gentlewoman was naturally livid, like that of a person vowed to secret austerities, it was easy to see that some recent alarm had spread an unusual paleness over her features.', 'offset': None, 'speaker': 6358, 'id': 188132}\n",
      "{'audio_file': '/home/stanislavv/data/libritts/LibriTTS/train-other-500/6358/73329/6358_73329_000055_000001.wav', 'duration': 1.76, 'text': 'I have come to ask a favor of you.\"', 'offset': None, 'speaker': 6358, 'id': 188133}\n",
      "{'audio_file': '/home/stanislavv/data/libritts/LibriTTS/train-other-500/6358/73329/6358_73329_000095_000000.wav', 'duration': 2.63, 'text': '\"That is blood!\" exclaimed the priest.', 'offset': None, 'speaker': 6358, 'id': 188134}\n",
      "{'audio_file': '/home/stanislavv/data/libritts/LibriTTS/train-other-500/6358/73329/6358_73329_000076_000006.wav', 'duration': 4.579958, 'text': 'In default of a missal the priest had placed his breviary on a corner of the altar.', 'offset': None, 'speaker': 6358, 'id': 188135}\n",
      "{'audio_file': '/home/stanislavv/data/libritts/LibriTTS/train-other-500/6358/73329/6358_73329_000031_000002.wav', 'duration': 6.170042, 'text': 'She dared not speak to him, nor even look at him; either because of her terror, or from some lack of natural intelligence.', 'offset': None, 'speaker': 6358, 'id': 188136}\n",
      "{'audio_file': '/home/stanislavv/data/libritts/LibriTTS/train-other-500/6358/73329/6358_73329_000076_000003.wav', 'duration': 7.49, 'text': 'The grandeur of the occasion contrasted vividly with the poverty of its circumstances, and roused a feeling of religious terror.', 'offset': None, 'speaker': 6358, 'id': 188137}\n",
      "{'audio_file': '/home/stanislavv/data/libritts/LibriTTS/train-other-500/6358/73329/6358_73329_000004_000001.wav', 'duration': 7.67, 'text': 'Her failing sight hindered her from perceiving in the distance a few pedestrians, sparsely scattered like shadows, along the broad road of the faubourg.', 'offset': None, 'speaker': 6358, 'id': 188138}\n",
      "{'audio_file': '/home/stanislavv/data/libritts/LibriTTS/train-other-500/6358/73329/6358_73329_000097_000001.wav', 'duration': 9.440042, 'text': 'To these ingenuous souls the mystery that wrapped their unknown visitor became inexplicable, and the priest from that day forth forbade himself to search for its solution.', 'offset': None, 'speaker': 6358, 'id': 188139}\n",
      "{'audio_file': '/home/stanislavv/data/libritts/LibriTTS/train-other-500/6358/73329/6358_73329_000054_000001.wav', 'duration': 7.660042, 'text': 'An expression of pity crossed his features, and as he threw a kind glance upon the frightened women he seemed as much embarrassed as they.', 'offset': None, 'speaker': 6358, 'id': 188140}\n",
      "{'audio_file': '/home/stanislavv/data/libritts/LibriTTS/train-other-500/6358/73329/6358_73329_000033_000003.wav', 'duration': 4.04, 'text': 'The lonely house seemed like an ancient tower that time had forgotten to destroy.', 'offset': None, 'speaker': 6358, 'id': 188141}\n",
      "{'audio_file': '/home/stanislavv/data/libritts/LibriTTS/train-other-500/6358/73329/6358_73329_000049_000001.wav', 'duration': 5.849958, 'text': 'The priest slid with difficulty into a narrow hiding place, and the nuns hastily threw articles of apparel over him.', 'offset': None, 'speaker': 6358, 'id': 188142}\n",
      "{'audio_file': '/home/stanislavv/data/libritts/LibriTTS/train-other-500/6358/73329/6358_73329_000057_000001.wav', 'duration': 4.48, 'text': 'I, and I alone, perhaps, am above law-since there is no longer a king.\"', 'offset': None, 'speaker': 6358, 'id': 188143}\n",
      "{'audio_file': '/home/stanislavv/data/libritts/LibriTTS/train-other-500/6358/73329/6358_73329_000070_000001.wav', 'duration': 10.909917, 'text': 'He who thus mysteriously agitated this home of penury and resignation stood contemplating the group before him; then he addressed the priest in a trustful tone, with these words:--', 'offset': None, 'speaker': 6358, 'id': 188144}\n",
      "{'audio_file': '/home/stanislavv/data/libritts/LibriTTS/train-other-500/6358/73329/6358_73329_000094_000000.wav', 'duration': 4.430042, 'text': 'To the two simple minded women this event had all the interest of a romance.', 'offset': None, 'speaker': 6358, 'id': 188145}\n",
      "{'audio_file': '/home/stanislavv/data/libritts/LibriTTS/train-other-500/6358/73329/6358_73329_000052_000001.wav', 'duration': 7.460042, 'text': 'The two nuns trembled when they recognized the individual who for some days had watched the house and seemed to make inquiries about its inmates.', 'offset': None, 'speaker': 6358, 'id': 188146}\n",
      "{'audio_file': '/home/stanislavv/data/libritts/LibriTTS/train-other-500/6358/73329/6358_73329_000102_000000.wav', 'duration': 9.949917, 'text': 'The man raised his head, gave the nun a gloomy look, and made no answer. She felt as though an icy garment had fallen upon her, and she kept silence.', 'offset': None, 'speaker': 6358, 'id': 188147}\n",
      "{'audio_file': '/home/stanislavv/data/libritts/LibriTTS/train-other-500/6358/73329/6358_73329_000033_000000.wav', 'duration': 6.76, 'text': 'The man, standing motionless, gazed at the house, which was, as it were, a type of the wretched buildings of the neighborhood.', 'offset': None, 'speaker': 6358, 'id': 188148}\n",
      "{'audio_file': '/home/stanislavv/data/libritts/LibriTTS/train-other-500/6358/73329/6358_73329_000004_000005.wav', 'duration': 1.98, 'text': 'The indistinct glimpse was enough.', 'offset': None, 'speaker': 6358, 'id': 188149}\n",
      "{'audio_file': '/home/stanislavv/data/libritts/LibriTTS/train-other-500/6358/73329/6358_73329_000053_000002.wav', 'duration': 6.420042, 'text': 'The fire on the hearth was very low, and a few sticks of wood piled in a corner of the room testified to the poverty of the occupants.', 'offset': None, 'speaker': 6358, 'id': 188150}\n",
      "{'audio_file': '/home/stanislavv/data/libritts/LibriTTS/train-other-500/6358/73329/6358_73329_000004_000003.wav', 'duration': 13.51, 'text': 'The thought seized her mind that she had been listening to it unconsciously for some time. Terrified at the idea of being followed, she tried to walk faster to reach a lighted shop window, and settle the doubt which thus assailed her.', 'offset': None, 'speaker': 6358, 'id': 188151}\n",
      "{'audio_file': '/home/stanislavv/data/libritts/LibriTTS/train-other-500/6358/73329/6358_73329_000035_000000.wav', 'duration': 3.389958, 'text': '\"What has happened?\" asked another old woman sitting near the fire.', 'offset': None, 'speaker': 6358, 'id': 188152}\n",
      "{'audio_file': '/home/stanislavv/data/libritts/LibriTTS/train-other-500/6358/73329/6358_73329_000089_000002.wav', 'duration': 4.85, 'text': 'Then, so as not to allow the old Jansenist time for further reflection, he said quickly:--', 'offset': None, 'speaker': 6358, 'id': 188153}\n",
      "{'audio_file': '/home/stanislavv/data/libritts/LibriTTS/train-other-500/6358/73329/6358_73329_000100_000000.wav', 'duration': 3.389875, 'text': 'That night, so impatiently awaited, came at length.', 'offset': None, 'speaker': 6358, 'id': 188154}\n",
      "{'audio_file': '/home/stanislavv/data/libritts/LibriTTS/train-other-500/6358/73329/6358_73329_000023_000003.wav', 'duration': 4.68, 'text': 'Reflection, as often happens in many hearts, had closed the open hand of her benevolence.', 'offset': None, 'speaker': 6358, 'id': 188155}\n",
      "{'audio_file': '/home/stanislavv/data/libritts/LibriTTS/train-other-500/6358/73329/6358_73329_000003_000003.wav', 'duration': 6.13, 'text': 'The natural fear inspired by such stillness was deepened by the terror to which all France was then a prey.', 'offset': None, 'speaker': 6358, 'id': 188156}\n",
      "{'audio_file': '/home/stanislavv/data/libritts/LibriTTS/train-other-500/6358/73329/6358_73329_000055_000000.wav', 'duration': 7.520042, 'text': 'Then he paused, but resumed:--\"My sisters, if harm should ever happen to you, be sure that I shall not have contributed to it.', 'offset': None, 'speaker': 6358, 'id': 188157}\n",
      "{'audio_file': '/home/stanislavv/data/libritts/LibriTTS/train-other-500/6358/73329/6358_73329_000073_000001.wav', 'duration': 8.090083, 'text': '\"Return here at midnight, and I shall be ready to celebrate the only funeral service that we are able to offer in expiation of the crime of which you speak.\"', 'offset': None, 'speaker': 6358, 'id': 188158}\n",
      "{'audio_file': '/home/stanislavv/data/libritts/LibriTTS/train-other-500/6358/73329/6358_73329_000094_000002.wav', 'duration': 6.25, 'text': 'Mademoiselle de Langeais opened the box and took from it a handkerchief of extreme fineness, stained with sweat.', 'offset': None, 'speaker': 6358, 'id': 188159}\n",
      "{'audio_file': '/home/stanislavv/data/libritts/LibriTTS/train-other-500/6358/73329/6358_73329_000038_000002.wav', 'duration': 6.260042, 'text': 'If it pleased him to save me from that butchery, it was doubtless for some destiny which I shall accept without a murmur.', 'offset': None, 'speaker': 6358, 'id': 188160}\n",
      "{'audio_file': '/home/stanislavv/data/libritts/LibriTTS/train-other-500/6358/73329/6358_73329_000042_000001.wav', 'duration': 1.209958, 'text': 'The noise ceased.', 'offset': None, 'speaker': 6358, 'id': 188161}\n",
      "{'audio_file': '/home/stanislavv/data/libritts/LibriTTS/train-other-500/6358/73329/6358_73329_000017_000000.wav', 'duration': 4.26, 'text': '\"Would Madame like to take something?\" asked the wife, cutting short her husband\\'s speech.', 'offset': None, 'speaker': 6358, 'id': 188162}\n",
      "{'audio_file': '/home/stanislavv/data/libritts/LibriTTS/train-other-500/6358/73329/6358_73329_000081_000000.wav', 'duration': 5.0, 'text': 'When the service was over, the priest made a sign to the nuns, who withdrew to the outer room.', 'offset': None, 'speaker': 6358, 'id': 188163}\n",
      "{'audio_file': '/home/stanislavv/data/libritts/LibriTTS/train-other-500/6358/73329/6358_73329_000102_000002.wav', 'duration': 6.449958, 'text': 'They saw that this mysterious being was resolved to remain a stranger to them, and they acquiesced with resignation.', 'offset': None, 'speaker': 6358, 'id': 188164}\n",
      "{'audio_file': '/home/stanislavv/data/libritts/LibriTTS/train-other-500/6358/73329/6358_73329_000037_000000.wav', 'duration': 4.21, 'text': 'At these words the occupants of the hovel looked at each other with terror in their faces.', 'offset': None, 'speaker': 6358, 'id': 188165}\n",
      "{'audio_file': '/home/stanislavv/data/libritts/LibriTTS/train-other-500/6358/73329/6358_73329_000077_000003.wav', 'duration': 9.13, 'text': 'It seemed as though their thought had evoked from the dead the sacred martyr whose body was devoured by quicklime, but whose shade rose up before them in royal majesty.', 'offset': None, 'speaker': 6358, 'id': 188166}\n",
      "{'audio_file': '/home/stanislavv/data/libritts/LibriTTS/train-other-500/6358/73329/6358_73329_000107_000000.wav', 'duration': 3.329833, 'text': '\"But this is the execution of the accomplices of Robespierre.', 'offset': None, 'speaker': 6358, 'id': 188167}\n",
      "{'audio_file': '/home/stanislavv/data/libritts/LibriTTS/train-other-500/6358/73329/6358_73329_000004_000008.wav', 'duration': 7.25, 'text': 'Incapable of reasoning, she quickened her steps to a run, as if it were possible to escape a man necessarily more agile than she.', 'offset': None, 'speaker': 6358, 'id': 188168}\n",
      "{'audio_file': '/home/stanislavv/data/libritts/LibriTTS/train-other-500/6358/73329/6358_73329_000102_000003.wav', 'duration': 7.5, 'text': \"But the priest fancied he saw a smile, quickly repressed, upon the stranger's lip as he saw the preparations made to receive him.\", 'offset': None, 'speaker': 6358, 'id': 188169}\n",
      "{'audio_file': '/home/stanislavv/data/libritts/LibriTTS/train-other-500/6358/73329/6358_73329_000077_000001.wav', 'duration': 17.820083, 'text': 'Suddenly, as he caught sight of the crape upon the chalice and the crucifix,--for in default of other means of proclaiming the object of this funeral rite the priest had put God himself into mourning,--the mysterious visitant was seized by some all powerful recollection, and drops of sweat gathered on his brow.', 'offset': None, 'speaker': 6358, 'id': 188170}\n",
      "{'audio_file': '/home/stanislavv/data/libritts/LibriTTS/train-other-500/6358/73329/6358_73329_000056_000000.wav', 'duration': 1.73, 'text': 'They still kept silence.', 'offset': None, 'speaker': 6358, 'id': 188171}\n",
      "{'audio_file': '/home/stanislavv/data/libritts/LibriTTS/train-other-500/6358/73329/6358_73329_000031_000001.wav', 'duration': 3.55, 'text': 'She was obliged to stop short: the man stopped also.', 'offset': None, 'speaker': 6358, 'id': 188172}\n",
      "{'audio_file': '/home/stanislavv/data/libritts/LibriTTS/train-other-500/6358/73329/6358_73329_000014_000000.wav', 'duration': 2.54, 'text': '\"Excuse me,\" she said, with childlike sweetness.', 'offset': None, 'speaker': 6358, 'id': 188173}\n",
      "{'audio_file': '/home/stanislavv/data/libritts/LibriTTS/train-other-500/6358/73329/6358_73329_000034_000001.wav', 'duration': 3.67, 'text': '\"Though we go out so seldom, our errands are known, our steps are watched-\"', 'offset': None, 'speaker': 6358, 'id': 188174}\n",
      "{'audio_file': '/home/stanislavv/data/libritts/LibriTTS/train-other-500/6358/73329/6358_73329_000009_000000.wav', 'duration': 5.52, 'text': '\"Madame?\" she said, with involuntary respect, forgetting that the title was proscribed.', 'offset': None, 'speaker': 6358, 'id': 188175}\n",
      "{'audio_file': '/home/stanislavv/data/libritts/LibriTTS/train-other-500/6358/73329/6358_73329_000076_000008.wav', 'duration': 5.75, 'text': 'All was majestic and yet paltry; poor but noble; profane and holy in one.', 'offset': None, 'speaker': 6358, 'id': 188176}\n",
      "{'audio_file': '/home/stanislavv/data/libritts/LibriTTS/train-other-500/6358/73329/6358_73329_000032_000005.wav', 'duration': 8.38, 'text': 'He stopped as if reflecting, and stood in a hesitating attitude, dimly visible by a street lantern whose flickering light scarcely pierced the fog.', 'offset': None, 'speaker': 6358, 'id': 188177}\n",
      "{'audio_file': '/home/stanislavv/data/libritts/LibriTTS/train-other-500/6358/73329/6358_73329_000019_000000.wav', 'duration': 4.76, 'text': '\"It is so cold, perhaps Madame is chilled by her walk; but you can rest here and warm yourself.\"', 'offset': None, 'speaker': 6358, 'id': 188178}\n",
      "{'audio_file': '/home/stanislavv/data/libritts/LibriTTS/train-other-500/6358/73329/6358_73329_000008_000003.wav', 'duration': 8.1, 'text': 'The concealment of this natural adornment gave to her countenance a sort of conventual severity; but its features were grave and noble.', 'offset': None, 'speaker': 6358, 'id': 188179}\n",
      "{'audio_file': '/home/stanislavv/data/libritts/LibriTTS/train-other-500/6358/73329/6358_73329_000023_000001.wav', 'duration': 15.42, 'text': 'Then moved by a species of gratitude which slips into the shopkeeping soul when its owner receives an exorbitant price for an article of little value, he went to put on his uniform as a National guard, took his hat, slung on his sabre, and reappeared under arms.', 'offset': None, 'speaker': 6358, 'id': 188180}\n",
      "{'audio_file': '/home/stanislavv/data/libritts/LibriTTS/train-other-500/6358/73329/6358_73329_000093_000001.wav', 'duration': 6.22, 'text': 'Bowing to the silent occupants of the garret, he cast a last look upon the signs of their poverty and disappeared.', 'offset': None, 'speaker': 6358, 'id': 188181}\n",
      "{'audio_file': '/home/stanislavv/data/libritts/LibriTTS/train-other-500/6358/73329/6358_73329_000059_000000.wav', 'duration': 9.330083, 'text': '\"You have given shelter,\" he said, \"to a venerable priest not sworn in by the Republic, who escaped miraculously from the massacre at the Convent of the Carmelites.\"', 'offset': None, 'speaker': 6358, 'id': 188182}\n",
      "{'audio_file': '/home/stanislavv/data/libritts/LibriTTS/train-other-500/6358/73329/6358_73329_000052_000002.wav', 'duration': 6.900042, 'text': 'They stood quite still and looked at him with uneasy curiosity, like the children of savages examining a being of another sphere.', 'offset': None, 'speaker': 6358, 'id': 188183}\n",
      "{'audio_file': '/home/stanislavv/data/libritts/LibriTTS/train-other-500/6358/73329/6358_73329_000053_000003.wav', 'duration': 9.03, 'text': 'The walls, once covered with a coat of paint now much defaced, showed the wretched condition of the roof through which the rain had trickled, making a network of brown stains.', 'offset': None, 'speaker': 6358, 'id': 188184}\n",
      "{'audio_file': '/home/stanislavv/data/libritts/LibriTTS/train-other-500/6358/73329/6358_73329_000018_000000.wav', 'duration': 1.98, 'text': '\"We have some very good broth,\" he added.', 'offset': None, 'speaker': 6358, 'id': 188185}\n",
      "{'audio_file': '/home/stanislavv/data/libritts/LibriTTS/train-other-500/6358/73329/6358_73329_000082_000001.wav', 'duration': 6.940083, 'text': 'There is no crime which, in the eyes of God, is not washed out by a repentance as deep and sincere as yours appears to be.\"', 'offset': None, 'speaker': 6358, 'id': 188186}\n",
      "{'audio_file': '/home/stanislavv/data/libritts/LibriTTS/train-other-500/6358/73329/6358_73329_000098_000002.wav', 'duration': 8.600083, 'text': 'In spite of the famine which then afflicted Paris, they found daily at the door of their hovel rations of white bread, laid there by invisible hands.', 'offset': None, 'speaker': 6358, 'id': 188187}\n",
      "{'audio_file': '/home/stanislavv/data/libritts/LibriTTS/train-other-500/6358/73329/6358_73329_000076_000002.wav', 'duration': 6.670042, 'text': 'Silence so deep that some far distant cry could have pierced it, lent a sombre majesty to the nocturnal scene.', 'offset': None, 'speaker': 6358, 'id': 188188}\n",
      "{'audio_file': '/home/stanislavv/data/libritts/LibriTTS/train-other-500/6358/73329/6358_73329_000045_000000.wav', 'duration': 2.670042, 'text': '\"My place is near the victims,\" said the priest, simply.', 'offset': None, 'speaker': 6358, 'id': 188189}\n",
      "{'audio_file': '/home/stanislavv/data/libritts/LibriTTS/train-other-500/6358/73329/6358_73329_000077_000006.wav', 'duration': 5.47, 'text': 'Doubtless in the eyes of God it was the cup of cold water that weighed in the balance against many virtues.', 'offset': None, 'speaker': 6358, 'id': 188190}\n",
      "{'audio_file': '/home/stanislavv/data/libritts/LibriTTS/train-other-500/6358/73329/6358_73329_000038_000003.wav', 'duration': 3.99, 'text': 'God protects his own, and disposes of them according to his will.', 'offset': None, 'speaker': 6358, 'id': 188191}\n",
      "{'audio_file': '/home/stanislavv/data/libritts/LibriTTS/train-other-500/6358/73329/6358_73329_000029_000001.wav', 'duration': 7.87, 'text': 'Go out from here; let me see your heels, and don\\'t dare to come back; don\\'t expect me to supply you with the means of conspiracy!\"', 'offset': None, 'speaker': 6358, 'id': 188192}\n",
      "{'audio_file': '/home/stanislavv/data/libritts/LibriTTS/train-other-500/6358/73329/6358_73329_000032_000001.wav', 'duration': 3.2, 'text': 'The place is to this day one of the loneliest in Paris.', 'offset': None, 'speaker': 6358, 'id': 188193}\n",
      "{'audio_file': '/home/stanislavv/data/libritts/LibriTTS/train-other-500/6358/73329/6358_73329_000099_000002.wav', 'duration': 9.270042, 'text': 'They resolved that the stranger should not be allowed to escape the expression of their gratitude when he came to commemorate the next sad anniversary of the death of Louis the sixteenth.', 'offset': None, 'speaker': 6358, 'id': 188194}\n",
      "{'audio_file': '/home/stanislavv/data/libritts/LibriTTS/train-other-500/6358/73329/6358_73329_000075_000002.wav', 'duration': 9.26, 'text': 'A large ebony and ivory crucifix hanging on the discolored wall stood out in strong relief from the surrounding bareness, and necessarily caught the eye.', 'offset': None, 'speaker': 6358, 'id': 188195}\n",
      "{'audio_file': '/home/stanislavv/data/libritts/LibriTTS/train-other-500/6358/73329/6358_73329_000107_000001.wav', 'duration': 5.799792, 'text': 'They have fought it off as long as they could, but now they are going in their turn where they have sent so many innocent people.\"', 'offset': None, 'speaker': 6358, 'id': 188196}\n",
      "{'audio_file': '/home/stanislavv/data/libritts/LibriTTS/train-other-500/6358/73329/6358_73329_000033_000005.wav', 'duration': 6.669958, 'text': 'The old woman went up the rough and clumsy stairs with difficulty, holding fast to a rope which took the place of baluster.', 'offset': None, 'speaker': 6358, 'id': 188197}\n",
      "{'audio_file': '/home/stanislavv/data/libritts/LibriTTS/train-other-500/6358/73329/6358_73329_000084_000000.wav', 'duration': 7.0, 'text': '\"My father,\" he said, in a voice that nevertheless trembled, \"no one is more innocent than I of the blood shed-\"', 'offset': None, 'speaker': 6358, 'id': 188198}\n",
      "{'audio_file': '/home/stanislavv/data/libritts/LibriTTS/train-other-500/6358/73329/6358_73329_000063_000000.wav', 'duration': 7.180042, 'text': '\"Then you should take better precautions,\" said the unknown gently, stretching his arm to the table and picking up a breviary.', 'offset': None, 'speaker': 6358, 'id': 188199}\n",
      "{'audio_file': '/home/stanislavv/data/libritts/LibriTTS/train-other-500/6358/73329/6358_73329_000038_000001.wav', 'duration': 4.760042, 'text': '\"We chanted praises to his name amid the cries of victims and assassins at the convent.', 'offset': None, 'speaker': 6358, 'id': 188200}\n",
      "{'audio_file': '/home/stanislavv/data/libritts/LibriTTS/train-other-500/6358/73329/6358_73329_000052_000000.wav', 'duration': 6.03, 'text': 'The man who sought to enter interpreted their silence as he pleased; he suddenly opened the door and showed himself.', 'offset': None, 'speaker': 6358, 'id': 188201}\n",
      "{'audio_file': '/home/stanislavv/data/libritts/LibriTTS/train-other-500/6358/73329/6358_73329_000004_000006.wav', 'duration': 8.54, 'text': 'She staggered for an instant under the weight of terror, for she no longer doubted that this unknown man had tracked her, step by step, from her home.', 'offset': None, 'speaker': 6358, 'id': 188202}\n",
      "{'audio_file': '/home/stanislavv/data/libritts/LibriTTS/train-other-500/6358/73329/6358_73329_000015_000008.wav', 'duration': 6.1, 'text': 'The two shopkeepers, divided between pity and self interest, began to soothe their conscience with words:--', 'offset': None, 'speaker': 6358, 'id': 188203}\n",
      "{'audio_file': '/home/stanislavv/data/libritts/LibriTTS/train-other-500/6358/73329/6358_73329_000042_000000.wav', 'duration': 2.62, 'text': 'At these words all three listened intently.', 'offset': None, 'speaker': 6358, 'id': 188204}\n",
      "{'audio_file': '/home/stanislavv/data/libritts/LibriTTS/train-other-500/6358/73329/6358_73329_000111_000001.wav', 'duration': 1.550042, 'text': '\"Monsieur l\\'Abbe is fainting!\"', 'offset': None, 'speaker': 6358, 'id': 188205}\n",
      "{'audio_file': '/home/stanislavv/data/libritts/LibriTTS/train-other-500/6358/73329/6358_73329_000085_000000.wav', 'duration': 1.630042, 'text': '\"I believe it!\" said the priest.', 'offset': None, 'speaker': 6358, 'id': 188206}\n",
      "{'audio_file': '/home/stanislavv/data/libritts/LibriTTS/train-other-500/6358/73329/6358_73329_000101_000000.wav', 'duration': 2.830083, 'text': '\"Come!\" she said, in a trembling and affectionate voice.', 'offset': None, 'speaker': 6358, 'id': 188207}\n",
      "{'audio_file': '/home/stanislavv/data/libritts/LibriTTS/train-other-500/6358/73329/6358_73329_000010_000000.wav', 'duration': 1.52, 'text': 'The old lady made no answer.', 'offset': None, 'speaker': 6358, 'id': 188208}\n",
      "{'audio_file': '/home/stanislavv/data/libritts/LibriTTS/train-other-500/6358/73329/6358_73329_000105_000002.wav', 'duration': 10.260042, 'text': 'Ah, we saw enough of that last year! but now, four days after the anniversary of the twenty first of January, we can look at the horrid procession without distress.\"', 'offset': None, 'speaker': 6358, 'id': 188209}\n",
      "{'audio_file': '/home/stanislavv/data/libritts/LibriTTS/train-other-500/6358/73329/6358_73329_000092_000006.wav', 'duration': 11.840083, 'text': 'A year hence, on the twenty first of January\" (as he uttered these last words he could not repress an involuntary shudder), \"I shall return to celebrate once more the Mass of expiation-\"', 'offset': None, 'speaker': 6358, 'id': 188210}\n",
      "{'audio_file': '/home/stanislavv/data/libritts/LibriTTS/train-other-500/6358/73329/6358_73329_000041_000001.wav', 'duration': 1.679958, 'text': '\"I hear some one on the stairs.\"', 'offset': None, 'speaker': 6358, 'id': 188211}\n",
      "{'audio_file': '/home/stanislavv/data/libritts/LibriTTS/train-other-500/6358/73329/6358_73329_000075_000003.wav', 'duration': 8.89, 'text': 'Four slender little tapers, which the sisters had contrived to fasten to the altar with sealing wax, threw a pale glimmer dimly reflected by the yellow wall.', 'offset': None, 'speaker': 6358, 'id': 188212}\n",
      "{'audio_file': '/home/stanislavv/data/libritts/LibriTTS/train-other-500/6358/73329/6358_73329_000054_000000.wav', 'duration': 6.340083, 'text': 'The inventory of this poor cell was soon made by the individual who had presented himself under such alarming auspices.', 'offset': None, 'speaker': 6358, 'id': 188213}\n",
      "{'audio_file': '/home/stanislavv/data/libritts/LibriTTS/train-other-500/6358/73329/6358_73329_000069_000002.wav', 'duration': 1.460083, 'text': 'What is it you desire of me?\"', 'offset': None, 'speaker': 6358, 'id': 188214}\n",
      "{'audio_file': '/home/stanislavv/data/libritts/LibriTTS/train-other-500/6358/73329/6358_73329_000092_000005.wav', 'duration': 6.449958, 'text': 'Pious souls will watch over you and supply your wants; and you can await without danger the coming of better days.', 'offset': None, 'speaker': 6358, 'id': 188215}\n",
      "{'audio_file': '/home/stanislavv/data/libritts/LibriTTS/train-other-500/6358/73329/6358_73329_000038_000004.wav', 'duration': 2.379917, 'text': 'It is of you, not of me, that we should think.\"', 'offset': None, 'speaker': 6358, 'id': 188216}\n",
      "{'audio_file': '/home/stanislavv/data/libritts/LibriTTS/train-other-500/6358/73329/6358_73329_000068_000000.wav', 'duration': 4.51, 'text': 'As he uttered these words the priest emerged from his prison and appeared in the middle of the room.', 'offset': None, 'speaker': 6358, 'id': 188217}\n",
      "{'audio_file': '/home/stanislavv/data/libritts/LibriTTS/train-other-500/6358/73329/6358_73329_000036_000000.wav', 'duration': 3.409958, 'text': '\"The man who has hung about the house since yesterday followed me to night.\"', 'offset': None, 'speaker': 6358, 'id': 188218}\n",
      "{'audio_file': '/home/stanislavv/data/libritts/LibriTTS/train-other-500/6358/73329/6358_73329_000091_000000.wav', 'duration': 3.99, 'text': 'As he said these words he gave the ecclesiastic a little box of light weight.', 'offset': None, 'speaker': 6358, 'id': 188219}\n",
      "{'audio_file': '/home/stanislavv/data/libritts/LibriTTS/train-other-500/6358/73329/6358_73329_000077_000004.wav', 'duration': 14.410042, 'text': 'They were celebrating a funeral Mass without the remains of the deceased. Beneath these rafters and disjointed laths four Christian souls were interceding with God for a king of France, and making his burial without a coffin.', 'offset': None, 'speaker': 6358, 'id': 188220}\n",
      "{'audio_file': '/home/stanislavv/data/libritts/LibriTTS/train-other-500/6358/73329/6358_73329_000008_000004.wav', 'duration': 8.45, 'text': 'In former days the habits and manners of people of quality were so different from those of all other classes that it was easy to distinguish persons of noble birth.', 'offset': None, 'speaker': 6358, 'id': 188221}\n",
      "{'audio_file': '/home/stanislavv/data/libritts/LibriTTS/train-other-500/6358/73329/6358_73329_000026_000001.wav', 'duration': 1.34, 'text': 'Perhaps it is a conspiracy.', 'offset': None, 'speaker': 6358, 'id': 188222}\n"
     ]
    }
   ],
   "source": [
    "for item in items:\n",
    "    if item['speaker'] == 6358:\n",
    "        print(item)"
   ]
  },
  {
   "cell_type": "code",
   "execution_count": 11,
   "metadata": {},
   "outputs": [
    {
     "data": {
      "text/plain": [
       "True"
      ]
     },
     "execution_count": 11,
     "metadata": {},
     "output_type": "execute_result"
    }
   ],
   "source": [
    "speakers = list(sorted(set([item['speaker'] for item in items])))\n",
    "6358 in speakers"
   ]
  },
  {
   "cell_type": "code",
   "execution_count": 15,
   "metadata": {},
   "outputs": [
    {
     "data": {
      "text/plain": [
       "['F', 'F', 'M', 'F', 'F', 'F', 'F', 'M', 'M', 'M']"
      ]
     },
     "execution_count": 15,
     "metadata": {},
     "output_type": "execute_result"
    }
   ],
   "source": [
    "SPEAKER_TSV = '/home/stanislavv/data/libritts/local/speakers.tsv'\n",
    "tsv_speakers = list(pd.read_csv(SPEAKER_TSV, sep='\\t')['READER'])\n",
    "tsv_speakers[:10]"
   ]
  },
  {
   "cell_type": "code",
   "execution_count": 18,
   "metadata": {},
   "outputs": [
    {
     "data": {
      "text/plain": [
       "Int64Index([  14,   16,   17,   19,   20,   22,   23,   25,   26,   27,\n",
       "            ...\n",
       "            8867, 8875, 8879, 8887, 8897, 8975, 9000, 9022, 9023, 9026],\n",
       "           dtype='int64', length=2484)"
      ]
     },
     "execution_count": 18,
     "metadata": {},
     "output_type": "execute_result"
    }
   ],
   "source": [
    "pd.read_csv(SPEAKER_TSV, sep='\\t').index"
   ]
  },
  {
   "cell_type": "markdown",
   "metadata": {},
   "source": [
    "# Embeddings"
   ]
  },
  {
   "cell_type": "code",
   "execution_count": 2,
   "metadata": {},
   "outputs": [],
   "source": [
    "EMB_ROOT = '/home/stanislavv/data/libritts/speaker-embeddings-22k'\n",
    "SPEAKERS_TABLE = '/home/stanislavv/data/libritts/ngc/speakers.tsv'\n",
    "EMB_SIZE = 256"
   ]
  },
  {
   "cell_type": "code",
   "execution_count": 3,
   "metadata": {},
   "outputs": [
    {
     "data": {
      "text/plain": [
       "2484"
      ]
     },
     "execution_count": 3,
     "metadata": {},
     "output_type": "execute_result"
    }
   ],
   "source": [
    "sid_to_i = {sid: i for i, sid in enumerate(pd.read_csv(SPEAKERS_TABLE, sep='\\t').index)}\n",
    "len(sid_to_i)"
   ]
  },
  {
   "cell_type": "code",
   "execution_count": 4,
   "metadata": {},
   "outputs": [],
   "source": [
    "embs = np.zeros((len(sid_to_i), EMB_SIZE))\n",
    "nums = np.zeros(len(sid_to_i))"
   ]
  },
  {
   "cell_type": "code",
   "execution_count": 19,
   "metadata": {},
   "outputs": [
    {
     "data": {
      "text/plain": [
       "[PosixPath('/home/stanislavv/data/libritts/speaker-embeddings-22k/train-other-500/705/157945/705_157945_000026_000000.npy'),\n",
       " PosixPath('/home/stanislavv/data/libritts/speaker-embeddings-22k/train-other-500/705/157945/705_157945_000005_000011.npy'),\n",
       " PosixPath('/home/stanislavv/data/libritts/speaker-embeddings-22k/train-other-500/705/157945/705_157945_000005_000002.npy'),\n",
       " PosixPath('/home/stanislavv/data/libritts/speaker-embeddings-22k/train-other-500/705/157945/705_157945_000008_000003.npy'),\n",
       " PosixPath('/home/stanislavv/data/libritts/speaker-embeddings-22k/train-other-500/705/157945/705_157945_000024_000002.npy'),\n",
       " PosixPath('/home/stanislavv/data/libritts/speaker-embeddings-22k/train-other-500/705/157945/705_157945_000011_000001.npy'),\n",
       " PosixPath('/home/stanislavv/data/libritts/speaker-embeddings-22k/train-other-500/705/157945/705_157945_000020_000000.npy'),\n",
       " PosixPath('/home/stanislavv/data/libritts/speaker-embeddings-22k/train-other-500/705/157945/705_157945_000008_000002.npy'),\n",
       " PosixPath('/home/stanislavv/data/libritts/speaker-embeddings-22k/train-other-500/705/157945/705_157945_000002_000004.npy'),\n",
       " PosixPath('/home/stanislavv/data/libritts/speaker-embeddings-22k/train-other-500/705/157945/705_157945_000022_000002.npy'),\n",
       " PosixPath('/home/stanislavv/data/libritts/speaker-embeddings-22k/train-other-500/705/157945/705_157945_000005_000005.npy'),\n",
       " PosixPath('/home/stanislavv/data/libritts/speaker-embeddings-22k/train-other-500/705/157945/705_157945_000017_000000.npy'),\n",
       " PosixPath('/home/stanislavv/data/libritts/speaker-embeddings-22k/train-other-500/705/157945/705_157945_000005_000009.npy'),\n",
       " PosixPath('/home/stanislavv/data/libritts/speaker-embeddings-22k/train-other-500/705/157945/705_157945_000019_000000.npy'),\n",
       " PosixPath('/home/stanislavv/data/libritts/speaker-embeddings-22k/train-other-500/705/157945/705_157945_000005_000000.npy'),\n",
       " PosixPath('/home/stanislavv/data/libritts/speaker-embeddings-22k/train-other-500/705/157945/705_157945_000002_000000.npy'),\n",
       " PosixPath('/home/stanislavv/data/libritts/speaker-embeddings-22k/train-other-500/705/157945/705_157945_000013_000001.npy'),\n",
       " PosixPath('/home/stanislavv/data/libritts/speaker-embeddings-22k/train-other-500/705/157945/705_157945_000005_000010.npy'),\n",
       " PosixPath('/home/stanislavv/data/libritts/speaker-embeddings-22k/train-other-500/705/157945/705_157945_000010_000004.npy'),\n",
       " PosixPath('/home/stanislavv/data/libritts/speaker-embeddings-22k/train-other-500/705/157945/705_157945_000010_000006.npy'),\n",
       " PosixPath('/home/stanislavv/data/libritts/speaker-embeddings-22k/train-other-500/705/157945/705_157945_000014_000002.npy'),\n",
       " PosixPath('/home/stanislavv/data/libritts/speaker-embeddings-22k/train-other-500/705/157945/705_157945_000026_000003.npy'),\n",
       " PosixPath('/home/stanislavv/data/libritts/speaker-embeddings-22k/train-other-500/705/157945/705_157945_000018_000001.npy'),\n",
       " PosixPath('/home/stanislavv/data/libritts/speaker-embeddings-22k/train-other-500/705/157945/705_157945_000002_000001.npy'),\n",
       " PosixPath('/home/stanislavv/data/libritts/speaker-embeddings-22k/train-other-500/705/157945/705_157945_000018_000000.npy'),\n",
       " PosixPath('/home/stanislavv/data/libritts/speaker-embeddings-22k/train-other-500/705/157945/705_157945_000012_000001.npy'),\n",
       " PosixPath('/home/stanislavv/data/libritts/speaker-embeddings-22k/train-other-500/705/157945/705_157945_000007_000000.npy'),\n",
       " PosixPath('/home/stanislavv/data/libritts/speaker-embeddings-22k/train-other-500/705/157945/705_157945_000008_000000.npy'),\n",
       " PosixPath('/home/stanislavv/data/libritts/speaker-embeddings-22k/train-other-500/705/157945/705_157945_000010_000005.npy'),\n",
       " PosixPath('/home/stanislavv/data/libritts/speaker-embeddings-22k/train-other-500/705/157945/705_157945_000008_000005.npy')]"
      ]
     },
     "execution_count": 19,
     "metadata": {},
     "output_type": "execute_result"
    }
   ],
   "source": [
    "list(path.glob('*/*/*/*.npy'))[70:100]"
   ]
  },
  {
   "cell_type": "code",
   "execution_count": 9,
   "metadata": {},
   "outputs": [
    {
     "data": {
      "text/plain": [
       "(PosixPath('/home/stanislavv/data/libritts/speaker-embeddings-22k/train-other-500/705/167610/705_167610_000013_000001.npy'),\n",
       " PosixPath('/home/stanislavv/data/libritts/speaker-embeddings-22k/train-other-500/705/167610/705_167610_000007_000008.npy'))"
      ]
     },
     "execution_count": 9,
     "metadata": {},
     "output_type": "execute_result"
    }
   ],
   "source": [
    "n1, n2"
   ]
  },
  {
   "cell_type": "code",
   "execution_count": 12,
   "metadata": {},
   "outputs": [
    {
     "data": {
      "text/plain": [
       "(array([0.1268699 , 0.00728266, 0.        , 0.        , 0.        ,\n",
       "        0.        , 0.        , 0.03883874, 0.        , 0.02312475,\n",
       "        0.03784902, 0.13401358, 0.0447265 , 0.05487893, 0.        ,\n",
       "        0.        , 0.06177042, 0.04770177, 0.0533527 , 0.00207578,\n",
       "        0.03082609, 0.13977274, 0.        , 0.        , 0.        ,\n",
       "        0.02725229, 0.        , 0.        , 0.        , 0.        ,\n",
       "        0.17177697, 0.04846541, 0.15689404, 0.04760951, 0.01593472,\n",
       "        0.10137249, 0.01318053, 0.02166847, 0.        , 0.        ,\n",
       "        0.        , 0.        , 0.00050788, 0.10653368, 0.00554112,\n",
       "        0.        , 0.        , 0.        , 0.07533035, 0.        ,\n",
       "        0.        , 0.02383987, 0.        , 0.        , 0.        ,\n",
       "        0.00026234, 0.06351399, 0.        , 0.03671735, 0.        ,\n",
       "        0.07109461, 0.        , 0.        , 0.        , 0.02505075,\n",
       "        0.        , 0.        , 0.        , 0.        , 0.00769077,\n",
       "        0.02832156, 0.13886626, 0.0072269 , 0.00758615, 0.        ,\n",
       "        0.10386965, 0.        , 0.00151425, 0.        , 0.1385222 ,\n",
       "        0.03810753, 0.        , 0.14639919, 0.        , 0.00655516,\n",
       "        0.11329237, 0.13142964, 0.07980064, 0.        , 0.08845342,\n",
       "        0.10415638, 0.        , 0.        , 0.        , 0.        ,\n",
       "        0.        , 0.        , 0.        , 0.        , 0.        ,\n",
       "        0.        , 0.        , 0.08213533, 0.09167371, 0.00694906,\n",
       "        0.        , 0.00437295, 0.09756734, 0.05242368, 0.        ,\n",
       "        0.        , 0.08871104, 0.05584111, 0.16107367, 0.21632153,\n",
       "        0.        , 0.01965408, 0.02065143, 0.01489721, 0.        ,\n",
       "        0.03090035, 0.03462908, 0.        , 0.0440996 , 0.        ,\n",
       "        0.03862674, 0.03203229, 0.03765155, 0.06893484, 0.        ,\n",
       "        0.        , 0.        , 0.        , 0.02670444, 0.01288918,\n",
       "        0.00992005, 0.06095397, 0.        , 0.09156989, 0.00049344,\n",
       "        0.        , 0.        , 0.03776158, 0.        , 0.17912178,\n",
       "        0.        , 0.12530917, 0.        , 0.        , 0.04664779,\n",
       "        0.04029636, 0.00436662, 0.        , 0.        , 0.0471982 ,\n",
       "        0.        , 0.        , 0.13180952, 0.05849285, 0.        ,\n",
       "        0.        , 0.        , 0.14101426, 0.15159082, 0.04921272,\n",
       "        0.        , 0.        , 0.0296275 , 0.00934137, 0.09066012,\n",
       "        0.        , 0.        , 0.01422673, 0.17848846, 0.        ,\n",
       "        0.00187483, 0.        , 0.03374479, 0.0269399 , 0.01995428,\n",
       "        0.08628474, 0.        , 0.04916156, 0.        , 0.00381079,\n",
       "        0.        , 0.        , 0.        , 0.        , 0.        ,\n",
       "        0.21054888, 0.01862745, 0.        , 0.11381665, 0.        ,\n",
       "        0.01953338, 0.0035745 , 0.        , 0.        , 0.02246385,\n",
       "        0.1752388 , 0.03397088, 0.05984814, 0.        , 0.        ,\n",
       "        0.        , 0.00266831, 0.05104411, 0.        , 0.03241896,\n",
       "        0.        , 0.        , 0.10934585, 0.21117221, 0.        ,\n",
       "        0.021246  , 0.        , 0.03670777, 0.05319929, 0.        ,\n",
       "        0.05353289, 0.        , 0.01853625, 0.        , 0.01582151,\n",
       "        0.01879818, 0.03521111, 0.07090145, 0.        , 0.        ,\n",
       "        0.04565628, 0.        , 0.        , 0.        , 0.        ,\n",
       "        0.        , 0.02289019, 0.21566436, 0.05389861, 0.00512971,\n",
       "        0.21434082, 0.0636962 , 0.        , 0.2279277 , 0.11297119,\n",
       "        0.03851743, 0.10733532, 0.14299423, 0.12508819, 0.02291163,\n",
       "        0.        , 0.        , 0.04683612, 0.        , 0.        ,\n",
       "        0.        ], dtype=float32),\n",
       " array([1.33386403e-01, 2.63082962e-02, 2.96714599e-03, 0.00000000e+00,\n",
       "        0.00000000e+00, 1.65917398e-03, 0.00000000e+00, 3.10258307e-02,\n",
       "        0.00000000e+00, 4.33820561e-02, 0.00000000e+00, 9.70579237e-02,\n",
       "        3.44662406e-02, 2.65624020e-02, 0.00000000e+00, 0.00000000e+00,\n",
       "        5.84867075e-02, 1.29361629e-01, 8.62548947e-02, 1.32428696e-02,\n",
       "        4.55711372e-02, 1.83624610e-01, 0.00000000e+00, 0.00000000e+00,\n",
       "        0.00000000e+00, 3.76599580e-02, 0.00000000e+00, 2.38604005e-02,\n",
       "        0.00000000e+00, 0.00000000e+00, 2.42712185e-01, 4.41739112e-02,\n",
       "        1.36761427e-01, 7.41625428e-02, 1.19803593e-01, 1.61257744e-01,\n",
       "        5.87172993e-02, 3.57798636e-02, 0.00000000e+00, 5.54841645e-02,\n",
       "        0.00000000e+00, 0.00000000e+00, 5.61611913e-02, 1.30494580e-01,\n",
       "        1.44866453e-02, 2.33208742e-02, 0.00000000e+00, 0.00000000e+00,\n",
       "        3.53913791e-02, 0.00000000e+00, 0.00000000e+00, 1.11849092e-01,\n",
       "        0.00000000e+00, 0.00000000e+00, 0.00000000e+00, 0.00000000e+00,\n",
       "        1.24985017e-01, 0.00000000e+00, 2.15774607e-02, 1.56625304e-02,\n",
       "        7.82452524e-02, 0.00000000e+00, 0.00000000e+00, 0.00000000e+00,\n",
       "        5.00176102e-02, 0.00000000e+00, 3.33530754e-02, 0.00000000e+00,\n",
       "        0.00000000e+00, 3.83400102e-03, 8.78701508e-02, 7.52864704e-02,\n",
       "        0.00000000e+00, 6.74662217e-02, 0.00000000e+00, 4.40851189e-02,\n",
       "        0.00000000e+00, 0.00000000e+00, 3.50843486e-03, 9.69052240e-02,\n",
       "        3.34317684e-02, 0.00000000e+00, 2.32448265e-01, 0.00000000e+00,\n",
       "        3.63185536e-04, 7.12949857e-02, 1.26416907e-01, 3.64365466e-02,\n",
       "        0.00000000e+00, 3.32079567e-02, 1.80184975e-01, 0.00000000e+00,\n",
       "        0.00000000e+00, 0.00000000e+00, 0.00000000e+00, 0.00000000e+00,\n",
       "        0.00000000e+00, 0.00000000e+00, 0.00000000e+00, 0.00000000e+00,\n",
       "        0.00000000e+00, 0.00000000e+00, 3.72984298e-02, 1.05444364e-01,\n",
       "        0.00000000e+00, 0.00000000e+00, 0.00000000e+00, 1.10778389e-02,\n",
       "        7.02390149e-02, 1.12428311e-02, 0.00000000e+00, 6.00805432e-02,\n",
       "        5.52532189e-02, 1.20054714e-01, 1.83846563e-01, 0.00000000e+00,\n",
       "        3.50327827e-02, 0.00000000e+00, 2.18835361e-02, 0.00000000e+00,\n",
       "        9.45269223e-03, 4.49647941e-02, 4.25799489e-02, 4.16357219e-02,\n",
       "        0.00000000e+00, 3.73944044e-02, 3.98261249e-02, 2.06622239e-02,\n",
       "        8.06408748e-03, 0.00000000e+00, 0.00000000e+00, 0.00000000e+00,\n",
       "        0.00000000e+00, 1.05244778e-01, 2.77997628e-02, 9.92616266e-02,\n",
       "        3.52973677e-02, 0.00000000e+00, 6.23387769e-02, 3.85899539e-03,\n",
       "        5.35142887e-03, 0.00000000e+00, 6.31328253e-03, 0.00000000e+00,\n",
       "        9.36309472e-02, 0.00000000e+00, 7.06529021e-02, 0.00000000e+00,\n",
       "        0.00000000e+00, 5.12323752e-02, 1.27455160e-01, 3.60008217e-02,\n",
       "        0.00000000e+00, 0.00000000e+00, 4.12107781e-02, 6.93908408e-02,\n",
       "        0.00000000e+00, 1.23291172e-01, 4.84211631e-02, 1.08606694e-02,\n",
       "        1.77160837e-02, 0.00000000e+00, 3.25610265e-02, 3.89854647e-02,\n",
       "        1.11398757e-01, 2.17369699e-04, 0.00000000e+00, 1.33512154e-01,\n",
       "        7.60928541e-03, 9.93312076e-02, 0.00000000e+00, 0.00000000e+00,\n",
       "        0.00000000e+00, 2.17649490e-01, 0.00000000e+00, 4.95432839e-02,\n",
       "        0.00000000e+00, 1.36348177e-02, 1.28687145e-02, 5.03904000e-03,\n",
       "        4.93939891e-02, 0.00000000e+00, 3.50546674e-03, 0.00000000e+00,\n",
       "        9.87262931e-03, 0.00000000e+00, 0.00000000e+00, 5.65411150e-02,\n",
       "        0.00000000e+00, 0.00000000e+00, 1.80638939e-01, 3.47991847e-02,\n",
       "        0.00000000e+00, 1.27212241e-01, 0.00000000e+00, 3.26729962e-03,\n",
       "        7.84221478e-03, 2.62526944e-02, 9.50945634e-03, 1.22079784e-02,\n",
       "        1.12364180e-01, 9.58103612e-02, 9.50490013e-02, 0.00000000e+00,\n",
       "        0.00000000e+00, 4.29891981e-03, 4.07635197e-02, 2.31478605e-02,\n",
       "        0.00000000e+00, 0.00000000e+00, 0.00000000e+00, 3.25657800e-03,\n",
       "        2.93715168e-02, 5.93046434e-02, 0.00000000e+00, 2.13676505e-03,\n",
       "        0.00000000e+00, 3.78396474e-02, 5.73405698e-02, 0.00000000e+00,\n",
       "        6.25881031e-02, 0.00000000e+00, 0.00000000e+00, 0.00000000e+00,\n",
       "        3.59445363e-02, 2.09885160e-03, 5.10526076e-02, 5.97908394e-03,\n",
       "        0.00000000e+00, 0.00000000e+00, 8.18346068e-02, 0.00000000e+00,\n",
       "        0.00000000e+00, 0.00000000e+00, 0.00000000e+00, 0.00000000e+00,\n",
       "        5.94861545e-02, 2.22592667e-01, 2.48596235e-03, 7.58723021e-02,\n",
       "        1.90490484e-01, 1.23826623e-01, 0.00000000e+00, 2.27862999e-01,\n",
       "        9.43236798e-02, 1.80945043e-02, 1.02097079e-01, 3.60446610e-02,\n",
       "        8.02485794e-02, 2.78111212e-02, 1.12782838e-02, 2.04563234e-02,\n",
       "        3.33186872e-02, 0.00000000e+00, 0.00000000e+00, 0.00000000e+00],\n",
       "       dtype=float32))"
      ]
     },
     "execution_count": 12,
     "metadata": {},
     "output_type": "execute_result"
    }
   ],
   "source": [
    "arr1, arr2 = np.load(str(n1)), np.load(str(n2))\n",
    "arr1, arr2"
   ]
  },
  {
   "cell_type": "code",
   "execution_count": 16,
   "metadata": {},
   "outputs": [
    {
     "data": {
      "text/plain": [
       "-0.0011840727"
      ]
     },
     "execution_count": 16,
     "metadata": {},
     "output_type": "execute_result"
    }
   ],
   "source": [
    "(arr1 - arr2).mean()"
   ]
  },
  {
   "cell_type": "code",
   "execution_count": 14,
   "metadata": {},
   "outputs": [
    {
     "data": {
      "text/plain": [
       "array([0.1268699 , 0.00728266, 0.        , 0.        , 0.        ,\n",
       "       0.        , 0.        , 0.03883874, 0.        , 0.02312475],\n",
       "      dtype=float32)"
      ]
     },
     "execution_count": 14,
     "metadata": {},
     "output_type": "execute_result"
    }
   ],
   "source": [
    "arr1[:10]"
   ]
  },
  {
   "cell_type": "code",
   "execution_count": 15,
   "metadata": {},
   "outputs": [
    {
     "data": {
      "text/plain": [
       "array([0.1333864 , 0.0263083 , 0.00296715, 0.        , 0.        ,\n",
       "       0.00165917, 0.        , 0.03102583, 0.        , 0.04338206],\n",
       "      dtype=float32)"
      ]
     },
     "execution_count": 15,
     "metadata": {},
     "output_type": "execute_result"
    }
   ],
   "source": [
    "arr2[:10]"
   ]
  },
  {
   "cell_type": "code",
   "execution_count": 5,
   "metadata": {},
   "outputs": [
    {
     "name": "stderr",
     "output_type": "stream",
     "text": [
      "75117it [00:30, 2511.04it/s]"
     ]
    },
    {
     "ename": "KeyboardInterrupt",
     "evalue": "",
     "output_type": "error",
     "traceback": [
      "\u001b[0;31m---------------------------------------------------------------------------\u001b[0m",
      "\u001b[0;31mKeyboardInterrupt\u001b[0m                         Traceback (most recent call last)",
      "\u001b[0;32m<ipython-input-5-efcf8099d43a>\u001b[0m in \u001b[0;36m<module>\u001b[0;34m()\u001b[0m\n\u001b[1;32m      3\u001b[0m \u001b[0;32mfor\u001b[0m \u001b[0mf\u001b[0m \u001b[0;32min\u001b[0m \u001b[0mtqdm\u001b[0m\u001b[0;34m.\u001b[0m\u001b[0mtqdm\u001b[0m\u001b[0;34m(\u001b[0m\u001b[0mpath\u001b[0m\u001b[0;34m.\u001b[0m\u001b[0mglob\u001b[0m\u001b[0;34m(\u001b[0m\u001b[0;34m'*/*/*/*.npy'\u001b[0m\u001b[0;34m)\u001b[0m\u001b[0;34m)\u001b[0m\u001b[0;34m:\u001b[0m\u001b[0;34m\u001b[0m\u001b[0;34m\u001b[0m\u001b[0m\n\u001b[1;32m      4\u001b[0m     \u001b[0mspeaker_id\u001b[0m \u001b[0;34m=\u001b[0m \u001b[0mint\u001b[0m\u001b[0;34m(\u001b[0m\u001b[0mf\u001b[0m\u001b[0;34m.\u001b[0m\u001b[0mname\u001b[0m\u001b[0;34m.\u001b[0m\u001b[0msplit\u001b[0m\u001b[0;34m(\u001b[0m\u001b[0;34m'_'\u001b[0m\u001b[0;34m)\u001b[0m\u001b[0;34m[\u001b[0m\u001b[0;36m0\u001b[0m\u001b[0;34m]\u001b[0m\u001b[0;34m)\u001b[0m\u001b[0;34m\u001b[0m\u001b[0;34m\u001b[0m\u001b[0m\n\u001b[0;32m----> 5\u001b[0;31m     \u001b[0marr\u001b[0m \u001b[0;34m=\u001b[0m \u001b[0mnp\u001b[0m\u001b[0;34m.\u001b[0m\u001b[0mload\u001b[0m\u001b[0;34m(\u001b[0m\u001b[0mstr\u001b[0m\u001b[0;34m(\u001b[0m\u001b[0mf\u001b[0m\u001b[0;34m)\u001b[0m\u001b[0;34m)\u001b[0m\u001b[0;34m\u001b[0m\u001b[0;34m\u001b[0m\u001b[0m\n\u001b[0m\u001b[1;32m      6\u001b[0m \u001b[0;34m\u001b[0m\u001b[0m\n\u001b[1;32m      7\u001b[0m     \u001b[0membs\u001b[0m\u001b[0;34m[\u001b[0m\u001b[0msid_to_i\u001b[0m\u001b[0;34m[\u001b[0m\u001b[0mspeaker_id\u001b[0m\u001b[0;34m]\u001b[0m\u001b[0;34m]\u001b[0m \u001b[0;34m+=\u001b[0m \u001b[0marr\u001b[0m\u001b[0;34m\u001b[0m\u001b[0;34m\u001b[0m\u001b[0m\n",
      "\u001b[0;32m/home/stanislavv/.local/lib/python3.6/site-packages/numpy/lib/npyio.py\u001b[0m in \u001b[0;36mload\u001b[0;34m(file, mmap_mode, allow_pickle, fix_imports, encoding)\u001b[0m\n\u001b[1;32m    451\u001b[0m             \u001b[0;32melse\u001b[0m\u001b[0;34m:\u001b[0m\u001b[0;34m\u001b[0m\u001b[0;34m\u001b[0m\u001b[0m\n\u001b[1;32m    452\u001b[0m                 return format.read_array(fid, allow_pickle=allow_pickle,\n\u001b[0;32m--> 453\u001b[0;31m                                          pickle_kwargs=pickle_kwargs)\n\u001b[0m\u001b[1;32m    454\u001b[0m         \u001b[0;32melse\u001b[0m\u001b[0;34m:\u001b[0m\u001b[0;34m\u001b[0m\u001b[0;34m\u001b[0m\u001b[0m\n\u001b[1;32m    455\u001b[0m             \u001b[0;31m# Try a pickle\u001b[0m\u001b[0;34m\u001b[0m\u001b[0;34m\u001b[0m\u001b[0;34m\u001b[0m\u001b[0m\n",
      "\u001b[0;32m/home/stanislavv/.local/lib/python3.6/site-packages/numpy/lib/format.py\u001b[0m in \u001b[0;36mread_array\u001b[0;34m(fp, allow_pickle, pickle_kwargs)\u001b[0m\n\u001b[1;32m    727\u001b[0m     \u001b[0mversion\u001b[0m \u001b[0;34m=\u001b[0m \u001b[0mread_magic\u001b[0m\u001b[0;34m(\u001b[0m\u001b[0mfp\u001b[0m\u001b[0;34m)\u001b[0m\u001b[0;34m\u001b[0m\u001b[0;34m\u001b[0m\u001b[0m\n\u001b[1;32m    728\u001b[0m     \u001b[0m_check_version\u001b[0m\u001b[0;34m(\u001b[0m\u001b[0mversion\u001b[0m\u001b[0;34m)\u001b[0m\u001b[0;34m\u001b[0m\u001b[0;34m\u001b[0m\u001b[0m\n\u001b[0;32m--> 729\u001b[0;31m     \u001b[0mshape\u001b[0m\u001b[0;34m,\u001b[0m \u001b[0mfortran_order\u001b[0m\u001b[0;34m,\u001b[0m \u001b[0mdtype\u001b[0m \u001b[0;34m=\u001b[0m \u001b[0m_read_array_header\u001b[0m\u001b[0;34m(\u001b[0m\u001b[0mfp\u001b[0m\u001b[0;34m,\u001b[0m \u001b[0mversion\u001b[0m\u001b[0;34m)\u001b[0m\u001b[0;34m\u001b[0m\u001b[0;34m\u001b[0m\u001b[0m\n\u001b[0m\u001b[1;32m    730\u001b[0m     \u001b[0;32mif\u001b[0m \u001b[0mlen\u001b[0m\u001b[0;34m(\u001b[0m\u001b[0mshape\u001b[0m\u001b[0;34m)\u001b[0m \u001b[0;34m==\u001b[0m \u001b[0;36m0\u001b[0m\u001b[0;34m:\u001b[0m\u001b[0;34m\u001b[0m\u001b[0;34m\u001b[0m\u001b[0m\n\u001b[1;32m    731\u001b[0m         \u001b[0mcount\u001b[0m \u001b[0;34m=\u001b[0m \u001b[0;36m1\u001b[0m\u001b[0;34m\u001b[0m\u001b[0;34m\u001b[0m\u001b[0m\n",
      "\u001b[0;32m/home/stanislavv/.local/lib/python3.6/site-packages/numpy/lib/format.py\u001b[0m in \u001b[0;36m_read_array_header\u001b[0;34m(fp, version)\u001b[0m\n\u001b[1;32m    607\u001b[0m     \u001b[0;31m# Sanity-check the values.\u001b[0m\u001b[0;34m\u001b[0m\u001b[0;34m\u001b[0m\u001b[0;34m\u001b[0m\u001b[0m\n\u001b[1;32m    608\u001b[0m     if (not isinstance(d['shape'], tuple) or\n\u001b[0;32m--> 609\u001b[0;31m             not numpy.all([isinstance(x, (int, long)) for x in d['shape']])):\n\u001b[0m\u001b[1;32m    610\u001b[0m         \u001b[0mmsg\u001b[0m \u001b[0;34m=\u001b[0m \u001b[0;34m\"shape is not valid: {!r}\"\u001b[0m\u001b[0;34m\u001b[0m\u001b[0;34m\u001b[0m\u001b[0m\n\u001b[1;32m    611\u001b[0m         \u001b[0;32mraise\u001b[0m \u001b[0mValueError\u001b[0m\u001b[0;34m(\u001b[0m\u001b[0mmsg\u001b[0m\u001b[0;34m.\u001b[0m\u001b[0mformat\u001b[0m\u001b[0;34m(\u001b[0m\u001b[0md\u001b[0m\u001b[0;34m[\u001b[0m\u001b[0;34m'shape'\u001b[0m\u001b[0;34m]\u001b[0m\u001b[0;34m)\u001b[0m\u001b[0;34m)\u001b[0m\u001b[0;34m\u001b[0m\u001b[0;34m\u001b[0m\u001b[0m\n",
      "\u001b[0;32m<__array_function__ internals>\u001b[0m in \u001b[0;36mall\u001b[0;34m(*args, **kwargs)\u001b[0m\n",
      "\u001b[0;32m/home/stanislavv/.local/lib/python3.6/site-packages/numpy/core/fromnumeric.py\u001b[0m in \u001b[0;36mall\u001b[0;34m(a, axis, out, keepdims)\u001b[0m\n\u001b[1;32m   2396\u001b[0m \u001b[0;34m\u001b[0m\u001b[0m\n\u001b[1;32m   2397\u001b[0m     \"\"\"\n\u001b[0;32m-> 2398\u001b[0;31m     \u001b[0;32mreturn\u001b[0m \u001b[0m_wrapreduction\u001b[0m\u001b[0;34m(\u001b[0m\u001b[0ma\u001b[0m\u001b[0;34m,\u001b[0m \u001b[0mnp\u001b[0m\u001b[0;34m.\u001b[0m\u001b[0mlogical_and\u001b[0m\u001b[0;34m,\u001b[0m \u001b[0;34m'all'\u001b[0m\u001b[0;34m,\u001b[0m \u001b[0maxis\u001b[0m\u001b[0;34m,\u001b[0m \u001b[0;32mNone\u001b[0m\u001b[0;34m,\u001b[0m \u001b[0mout\u001b[0m\u001b[0;34m,\u001b[0m \u001b[0mkeepdims\u001b[0m\u001b[0;34m=\u001b[0m\u001b[0mkeepdims\u001b[0m\u001b[0;34m)\u001b[0m\u001b[0;34m\u001b[0m\u001b[0;34m\u001b[0m\u001b[0m\n\u001b[0m\u001b[1;32m   2399\u001b[0m \u001b[0;34m\u001b[0m\u001b[0m\n\u001b[1;32m   2400\u001b[0m \u001b[0;34m\u001b[0m\u001b[0m\n",
      "\u001b[0;32m/home/stanislavv/.local/lib/python3.6/site-packages/numpy/core/fromnumeric.py\u001b[0m in \u001b[0;36m_wrapreduction\u001b[0;34m(obj, ufunc, method, axis, dtype, out, **kwargs)\u001b[0m\n\u001b[1;32m     88\u001b[0m                 \u001b[0;32mreturn\u001b[0m \u001b[0mreduction\u001b[0m\u001b[0;34m(\u001b[0m\u001b[0maxis\u001b[0m\u001b[0;34m=\u001b[0m\u001b[0maxis\u001b[0m\u001b[0;34m,\u001b[0m \u001b[0mout\u001b[0m\u001b[0;34m=\u001b[0m\u001b[0mout\u001b[0m\u001b[0;34m,\u001b[0m \u001b[0;34m**\u001b[0m\u001b[0mpasskwargs\u001b[0m\u001b[0;34m)\u001b[0m\u001b[0;34m\u001b[0m\u001b[0;34m\u001b[0m\u001b[0m\n\u001b[1;32m     89\u001b[0m \u001b[0;34m\u001b[0m\u001b[0m\n\u001b[0;32m---> 90\u001b[0;31m     \u001b[0;32mreturn\u001b[0m \u001b[0mufunc\u001b[0m\u001b[0;34m.\u001b[0m\u001b[0mreduce\u001b[0m\u001b[0;34m(\u001b[0m\u001b[0mobj\u001b[0m\u001b[0;34m,\u001b[0m \u001b[0maxis\u001b[0m\u001b[0;34m,\u001b[0m \u001b[0mdtype\u001b[0m\u001b[0;34m,\u001b[0m \u001b[0mout\u001b[0m\u001b[0;34m,\u001b[0m \u001b[0;34m**\u001b[0m\u001b[0mpasskwargs\u001b[0m\u001b[0;34m)\u001b[0m\u001b[0;34m\u001b[0m\u001b[0;34m\u001b[0m\u001b[0m\n\u001b[0m\u001b[1;32m     91\u001b[0m \u001b[0;34m\u001b[0m\u001b[0m\n\u001b[1;32m     92\u001b[0m \u001b[0;34m\u001b[0m\u001b[0m\n",
      "\u001b[0;31mKeyboardInterrupt\u001b[0m: "
     ]
    }
   ],
   "source": [
    "path = pathlib.Path(EMB_ROOT)\n",
    "files = []\n",
    "for f in tqdm.tqdm(path.glob('*/*/*/*.npy')):\n",
    "    speaker_id = int(f.name.split('_')[0])\n",
    "    arr = np.load(str(f))\n",
    "    \n",
    "    embs[sid_to_i[speaker_id]] += arr\n",
    "    nums[sid_to_i[speaker_id]] += 1"
   ]
  },
  {
   "cell_type": "code",
   "execution_count": 26,
   "metadata": {},
   "outputs": [
    {
     "name": "stderr",
     "output_type": "stream",
     "text": [
      "\n",
      "0it [00:00, ?it/s]\u001b[A\n",
      "395it [00:00, 3944.77it/s]\u001b[A\n",
      "783it [00:00, 3922.39it/s]\u001b[A\n",
      "1175it [00:00, 3920.02it/s]\u001b[A\n",
      "1528it [00:00, 3791.64it/s]\u001b[A\n",
      "1912it [00:00, 3804.46it/s]\u001b[A\n",
      "2227it [00:00, 3566.41it/s]\u001b[A\n",
      "2607it [00:00, 3631.45it/s]\u001b[A\n",
      "2994it [00:00, 3698.54it/s]\u001b[A\n",
      "3380it [00:00, 3745.34it/s]\u001b[A\n",
      "3768it [00:01, 3784.62it/s]\u001b[A\n",
      "4157it [00:01, 3814.59it/s]\u001b[A\n",
      "4541it [00:01, 3821.17it/s]\u001b[A\n",
      "4921it [00:01, 3812.18it/s]\u001b[A\n",
      "5299it [00:01, 3797.58it/s]\u001b[A\n",
      "5678it [00:01, 3793.34it/s]\u001b[A\n",
      "6060it [00:01, 3799.35it/s]\u001b[A\n",
      "6444it [00:01, 3810.47it/s]\u001b[A\n",
      "6832it [00:01, 3826.05it/s]\u001b[A\n",
      "7217it [00:01, 3832.42it/s]\u001b[A\n",
      "7602it [00:02, 3835.24it/s]\u001b[A\n",
      "7986it [00:02, 3830.45it/s]\u001b[A\n",
      "8375it [00:02, 3847.22it/s]\u001b[A\n",
      "8760it [00:02, 3838.89it/s]\u001b[A\n",
      "9144it [00:02, 3697.65it/s]\u001b[A\n",
      "9515it [00:02, 3659.76it/s]\u001b[A\n",
      "9882it [00:02, 3656.16it/s]\u001b[A\n",
      "10269it [00:02, 3716.20it/s]\u001b[A\n",
      "10658it [00:02, 3766.45it/s]\u001b[A\n",
      "11036it [00:02, 3579.07it/s]\u001b[A\n",
      "11405it [00:03, 3609.29it/s]\u001b[A\n",
      "11779it [00:03, 3647.43it/s]\u001b[A\n",
      "12167it [00:03, 3711.67it/s]\u001b[A\n",
      "12554it [00:03, 3756.61it/s]\u001b[A\n",
      "12943it [00:03, 3795.23it/s]\u001b[A\n",
      "13332it [00:03, 3820.94it/s]\u001b[A\n",
      "13720it [00:03, 3837.93it/s]\u001b[A\n",
      "14105it [00:03, 3732.00it/s]\u001b[A\n",
      "14480it [00:03, 3705.23it/s]\u001b[A\n",
      "14852it [00:03, 3688.25it/s]\u001b[A\n",
      "15236it [00:04, 3729.42it/s]\u001b[A\n",
      "15611it [00:04, 3734.32it/s]\u001b[A\n",
      "15986it [00:04, 3737.08it/s]\u001b[A\n",
      "16380it [00:04, 3794.58it/s]\u001b[A\n",
      "16764it [00:04, 3807.16it/s]\u001b[A\n",
      "17152it [00:04, 3827.63it/s]\u001b[A\n",
      "17539it [00:04, 3838.34it/s]\u001b[A\n",
      "17928it [00:04, 3851.40it/s]\u001b[A\n",
      "18317it [00:04, 3862.54it/s]\u001b[A\n",
      "18706it [00:04, 3868.06it/s]\u001b[A\n",
      "19095it [00:05, 3873.13it/s]\u001b[A\n",
      "19484it [00:05, 3875.66it/s]\u001b[A\n",
      "19873it [00:05, 3879.10it/s]\u001b[A\n",
      "20261it [00:05, 3876.68it/s]\u001b[A\n",
      "20650it [00:05, 3879.18it/s]\u001b[A\n",
      "21039it [00:05, 3881.94it/s]\u001b[A\n",
      "21428it [00:05, 3881.88it/s]\u001b[A\n",
      "21817it [00:05, 3882.93it/s]\u001b[A\n",
      "22206it [00:05, 3865.85it/s]\u001b[A\n",
      "22595it [00:05, 3870.64it/s]\u001b[A\n",
      "22983it [00:06, 3847.57it/s]\u001b[A\n",
      "23373it [00:06, 3859.93it/s]\u001b[A\n",
      "23764it [00:06, 3874.74it/s]\u001b[A\n",
      "24154it [00:06, 3881.75it/s]\u001b[A\n",
      "24544it [00:06, 3886.87it/s]\u001b[A\n",
      "24933it [00:06, 3887.75it/s]\u001b[A\n",
      "25324it [00:06, 3892.87it/s]\u001b[A\n",
      "25715it [00:06, 3895.55it/s]\u001b[A\n",
      "26105it [00:06, 3893.24it/s]\u001b[A\n",
      "26495it [00:06, 3858.69it/s]\u001b[A\n",
      "26886it [00:07, 3872.54it/s]\u001b[A\n",
      "27274it [00:07, 3874.34it/s]\u001b[A\n",
      "27662it [00:07, 3875.20it/s]\u001b[A\n",
      "28052it [00:07, 3880.50it/s]\u001b[A\n",
      "28449it [00:07, 3904.57it/s]\u001b[A\n",
      "28842it [00:07, 3912.14it/s]\u001b[A\n",
      "29235it [00:07, 3915.53it/s]\u001b[A\n",
      "29627it [00:07, 3907.50it/s]\u001b[A\n",
      "30023it [00:07, 3922.82it/s]\u001b[A\n",
      "30419it [00:07, 3931.50it/s]\u001b[A\n",
      "30813it [00:08, 3933.79it/s]\u001b[A\n",
      "31207it [00:08, 3923.00it/s]\u001b[A\n",
      "31601it [00:08, 3924.02it/s]\u001b[A\n",
      "31994it [00:08, 3904.20it/s]\u001b[A\n",
      "32385it [00:08, 3892.12it/s]\u001b[A\n",
      "32775it [00:08, 3882.10it/s]\u001b[A\n",
      "33164it [00:08, 3877.94it/s]\u001b[A\n",
      "33555it [00:08, 3885.43it/s]\u001b[A\n",
      "33944it [00:08, 3885.66it/s]\u001b[A\n",
      "34336it [00:08, 3894.36it/s]\u001b[A\n",
      "34726it [00:09, 3894.42it/s]\u001b[A\n",
      "35117it [00:09, 3898.83it/s]\u001b[A\n",
      "35507it [00:09, 3896.97it/s]\u001b[A\n",
      "35899it [00:09, 3901.54it/s]\u001b[A\n",
      "36290it [00:09, 3897.19it/s]\u001b[A\n",
      "36680it [00:09, 3894.93it/s]\u001b[A\n",
      "37071it [00:09, 3897.90it/s]\u001b[A\n",
      "37461it [00:09, 3897.54it/s]\u001b[A\n",
      "37851it [00:09, 3897.40it/s]\u001b[A\n",
      "38241it [00:09, 3894.16it/s]\u001b[A\n",
      "38631it [00:10, 3895.36it/s]\u001b[A\n",
      "39021it [00:10, 3895.26it/s]\u001b[A\n",
      "39411it [00:10, 3894.29it/s]\u001b[A\n",
      "39801it [00:10, 3888.02it/s]\u001b[A\n",
      "40190it [00:10, 3886.66it/s]\u001b[A\n",
      "40579it [00:10, 3887.23it/s]\u001b[A\n",
      "40969it [00:10, 3888.31it/s]\u001b[A\n",
      "41364it [00:10, 3904.15it/s]\u001b[A\n",
      "41756it [00:10, 3907.83it/s]\u001b[A\n",
      "42147it [00:10, 3903.34it/s]\u001b[A\n",
      "42538it [00:11, 3898.07it/s]\u001b[A\n",
      "42928it [00:11, 3888.01it/s]\u001b[A\n",
      "43318it [00:11, 3891.15it/s]\u001b[A\n",
      "43708it [00:11, 3876.22it/s]\u001b[A\n",
      "44101it [00:11, 3892.18it/s]\u001b[A\n",
      "44491it [00:11, 3893.77it/s]\u001b[A\n",
      "44881it [00:11, 3887.79it/s]\u001b[A\n",
      "45270it [00:11, 3886.38it/s]\u001b[A\n",
      "45659it [00:11, 3866.72it/s]\u001b[A\n",
      "46047it [00:11, 3868.75it/s]\u001b[A\n",
      "46434it [00:12, 3858.30it/s]\u001b[A\n",
      "46820it [00:12, 3856.75it/s]\u001b[A\n",
      "47206it [00:12, 3850.30it/s]\u001b[A\n",
      "47592it [00:12, 3842.97it/s]\u001b[A\n",
      "47977it [00:12, 3840.24it/s]\u001b[A\n",
      "48367it [00:12, 3856.96it/s]\u001b[A\n",
      "48753it [00:12, 3100.66it/s]\u001b[A\n",
      "49087it [00:12, 2460.66it/s]\u001b[A\n",
      "49371it [00:13, 2268.82it/s]\u001b[A\n",
      "49628it [00:13, 2175.23it/s]\u001b[A\n",
      "49996it [00:13, 2478.52it/s]\u001b[A\n",
      "50381it [00:13, 2774.34it/s]\u001b[A\n",
      "50766it [00:13, 3027.67it/s]\u001b[A\n",
      "51115it [00:13, 3151.55it/s]\u001b[A\n",
      "51502it [00:13, 3337.09it/s]\u001b[A\n",
      "51889it [00:13, 3478.66it/s]\u001b[A\n",
      "52274it [00:13, 3581.52it/s]\u001b[A\n",
      "52662it [00:14, 3664.86it/s]\u001b[A\n",
      "53047it [00:14, 3718.08it/s]\u001b[A\n",
      "53436it [00:14, 3767.39it/s]\u001b[A\n",
      "53821it [00:14, 3791.78it/s]\u001b[A\n",
      "54209it [00:14, 3815.93it/s]\u001b[A\n",
      "54601it [00:14, 3845.28it/s]\u001b[A\n",
      "54988it [00:14, 3848.35it/s]\u001b[A\n",
      "55374it [00:14, 3847.55it/s]\u001b[A\n",
      "55762it [00:14, 3855.99it/s]\u001b[A\n",
      "56150it [00:14, 3862.37it/s]\u001b[A\n",
      "56537it [00:15, 3861.48it/s]\u001b[A\n",
      "56924it [00:15, 3737.51it/s]\u001b[A\n",
      "57301it [00:15, 3746.16it/s]\u001b[A\n",
      "57677it [00:15, 3729.99it/s]\u001b[A\n",
      "58051it [00:15, 3568.85it/s]\u001b[A\n",
      "58440it [00:15, 3658.04it/s]\u001b[A\n",
      "58826it [00:15, 3715.40it/s]\u001b[A\n",
      "59213it [00:15, 3759.56it/s]\u001b[A\n",
      "59593it [00:15, 3769.51it/s]\u001b[A\n",
      "59971it [00:15, 3734.27it/s]\u001b[A\n",
      "60349it [00:16, 3745.94it/s]\u001b[A\n",
      "60738it [00:16, 3786.56it/s]\u001b[A\n",
      "61122it [00:16, 3799.86it/s]\u001b[A\n",
      "61513it [00:16, 3831.06it/s]\u001b[A\n",
      "61903it [00:16, 3850.61it/s]\u001b[A\n",
      "62290it [00:16, 3856.09it/s]\u001b[A\n",
      "62676it [00:16, 3708.12it/s]\u001b[A\n",
      "63061it [00:16, 3748.53it/s]\u001b[A\n",
      "63451it [00:16, 3792.12it/s]\u001b[A\n",
      "63846it [00:16, 3835.84it/s]\u001b[A\n",
      "64241it [00:17, 3867.32it/s]\u001b[A\n",
      "64634it [00:17, 3885.07it/s]\u001b[A\n",
      "65026it [00:17, 3893.22it/s]\u001b[A\n",
      "65416it [00:17, 3854.19it/s]\u001b[A\n",
      "65802it [00:17, 3849.29it/s]\u001b[A\n",
      "66193it [00:17, 3867.27it/s]\u001b[A\n",
      "66580it [00:17, 3822.82it/s]\u001b[A\n",
      "66963it [00:17, 3809.14it/s]\u001b[A\n",
      "67355it [00:17, 3839.63it/s]\u001b[A\n",
      "67745it [00:18, 3856.80it/s]\u001b[A\n",
      "68132it [00:18, 3860.04it/s]\u001b[A\n",
      "68519it [00:18, 3861.19it/s]\u001b[A\n",
      "68906it [00:18, 3854.47it/s]\u001b[A\n",
      "69293it [00:18, 3856.76it/s]\u001b[A\n",
      "69681it [00:18, 3861.03it/s]\u001b[A\n",
      "70068it [00:18, 3716.58it/s]\u001b[A\n",
      "70441it [00:18, 3694.90it/s]\u001b[A\n",
      "70812it [00:18, 3696.97it/s]\u001b[A\n",
      "71197it [00:18, 3740.84it/s]\u001b[A\n",
      "71578it [00:19, 3761.09it/s]\u001b[A\n",
      "71967it [00:19, 3798.61it/s]\u001b[A\n",
      "72355it [00:19, 3820.61it/s]\u001b[A\n",
      "72744it [00:19, 3840.37it/s]\u001b[A\n",
      "73135it [00:19, 3858.90it/s]\u001b[A\n",
      "73522it [00:19, 3861.32it/s]\u001b[A\n",
      "73917it [00:19, 3885.72it/s]\u001b[A\n",
      "74308it [00:19, 3891.52it/s]\u001b[A\n",
      "74698it [00:19, 3879.21it/s]\u001b[A\n",
      "75090it [00:19, 3890.19it/s]\u001b[A\n",
      "75480it [00:20, 3430.95it/s]\u001b[A\n",
      "75834it [00:20, 3017.82it/s]\u001b[A\n",
      "76152it [00:20, 2845.49it/s]\u001b[A\n",
      "76450it [00:20, 2727.98it/s]\u001b[A\n",
      "76734it [00:20, 2642.79it/s]\u001b[A\n",
      "77007it [00:20, 2593.53it/s]\u001b[A\n",
      "77273it [00:20, 2569.57it/s]\u001b[A\n",
      "77534it [00:20, 2551.07it/s]\u001b[A\n",
      "77792it [00:21, 2543.30it/s]\u001b[A\n",
      "78049it [00:21, 2531.24it/s]\u001b[A\n",
      "78304it [00:21, 2519.87it/s]\u001b[A\n",
      "78557it [00:21, 2516.21it/s]\u001b[A\n",
      "78810it [00:21, 2510.59it/s]\u001b[A\n",
      "79062it [00:21, 2505.14it/s]\u001b[A\n",
      "79314it [00:21, 2506.67it/s]\u001b[A\n",
      "79565it [00:21, 2507.18it/s]\u001b[A\n",
      "79816it [00:21, 2501.93it/s]\u001b[A\n",
      "80067it [00:21, 2499.06it/s]\u001b[A\n",
      "80318it [00:22, 2501.67it/s]\u001b[A\n",
      "80569it [00:22, 2500.72it/s]\u001b[A\n",
      "80822it [00:22, 2506.17it/s]\u001b[A\n",
      "81073it [00:22, 2497.68it/s]\u001b[A\n",
      "81323it [00:22, 2495.70it/s]\u001b[A\n",
      "81574it [00:22, 2497.31it/s]\u001b[A\n",
      "81826it [00:22, 2502.89it/s]\u001b[A\n",
      "82077it [00:22, 2503.20it/s]\u001b[A\n",
      "82328it [00:22, 2501.20it/s]\u001b[A\n",
      "82579it [00:22, 2500.37it/s]\u001b[A\n",
      "82830it [00:23, 2502.27it/s]\u001b[A\n",
      "83081it [00:23, 2488.58it/s]\u001b[A\n",
      "83330it [00:23, 2488.70it/s]\u001b[A\n",
      "83580it [00:23, 2490.03it/s]\u001b[A\n",
      "83830it [00:23, 2492.22it/s]\u001b[A\n",
      "84080it [00:23, 2493.68it/s]\u001b[A\n",
      "84331it [00:23, 2497.73it/s]\u001b[A\n",
      "84581it [00:23, 2497.93it/s]\u001b[A\n",
      "84831it [00:23, 2491.05it/s]\u001b[A\n",
      "85082it [00:23, 2496.69it/s]\u001b[A\n",
      "85332it [00:24, 2198.72it/s]\u001b[A\n",
      "85580it [00:24, 2275.99it/s]\u001b[A\n",
      "85830it [00:24, 2337.51it/s]\u001b[A\n",
      "86077it [00:24, 2375.28it/s]\u001b[A\n",
      "86325it [00:24, 2404.36it/s]\u001b[A\n",
      "86575it [00:24, 2430.29it/s]\u001b[A\n",
      "86825it [00:24, 2448.51it/s]\u001b[A\n",
      "87076it [00:24, 2463.88it/s]\u001b[A\n",
      "87326it [00:24, 2472.21it/s]\u001b[A\n",
      "87574it [00:24, 2341.84it/s]\u001b[A\n",
      "87825it [00:25, 2388.95it/s]\u001b[A\n",
      "88076it [00:25, 2422.05it/s]\u001b[A\n",
      "88323it [00:25, 2435.97it/s]\u001b[A\n",
      "88572it [00:25, 2450.33it/s]\u001b[A\n",
      "88824it [00:25, 2469.31it/s]\u001b[A\n",
      "89076it [00:25, 2481.93it/s]\u001b[A\n",
      "89325it [00:25, 2482.82it/s]\u001b[A\n",
      "89575it [00:25, 2486.90it/s]\u001b[A\n",
      "89825it [00:25, 2488.15it/s]\u001b[A\n",
      "90074it [00:25, 2488.65it/s]\u001b[A\n",
      "90326it [00:26, 2495.80it/s]\u001b[A\n",
      "90579it [00:26, 2504.73it/s]\u001b[A\n",
      "90830it [00:26, 2501.14it/s]\u001b[A\n"
     ]
    },
    {
     "name": "stderr",
     "output_type": "stream",
     "text": [
      "91081it [00:26, 2499.05it/s]\u001b[A\n",
      "91331it [00:26, 2490.55it/s]\u001b[A\n",
      "91581it [00:26, 2492.62it/s]\u001b[A\n",
      "91831it [00:26, 2490.68it/s]\u001b[A\n",
      "92081it [00:26, 2487.94it/s]\u001b[A\n",
      "92333it [00:26, 2494.96it/s]\u001b[A\n",
      "92585it [00:26, 2501.69it/s]\u001b[A\n",
      "92836it [00:27, 2497.82it/s]\u001b[A\n",
      "93086it [00:27, 2498.27it/s]\u001b[A\n",
      "93336it [00:27, 2495.57it/s]\u001b[A\n",
      "93588it [00:27, 2500.38it/s]\u001b[A\n",
      "93839it [00:27, 2501.59it/s]\u001b[A\n",
      "94090it [00:27, 2500.11it/s]\u001b[A\n",
      "94342it [00:27, 2504.09it/s]\u001b[A\n",
      "94595it [00:27, 2509.04it/s]\u001b[A\n",
      "94847it [00:27, 2512.16it/s]\u001b[A\n",
      "95100it [00:28, 2514.90it/s]\u001b[A\n",
      "95354it [00:28, 2521.58it/s]\u001b[A\n",
      "95608it [00:28, 2525.73it/s]\u001b[A\n",
      "95861it [00:28, 2519.08it/s]\u001b[A\n",
      "96113it [00:28, 2517.07it/s]\u001b[A\n",
      "96365it [00:28, 2512.86it/s]\u001b[A\n",
      "96617it [00:28, 2511.68it/s]\u001b[A\n",
      "96872it [00:28, 2520.57it/s]\u001b[A\n",
      "97126it [00:28, 2524.12it/s]\u001b[A\n",
      "97379it [00:28, 2516.39it/s]\u001b[A\n",
      "97631it [00:29, 2503.45it/s]\u001b[A\n",
      "97882it [00:29, 2485.08it/s]\u001b[A\n",
      "98133it [00:29, 2491.25it/s]\u001b[A\n",
      "98383it [00:29, 2483.26it/s]\u001b[A\n",
      "98632it [00:29, 2484.90it/s]\u001b[A\n",
      "98881it [00:29, 2484.48it/s]\u001b[A\n",
      "99130it [00:29, 2480.26it/s]\u001b[A\n",
      "99379it [00:29, 2472.75it/s]\u001b[A\n",
      "99627it [00:29, 2473.19it/s]\u001b[A\n",
      "99875it [00:29, 2470.74it/s]\u001b[A\n",
      "100123it [00:30, 2375.27it/s]\u001b[A\n",
      "100362it [00:30, 2349.95it/s]\u001b[A\n",
      "100614it [00:30, 2397.42it/s]\u001b[A\n",
      "100867it [00:30, 2433.34it/s]\u001b[A\n",
      "101118it [00:30, 2455.28it/s]\u001b[A\n",
      "101367it [00:30, 2463.78it/s]\u001b[A\n",
      "101616it [00:30, 2470.72it/s]\u001b[A\n",
      "101868it [00:30, 2484.33it/s]\u001b[A\n",
      "102119it [00:30, 2490.94it/s]\u001b[A\n",
      "102375it [00:30, 2510.62it/s]\u001b[A\n",
      "102627it [00:31, 2511.36it/s]\u001b[A\n",
      "102880it [00:31, 2516.25it/s]\u001b[A\n",
      "103132it [00:31, 2517.05it/s]\u001b[A\n",
      "103384it [00:31, 2509.20it/s]\u001b[A\n",
      "103635it [00:31, 2504.78it/s]\u001b[A\n",
      "103886it [00:31, 2504.47it/s]\u001b[A\n",
      "104138it [00:31, 2506.93it/s]\u001b[A\n",
      "104389it [00:31, 2504.18it/s]\u001b[A\n",
      "104642it [00:31, 2510.57it/s]\u001b[A\n",
      "104895it [00:31, 2514.18it/s]\u001b[A\n",
      "105148it [00:32, 2517.26it/s]\u001b[A\n",
      "105400it [00:32, 2508.02it/s]\u001b[A\n",
      "105651it [00:32, 2475.91it/s]\u001b[A\n",
      "105899it [00:32, 2474.18it/s]\u001b[A\n",
      "106151it [00:32, 2485.20it/s]\u001b[A\n",
      "106402it [00:32, 2490.38it/s]\u001b[A\n",
      "106652it [00:32, 2491.72it/s]\u001b[A\n",
      "106903it [00:32, 2495.71it/s]\u001b[A\n",
      "107154it [00:32, 2498.25it/s]\u001b[A\n",
      "107407it [00:32, 2505.93it/s]\u001b[A\n",
      "107660it [00:33, 2513.03it/s]\u001b[A\n",
      "107912it [00:33, 1587.53it/s]\u001b[A\n",
      "108114it [00:33, 1670.47it/s]\u001b[A\n",
      "108364it [00:33, 1854.00it/s]\u001b[A\n",
      "108612it [00:33, 2005.70it/s]\u001b[A\n",
      "108862it [00:33, 2131.09it/s]\u001b[A\n",
      "109108it [00:33, 2219.46it/s]\u001b[A\n",
      "109356it [00:33, 2290.78it/s]\u001b[A\n",
      "109601it [00:34, 2335.32it/s]\u001b[A\n",
      "109852it [00:34, 2385.10it/s]\u001b[A\n",
      "110104it [00:34, 2423.30it/s]\u001b[A\n",
      "110357it [00:34, 2451.73it/s]\u001b[A\n",
      "110610it [00:34, 2474.29it/s]\u001b[A\n",
      "110860it [00:34, 2479.98it/s]\u001b[A\n",
      "111112it [00:34, 2489.07it/s]\u001b[A\n",
      "111362it [00:34, 2491.70it/s]\u001b[A\n",
      "111613it [00:34, 2497.14it/s]\u001b[A\n",
      "111864it [00:34, 2368.14it/s]\u001b[A\n",
      "112103it [00:35, 2345.59it/s]\u001b[A\n",
      "112356it [00:35, 2396.63it/s]\u001b[A\n",
      "112607it [00:35, 2428.48it/s]\u001b[A\n",
      "112858it [00:35, 2450.58it/s]\u001b[A\n",
      "113114it [00:35, 2479.30it/s]\u001b[A\n",
      "113371it [00:35, 2503.15it/s]\u001b[A\n",
      "113626it [00:35, 2515.27it/s]\u001b[A\n",
      "113881it [00:35, 2524.40it/s]\u001b[A\n",
      "114135it [00:35, 2528.95it/s]\u001b[A\n",
      "114389it [00:35, 2528.27it/s]\u001b[A\n",
      "114644it [00:36, 2531.65it/s]\u001b[A\n",
      "114900it [00:36, 2537.89it/s]\u001b[A\n",
      "115154it [00:36, 2479.49it/s]\u001b[A\n",
      "115411it [00:36, 2500.65it/s]\u001b[A\n",
      "115666it [00:36, 2513.04it/s]\u001b[A\n",
      "115918it [00:36, 2500.76it/s]\u001b[A\n",
      "116169it [00:36, 2197.02it/s]\u001b[A\n",
      "116424it [00:36, 2292.03it/s]\u001b[A\n",
      "116679it [00:36, 2363.70it/s]\u001b[A\n",
      "116931it [00:37, 2407.63it/s]\u001b[A\n",
      "117176it [00:37, 2284.50it/s]\u001b[A\n",
      "117423it [00:37, 2335.66it/s]\u001b[A\n",
      "117676it [00:37, 2389.79it/s]\u001b[A\n",
      "117931it [00:37, 2434.62it/s]\u001b[A\n",
      "118184it [00:37, 2460.20it/s]\u001b[A\n",
      "118437it [00:37, 2478.02it/s]\u001b[A\n",
      "118690it [00:37, 2490.24it/s]\u001b[A\n",
      "118943it [00:37, 2499.80it/s]\u001b[A\n",
      "119196it [00:37, 2507.44it/s]\u001b[A\n",
      "119448it [00:38, 2430.34it/s]\u001b[A\n",
      "119701it [00:38, 2456.70it/s]\u001b[A\n",
      "119953it [00:38, 2472.99it/s]\u001b[A\n",
      "120206it [00:38, 2488.83it/s]\u001b[A\n",
      "120460it [00:38, 2501.85it/s]\u001b[A\n",
      "120712it [00:38, 2506.25it/s]\u001b[A\n",
      "120964it [00:38, 2509.08it/s]\u001b[A\n",
      "121216it [00:38, 2506.66it/s]\u001b[A\n",
      "121468it [00:38, 2508.04it/s]\u001b[A\n",
      "121720it [00:38, 2511.17it/s]\u001b[A\n",
      "121974it [00:39, 2516.92it/s]\u001b[A\n",
      "122228it [00:39, 2521.35it/s]\u001b[A\n",
      "122481it [00:39, 2520.51it/s]\u001b[A\n",
      "122734it [00:39, 2521.53it/s]\u001b[A\n",
      "122987it [00:39, 2521.94it/s]\u001b[A\n",
      "123240it [00:39, 2523.98it/s]\u001b[A\n",
      "123493it [00:39, 2519.66it/s]\u001b[A\n",
      "123747it [00:39, 2525.15it/s]\u001b[A\n",
      "124001it [00:39, 2529.03it/s]\u001b[A\n",
      "124254it [00:39, 2461.75it/s]\u001b[A\n",
      "124508it [00:40, 2484.52it/s]\u001b[A\n",
      "124759it [00:40, 2491.41it/s]\u001b[A\n",
      "125009it [00:40, 2492.48it/s]\u001b[A\n",
      "125259it [00:40, 2456.94it/s]\u001b[A\n",
      "125509it [00:40, 2469.52it/s]\u001b[A\n",
      "125757it [00:40, 2462.71it/s]\u001b[A\n",
      "126007it [00:40, 2472.73it/s]\u001b[A\n",
      "126257it [00:40, 2479.39it/s]\u001b[A\n",
      "126510it [00:40, 2491.81it/s]\u001b[A\n",
      "126760it [00:40, 2486.60it/s]\u001b[A\n",
      "127012it [00:41, 2494.53it/s]\u001b[A\n",
      "127265it [00:41, 2503.07it/s]\u001b[A\n",
      "127516it [00:41, 2480.77it/s]\u001b[A\n",
      "127770it [00:41, 2496.85it/s]\u001b[A\n",
      "128027it [00:41, 2515.76it/s]\u001b[A\n",
      "128280it [00:41, 2519.01it/s]\u001b[A\n",
      "128532it [00:41, 2336.54it/s]\u001b[A\n",
      "128787it [00:41, 2396.06it/s]\u001b[A\n",
      "129043it [00:41, 2442.63it/s]\u001b[A\n",
      "129298it [00:42, 2473.16it/s]\u001b[A\n",
      "129550it [00:42, 2485.51it/s]\u001b[A\n",
      "129803it [00:42, 2496.49it/s]\u001b[A\n",
      "130057it [00:42, 2507.47it/s]\u001b[A\n",
      "130312it [00:42, 2517.36it/s]\u001b[A\n",
      "130566it [00:42, 2522.41it/s]\u001b[A\n",
      "130821it [00:42, 2529.90it/s]\u001b[A\n",
      "131075it [00:42, 2528.27it/s]\u001b[A\n",
      "131328it [00:42, 2525.44it/s]\u001b[A\n",
      "131581it [00:42, 2526.00it/s]\u001b[A\n",
      "131834it [00:43, 2526.56it/s]\u001b[A\n",
      "132087it [00:43, 2523.85it/s]\u001b[A\n",
      "132340it [00:43, 2500.97it/s]\u001b[A\n",
      "132591it [00:43, 2502.73it/s]\u001b[A\n",
      "132845it [00:43, 2513.72it/s]\u001b[A\n",
      "133098it [00:43, 2518.24it/s]\u001b[A\n",
      "133350it [00:43, 2514.87it/s]\u001b[A\n",
      "133603it [00:43, 2517.72it/s]\u001b[A\n",
      "133858it [00:43, 2524.90it/s]\u001b[A\n",
      "134112it [00:43, 2527.30it/s]\u001b[A\n",
      "134366it [00:44, 2527.94it/s]\u001b[A\n",
      "134619it [00:44, 2465.03it/s]\u001b[A\n",
      "134875it [00:44, 2491.14it/s]\u001b[A\n",
      "135129it [00:44, 2504.66it/s]\u001b[A\n",
      "135383it [00:44, 2513.43it/s]\u001b[A\n",
      "135635it [00:44, 2504.40it/s]\u001b[A\n",
      "135893it [00:44, 2524.34it/s]\u001b[A\n",
      "136147it [00:44, 2528.70it/s]\u001b[A\n",
      "136400it [00:44, 2527.28it/s]\u001b[A\n",
      "136655it [00:44, 2531.96it/s]\u001b[A\n",
      "136909it [00:45, 2444.46it/s]\u001b[A\n",
      "137164it [00:45, 2474.12it/s]\u001b[A\n",
      "137420it [00:45, 2497.90it/s]\u001b[A\n",
      "137675it [00:45, 2510.67it/s]\u001b[A\n",
      "137929it [00:45, 2517.24it/s]\u001b[A\n",
      "138183it [00:45, 2523.96it/s]\u001b[A\n",
      "138438it [00:45, 2530.70it/s]\u001b[A\n",
      "138693it [00:45, 2534.17it/s]\u001b[A\n",
      "138948it [00:45, 2538.05it/s]\u001b[A\n",
      "139204it [00:45, 2542.63it/s]\u001b[A\n",
      "139459it [00:46, 2541.29it/s]\u001b[A\n",
      "139715it [00:46, 2544.39it/s]\u001b[A\n",
      "139970it [00:46, 2531.95it/s]\u001b[A\n",
      "140224it [00:46, 2526.90it/s]\u001b[A\n",
      "140478it [00:46, 2530.04it/s]\u001b[A\n",
      "140734it [00:46, 2536.50it/s]\u001b[A\n",
      "140989it [00:46, 2539.14it/s]\u001b[A\n",
      "141243it [00:46, 2538.63it/s]\u001b[A\n",
      "141497it [00:46, 2537.10it/s]\u001b[A\n",
      "141752it [00:46, 2539.07it/s]\u001b[A\n",
      "142007it [00:47, 2541.40it/s]\u001b[A\n",
      "142262it [00:47, 2542.48it/s]\u001b[A\n",
      "142517it [00:47, 2535.07it/s]\u001b[A\n",
      "142771it [00:47, 2527.31it/s]\u001b[A\n",
      "143024it [00:47, 2528.00it/s]\u001b[A\n",
      "143280it [00:47, 2536.14it/s]\u001b[A\n",
      "143534it [00:47, 2534.89it/s]\u001b[A\n",
      "143789it [00:47, 2539.20it/s]\u001b[A\n",
      "144045it [00:47, 2544.32it/s]\u001b[A\n",
      "144301it [00:47, 2548.65it/s]\u001b[A\n",
      "144558it [00:48, 2552.18it/s]\u001b[A\n",
      "144814it [00:48, 2552.19it/s]\u001b[A\n",
      "145070it [00:48, 2551.77it/s]\u001b[A\n",
      "145326it [00:48, 2545.11it/s]\u001b[A\n",
      "145582it [00:48, 2546.44it/s]\u001b[A\n",
      "145837it [00:48, 2546.58it/s]\u001b[A\n",
      "146094it [00:48, 2551.12it/s]\u001b[A\n",
      "146350it [00:48, 2547.77it/s]\u001b[A\n",
      "146605it [00:48, 2548.26it/s]\u001b[A\n",
      "146860it [00:48, 2540.58it/s]\u001b[A\n",
      "147115it [00:49, 2536.43it/s]\u001b[A\n",
      "147369it [00:49, 2531.20it/s]\u001b[A\n",
      "147623it [00:49, 2529.29it/s]\u001b[A\n",
      "147876it [00:49, 2521.22it/s]\u001b[A\n",
      "148129it [00:49, 2519.34it/s]\u001b[A\n",
      "148384it [00:49, 2525.61it/s]\u001b[A\n",
      "148638it [00:49, 2528.76it/s]\u001b[A\n",
      "148892it [00:49, 2529.37it/s]\u001b[A\n",
      "149145it [00:49, 2529.08it/s]\u001b[A\n",
      "149398it [00:49, 2462.22it/s]\u001b[A\n",
      "149652it [00:50, 2484.61it/s]\u001b[A\n",
      "149906it [00:50, 2500.07it/s]\u001b[A\n",
      "150161it [00:50, 2513.32it/s]\u001b[A\n",
      "150413it [00:50, 2507.86it/s]\u001b[A\n",
      "150665it [00:50, 2510.56it/s]\u001b[A\n",
      "150917it [00:50, 2513.10it/s]\u001b[A\n",
      "151170it [00:50, 2517.43it/s]\u001b[A\n",
      "151424it [00:50, 2521.64it/s]\u001b[A\n",
      "151677it [00:50, 2522.17it/s]\u001b[A\n",
      "151931it [00:50, 2525.58it/s]\u001b[A\n",
      "152184it [00:51, 2524.48it/s]\u001b[A\n",
      "152437it [00:51, 2519.71it/s]\u001b[A\n",
      "152689it [00:51, 2515.09it/s]\u001b[A\n",
      "152941it [00:51, 2511.21it/s]\u001b[A\n",
      "153195it [00:51, 2516.61it/s]\u001b[A\n",
      "153447it [00:51, 2436.24it/s]\u001b[A\n",
      "153700it [00:51, 2462.60it/s]\u001b[A\n"
     ]
    },
    {
     "name": "stderr",
     "output_type": "stream",
     "text": [
      "153951it [00:51, 2476.08it/s]\u001b[A\n",
      "154205it [00:51, 2492.63it/s]\u001b[A\n",
      "154456it [00:52, 2496.76it/s]\u001b[A\n",
      "154710it [00:52, 2509.20it/s]\u001b[A\n",
      "154962it [00:52, 2512.43it/s]\u001b[A\n",
      "155214it [00:52, 2509.12it/s]\u001b[A\n",
      "155465it [00:52, 2507.63it/s]\u001b[A\n",
      "155720it [00:52, 2517.72it/s]\u001b[A\n",
      "155972it [00:52, 2497.70it/s]\u001b[A\n",
      "156225it [00:52, 2506.92it/s]\u001b[A\n",
      "156476it [00:52, 2507.32it/s]\u001b[A\n",
      "156727it [00:52, 2491.12it/s]\u001b[A\n",
      "156981it [00:53, 2503.01it/s]\u001b[A\n",
      "157234it [00:53, 2509.60it/s]\u001b[A\n",
      "157488it [00:53, 2516.65it/s]\u001b[A\n",
      "157742it [00:53, 2521.93it/s]\u001b[A\n",
      "157995it [00:53, 2514.22it/s]\u001b[A\n",
      "158248it [00:53, 2514.65it/s]\u001b[A\n",
      "158500it [00:53, 2509.50it/s]\u001b[A\n",
      "158753it [00:53, 2513.57it/s]\u001b[A\n",
      "159007it [00:53, 2518.98it/s]\u001b[A\n",
      "159259it [00:53, 2519.27it/s]\u001b[A\n",
      "159514it [00:54, 2526.61it/s]\u001b[A\n",
      "159767it [00:54, 2524.06it/s]\u001b[A\n",
      "160020it [00:54, 2515.05it/s]\u001b[A\n",
      "160272it [00:54, 2513.92it/s]\u001b[A\n",
      "160525it [00:54, 2518.28it/s]\u001b[A\n",
      "160777it [00:54, 2518.15it/s]\u001b[A\n",
      "161029it [00:54, 2391.07it/s]\u001b[A\n",
      "161283it [00:54, 2433.50it/s]\u001b[A\n",
      "161536it [00:54, 2461.38it/s]\u001b[A\n",
      "161788it [00:54, 2478.13it/s]\u001b[A\n",
      "162041it [00:55, 2490.96it/s]\u001b[A\n",
      "162295it [00:55, 2503.19it/s]\u001b[A\n",
      "162548it [00:55, 2510.68it/s]\u001b[A\n",
      "162801it [00:55, 2515.25it/s]\u001b[A\n",
      "163054it [00:55, 2516.92it/s]\u001b[A\n",
      "163306it [00:55, 2486.48it/s]\u001b[A\n",
      "163559it [00:55, 2498.37it/s]\u001b[A\n",
      "163812it [00:55, 2505.97it/s]\u001b[A\n",
      "164065it [00:55, 2512.41it/s]\u001b[A\n",
      "164318it [00:55, 2516.68it/s]\u001b[A\n",
      "164570it [00:56, 2517.67it/s]\u001b[A\n",
      "164824it [00:56, 2522.08it/s]\u001b[A\n",
      "165078it [00:56, 2525.42it/s]\u001b[A\n",
      "165331it [00:56, 2522.56it/s]\u001b[A\n",
      "165584it [00:56, 2522.61it/s]\u001b[A\n",
      "165837it [00:56, 2523.25it/s]\u001b[A\n",
      "166090it [00:56, 2524.71it/s]\u001b[A\n",
      "166343it [00:56, 2525.36it/s]\u001b[A\n",
      "166597it [00:56, 2528.06it/s]\u001b[A\n",
      "166851it [00:56, 2529.38it/s]\u001b[A\n",
      "167104it [00:57, 2520.91it/s]\u001b[A\n",
      "167357it [00:57, 2514.07it/s]\u001b[A\n",
      "167609it [00:57, 2514.86it/s]\u001b[A\n",
      "167863it [00:57, 2520.38it/s]\u001b[A\n",
      "168116it [00:57, 2518.94it/s]\u001b[A\n",
      "168369it [00:57, 2522.16it/s]\u001b[A\n",
      "168622it [00:57, 2510.31it/s]\u001b[A\n",
      "168874it [00:57, 2512.29it/s]\u001b[A\n",
      "169126it [00:57, 2513.22it/s]\u001b[A\n",
      "169380it [00:57, 2519.19it/s]\u001b[A\n",
      "169633it [00:58, 2519.93it/s]\u001b[A\n",
      "169885it [00:58, 2519.17it/s]\u001b[A\n",
      "170137it [00:58, 2517.31it/s]\u001b[A\n",
      "170390it [00:58, 2519.13it/s]\u001b[A\n",
      "170643it [00:58, 2521.48it/s]\u001b[A\n",
      "170897it [00:58, 2524.85it/s]\u001b[A\n",
      "171151it [00:58, 2527.18it/s]\u001b[A\n",
      "171404it [00:58, 2523.86it/s]\u001b[A\n",
      "171658it [00:58, 2526.49it/s]\u001b[A\n",
      "171912it [00:58, 2527.80it/s]\u001b[A\n",
      "172166it [00:59, 2530.46it/s]\u001b[A\n",
      "172420it [00:59, 2532.54it/s]\u001b[A\n",
      "172674it [00:59, 2531.23it/s]\u001b[A\n",
      "172928it [00:59, 2527.94it/s]\u001b[A\n",
      "173181it [00:59, 2526.79it/s]\u001b[A\n",
      "173434it [00:59, 2518.76it/s]\u001b[A\n",
      "173686it [00:59, 2417.05it/s]\u001b[A\n",
      "173939it [00:59, 2447.30it/s]\u001b[A\n",
      "174190it [00:59, 2462.97it/s]\u001b[A\n",
      "174443it [00:59, 2480.61it/s]\u001b[A\n",
      "174695it [01:00, 2492.08it/s]\u001b[A\n",
      "174945it [01:00, 2453.30it/s]\u001b[A\n",
      "175196it [01:00, 2468.15it/s]\u001b[A\n",
      "175450it [01:00, 2488.85it/s]\u001b[A\n",
      "175706it [01:00, 2507.72it/s]\u001b[A\n",
      "175959it [01:00, 2514.17it/s]\u001b[A\n",
      "176211it [01:00, 2514.50it/s]\u001b[A\n",
      "176464it [01:00, 2518.79it/s]\u001b[A\n",
      "176716it [01:00, 2514.27it/s]\u001b[A\n",
      "176968it [01:00, 2503.35it/s]\u001b[A\n",
      "177220it [01:01, 2508.23it/s]\u001b[A\n",
      "177472it [01:01, 2511.53it/s]\u001b[A\n",
      "177724it [01:01, 2512.79it/s]\u001b[A\n",
      "177978it [01:01, 2519.13it/s]\u001b[A\n",
      "178231it [01:01, 2521.95it/s]\u001b[A\n",
      "178484it [01:01, 2515.43it/s]\u001b[A\n",
      "178736it [01:01, 2513.92it/s]\u001b[A\n",
      "178989it [01:01, 2517.41it/s]\u001b[A\n",
      "179242it [01:01, 2518.86it/s]\u001b[A\n",
      "179496it [01:01, 2522.41it/s]\u001b[A\n",
      "179749it [01:02, 2523.81it/s]\u001b[A\n",
      "180002it [01:02, 2516.63it/s]\u001b[A\n",
      "180255it [01:02, 2519.34it/s]\u001b[A\n",
      "180507it [01:02, 2509.77it/s]\u001b[A\n",
      "180758it [01:02, 2507.45it/s]\u001b[A\n",
      "181009it [01:02, 2507.61it/s]\u001b[A\n",
      "181261it [01:02, 2511.06it/s]\u001b[A\n",
      "181513it [01:02, 2503.83it/s]\u001b[A\n",
      "181765it [01:02, 2507.96it/s]\u001b[A\n",
      "182018it [01:02, 2513.97it/s]\u001b[A\n",
      "182272it [01:03, 2519.25it/s]\u001b[A\n",
      "182526it [01:03, 2519.63it/s]\u001b[A\n",
      "182778it [01:03, 2514.23it/s]\u001b[A\n",
      "183030it [01:03, 2515.40it/s]\u001b[A\n",
      "183284it [01:03, 2521.81it/s]\u001b[A\n",
      "183538it [01:03, 2525.87it/s]\u001b[A\n",
      "183791it [01:03, 2526.45it/s]\u001b[A\n",
      "184044it [01:03, 2522.80it/s]\u001b[A\n",
      "184297it [01:03, 2524.82it/s]\u001b[A\n",
      "184550it [01:03, 2523.04it/s]\u001b[A\n",
      "184803it [01:04, 2521.43it/s]\u001b[A\n",
      "185057it [01:04, 2525.34it/s]\u001b[A\n",
      "185310it [01:04, 2523.73it/s]\u001b[A\n",
      "185563it [01:04, 2522.01it/s]\u001b[A\n",
      "185817it [01:04, 2524.60it/s]\u001b[A\n",
      "186070it [01:04, 2459.98it/s]\u001b[A\n",
      "186322it [01:04, 2476.20it/s]\u001b[A\n",
      "186573it [01:04, 2485.65it/s]\u001b[A\n",
      "186825it [01:04, 2494.53it/s]\u001b[A\n",
      "187077it [01:04, 2501.90it/s]\u001b[A\n",
      "187329it [01:05, 2505.03it/s]\u001b[A\n",
      "187580it [01:05, 2505.76it/s]\u001b[A\n",
      "187833it [01:05, 2511.79it/s]\u001b[A\n",
      "188085it [01:05, 2513.76it/s]\u001b[A\n",
      "188339it [01:05, 2518.77it/s]\u001b[A\n",
      "188592it [01:05, 2520.35it/s]\u001b[A\n",
      "188845it [01:05, 2516.79it/s]\u001b[A\n",
      "189097it [01:05, 2516.20it/s]\u001b[A\n",
      "189349it [01:05, 2516.81it/s]\u001b[A\n",
      "189603it [01:06, 2522.95it/s]\u001b[A\n",
      "189857it [01:06, 2525.69it/s]\u001b[A\n",
      "190110it [01:06, 2515.73it/s]\u001b[A\n",
      "190364it [01:06, 2520.88it/s]\u001b[A\n",
      "190619it [01:06, 2527.10it/s]\u001b[A\n",
      "190872it [01:06, 2527.07it/s]\u001b[A\n",
      "191125it [01:06, 2527.01it/s]\u001b[A\n",
      "191378it [01:06, 2526.67it/s]\u001b[A\n",
      "191631it [01:06, 2526.19it/s]\u001b[A\n",
      "191884it [01:06, 2526.45it/s]\u001b[A\n",
      "192137it [01:07, 2524.04it/s]\u001b[A\n",
      "192390it [01:07, 2522.26it/s]\u001b[A\n",
      "192643it [01:07, 2523.32it/s]\u001b[A\n",
      "192896it [01:07, 2509.73it/s]\u001b[A\n",
      "193148it [01:07, 2512.17it/s]\u001b[A\n",
      "193401it [01:07, 2516.55it/s]\u001b[A\n",
      "193654it [01:07, 2518.53it/s]\u001b[A\n",
      "193908it [01:07, 2523.31it/s]\u001b[A\n",
      "194161it [01:07, 2514.91it/s]\u001b[A\n",
      "194413it [01:07, 2512.53it/s]\u001b[A\n",
      "194666it [01:08, 2515.57it/s]\u001b[A\n",
      "194920it [01:08, 2520.23it/s]\u001b[A\n",
      "195173it [01:08, 2521.65it/s]\u001b[A\n",
      "195427it [01:08, 2525.03it/s]\u001b[A\n",
      "195680it [01:08, 2526.44it/s]\u001b[A\n",
      "195934it [01:08, 2530.21it/s]\u001b[A\n",
      "196188it [01:08, 2522.28it/s]\u001b[A\n",
      "196441it [01:08, 2520.41it/s]\u001b[A\n",
      "196695it [01:08, 2524.27it/s]\u001b[A\n",
      "196948it [01:08, 2520.13it/s]\u001b[A\n",
      "197201it [01:09, 2513.66it/s]\u001b[A\n",
      "197453it [01:09, 2511.76it/s]\u001b[A\n",
      "197705it [01:09, 2511.40it/s]\u001b[A\n",
      "197958it [01:09, 2514.83it/s]\u001b[A\n",
      "198210it [01:09, 2516.09it/s]\u001b[A\n",
      "198462it [01:09, 2517.01it/s]\u001b[A\n",
      "198714it [01:09, 2415.82it/s]\u001b[A\n",
      "198967it [01:09, 2448.66it/s]\u001b[A\n",
      "199217it [01:09, 2461.15it/s]\u001b[A\n",
      "199469it [01:09, 2478.27it/s]\u001b[A\n",
      "199721it [01:10, 2490.25it/s]\u001b[A\n",
      "199975it [01:10, 2503.34it/s]\u001b[A\n",
      "200227it [01:10, 2507.87it/s]\u001b[A\n",
      "200481it [01:10, 2514.98it/s]\u001b[A\n",
      "200733it [01:10, 2515.97it/s]\u001b[A\n",
      "200989it [01:10, 2525.83it/s]\u001b[A\n",
      "201242it [01:10, 2525.78it/s]\u001b[A\n",
      "201495it [01:10, 2526.47it/s]\u001b[A\n",
      "201748it [01:10, 2521.91it/s]\u001b[A\n",
      "202001it [01:10, 2524.19it/s]\u001b[A\n",
      "202254it [01:11, 2525.42it/s]\u001b[A\n",
      "202507it [01:11, 2526.19it/s]\u001b[A\n",
      "202760it [01:11, 2522.63it/s]\u001b[A\n",
      "203013it [01:11, 2518.02it/s]\u001b[A\n",
      "203266it [01:11, 2519.70it/s]\u001b[A\n",
      "203518it [01:11, 2519.31it/s]\u001b[A\n",
      "203770it [01:11, 2507.28it/s]\u001b[A\n",
      "204021it [01:11, 2482.37it/s]\u001b[A\n",
      "204270it [01:11, 2483.89it/s]\u001b[A\n",
      "204523it [01:11, 2495.23it/s]\u001b[A\n",
      "204775it [01:12, 2501.83it/s]\u001b[A\n",
      "205029it [01:12, 2511.95it/s]\u001b[A\n",
      "205282it [01:12, 2515.17it/s]\u001b[A\n",
      "205537it [01:12, 2523.11it/s]\u001b[A\n",
      "205790it [01:12, 2520.85it/s]\u001b[A\n",
      "206043it [01:12, 2520.88it/s]\u001b[A\n",
      "206296it [01:12, 2520.52it/s]\u001b[A\n",
      "206550it [01:12, 2526.04it/s]\u001b[A\n",
      "206804it [01:12, 2529.10it/s]\u001b[A\n",
      "207057it [01:12, 2529.20it/s]\u001b[A\n",
      "207310it [01:13, 2529.19it/s]\u001b[A\n",
      "207564it [01:13, 2531.28it/s]\u001b[A\n",
      "207818it [01:13, 2522.95it/s]\u001b[A\n",
      "208072it [01:13, 2526.66it/s]\u001b[A\n",
      "208326it [01:13, 2528.95it/s]\u001b[A\n",
      "208581it [01:13, 2532.81it/s]\u001b[A\n",
      "208835it [01:13, 2528.09it/s]\u001b[A\n",
      "209089it [01:13, 2531.55it/s]\u001b[A\n",
      "209343it [01:13, 2531.45it/s]\u001b[A\n",
      "209597it [01:13, 2530.50it/s]\u001b[A\n",
      "209851it [01:14, 2529.81it/s]\u001b[A\n",
      "210104it [01:14, 2528.45it/s]\u001b[A\n",
      "210358it [01:14, 2530.43it/s]\u001b[A\n",
      "210612it [01:14, 2513.99it/s]\u001b[A\n",
      "210865it [01:14, 2518.04it/s]\u001b[A\n",
      "211121it [01:14, 2530.38it/s]\u001b[A\n",
      "211375it [01:14, 2453.93it/s]\u001b[A\n",
      "211629it [01:14, 2479.02it/s]\u001b[A\n",
      "211882it [01:14, 2493.53it/s]\u001b[A\n",
      "212135it [01:14, 2502.95it/s]\u001b[A\n",
      "212389it [01:15, 2511.78it/s]\u001b[A\n",
      "212641it [01:15, 2512.19it/s]\u001b[A\n",
      "212895it [01:15, 2517.72it/s]\u001b[A\n",
      "213149it [01:15, 2521.92it/s]\u001b[A\n",
      "213403it [01:15, 2526.00it/s]\u001b[A\n",
      "213656it [01:15, 2341.89it/s]\u001b[A\n",
      "213902it [01:15, 2373.95it/s]\u001b[A\n",
      "214157it [01:15, 2422.11it/s]\u001b[A\n",
      "214412it [01:15, 2458.75it/s]\u001b[A\n",
      "214668it [01:15, 2487.69it/s]\u001b[A\n",
      "214924it [01:16, 2506.72it/s]\u001b[A\n",
      "215179it [01:16, 2518.38it/s]\u001b[A\n",
      "215435it [01:16, 2529.73it/s]\u001b[A\n",
      "215691it [01:16, 2537.09it/s]\u001b[A\n",
      "215946it [01:16, 2540.78it/s]\u001b[A\n",
      "216202it [01:16, 2546.51it/s]\u001b[A\n",
      "216459it [01:16, 2551.61it/s]\u001b[A\n"
     ]
    },
    {
     "name": "stderr",
     "output_type": "stream",
     "text": [
      "216715it [01:16, 2552.89it/s]\u001b[A\n",
      "216971it [01:16, 2553.81it/s]\u001b[A\n",
      "217227it [01:16, 2555.34it/s]\u001b[A\n",
      "217483it [01:17, 2553.84it/s]\u001b[A\n",
      "217739it [01:17, 2553.99it/s]\u001b[A\n",
      "217995it [01:17, 2551.66it/s]\u001b[A\n",
      "218251it [01:17, 2548.56it/s]\u001b[A\n",
      "218506it [01:17, 2538.80it/s]\u001b[A\n",
      "218760it [01:17, 2235.33it/s]\u001b[A\n",
      "219013it [01:17, 2315.74it/s]\u001b[A\n",
      "219267it [01:17, 2376.65it/s]\u001b[A\n",
      "219520it [01:17, 2420.40it/s]\u001b[A\n",
      "219773it [01:18, 2449.77it/s]\u001b[A\n",
      "220028it [01:18, 2477.71it/s]\u001b[A\n",
      "220281it [01:18, 2491.38it/s]\u001b[A\n",
      "220536it [01:18, 2506.04it/s]\u001b[A\n",
      "220788it [01:18, 2509.97it/s]\u001b[A\n",
      "221041it [01:18, 2514.94it/s]\u001b[A\n",
      "221294it [01:18, 2517.49it/s]\u001b[A\n",
      "221548it [01:18, 2523.43it/s]\u001b[A\n",
      "221801it [01:18, 2521.02it/s]\u001b[A\n",
      "222054it [01:18, 2520.45it/s]\u001b[A\n",
      "222308it [01:19, 2525.86it/s]\u001b[A\n",
      "222562it [01:19, 2529.36it/s]\u001b[A\n",
      "222816it [01:19, 2530.97it/s]\u001b[A\n",
      "223070it [01:19, 2530.38it/s]\u001b[A\n",
      "223325it [01:19, 2534.88it/s]\u001b[A\n",
      "223579it [01:19, 2535.74it/s]\u001b[A\n",
      "223833it [01:19, 2459.04it/s]\u001b[A\n",
      "224086it [01:19, 2478.96it/s]\u001b[A\n",
      "224340it [01:19, 2495.44it/s]\u001b[A\n",
      "224594it [01:19, 2507.11it/s]\u001b[A\n",
      "224848it [01:20, 2514.39it/s]\u001b[A\n",
      "225102it [01:20, 2520.72it/s]\u001b[A\n",
      "225355it [01:20, 2517.83it/s]\u001b[A\n",
      "225607it [01:20, 2516.47it/s]\u001b[A\n",
      "225859it [01:20, 2514.88it/s]\u001b[A\n",
      "226112it [01:20, 2516.84it/s]\u001b[A\n",
      "226364it [01:20, 2510.24it/s]\u001b[A\n",
      "226616it [01:20, 2504.14it/s]\u001b[A\n",
      "226869it [01:20, 2511.23it/s]\u001b[A\n",
      "227124it [01:20, 2521.47it/s]\u001b[A\n",
      "227377it [01:21, 2519.15it/s]\u001b[A\n",
      "227631it [01:21, 2523.88it/s]\u001b[A\n",
      "227885it [01:21, 2526.01it/s]\u001b[A\n",
      "228139it [01:21, 2528.98it/s]\u001b[A\n",
      "228393it [01:21, 2530.44it/s]\u001b[A\n",
      "228647it [01:21, 2515.65it/s]\u001b[A\n",
      "228900it [01:21, 2517.78it/s]\u001b[A\n",
      "229155it [01:21, 2526.03it/s]\u001b[A\n",
      "229408it [01:21, 2525.69it/s]\u001b[A\n",
      "229661it [01:21, 2521.94it/s]\u001b[A\n",
      "229914it [01:22, 2524.19it/s]\u001b[A\n",
      "230167it [01:22, 2519.07it/s]\u001b[A\n",
      "230422it [01:22, 2525.53it/s]\u001b[A\n",
      "230675it [01:22, 2516.04it/s]\u001b[A\n",
      "230928it [01:22, 2518.83it/s]\u001b[A\n",
      "231180it [01:22, 2515.91it/s]\u001b[A\n",
      "231432it [01:22, 2514.80it/s]\u001b[A\n",
      "231687it [01:22, 2525.05it/s]\u001b[A\n",
      "231940it [01:22, 2520.88it/s]\u001b[A\n",
      "232193it [01:22, 2523.49it/s]\u001b[A\n",
      "232446it [01:23, 2514.25it/s]\u001b[A\n",
      "232700it [01:23, 2518.94it/s]\u001b[A\n",
      "232954it [01:23, 2524.58it/s]\u001b[A\n",
      "233207it [01:23, 2524.55it/s]\u001b[A\n",
      "233460it [01:23, 2525.89it/s]\u001b[A\n",
      "233713it [01:23, 2526.30it/s]\u001b[A\n",
      "233966it [01:23, 2526.93it/s]\u001b[A\n",
      "234220it [01:23, 2530.08it/s]\u001b[A\n",
      "234474it [01:23, 2528.37it/s]\u001b[A\n",
      "234728it [01:23, 2531.82it/s]\u001b[A\n",
      "234983it [01:24, 2536.48it/s]\u001b[A\n",
      "235237it [01:24, 2530.38it/s]\u001b[A\n",
      "235492it [01:24, 2533.65it/s]\u001b[A\n",
      "235746it [01:24, 2533.64it/s]\u001b[A\n",
      "236000it [01:24, 2534.83it/s]\u001b[A\n",
      "236254it [01:24, 2427.37it/s]\u001b[A\n",
      "236508it [01:24, 2457.43it/s]\u001b[A\n",
      "236762it [01:24, 2480.09it/s]\u001b[A\n",
      "237014it [01:24, 2490.44it/s]\u001b[A\n",
      "237267it [01:24, 2499.35it/s]\u001b[A\n",
      "237519it [01:25, 2505.08it/s]\u001b[A\n",
      "237772it [01:25, 2511.80it/s]\u001b[A\n",
      "238027it [01:25, 2522.22it/s]\u001b[A\n",
      "238282it [01:25, 2527.66it/s]\u001b[A\n",
      "238535it [01:25, 2525.96it/s]\u001b[A\n",
      "238788it [01:25, 2526.37it/s]\u001b[A\n",
      "239041it [01:25, 2526.99it/s]\u001b[A\n",
      "239294it [01:25, 2526.21it/s]\u001b[A\n",
      "239547it [01:25, 2521.49it/s]\u001b[A\n",
      "239800it [01:25, 2519.02it/s]\u001b[A\n",
      "240053it [01:26, 2520.69it/s]\u001b[A\n",
      "240306it [01:26, 2508.85it/s]\u001b[A\n",
      "240560it [01:26, 2516.03it/s]\u001b[A\n",
      "240813it [01:26, 2518.66it/s]\u001b[A\n",
      "241067it [01:26, 2524.47it/s]\u001b[A\n",
      "241322it [01:26, 2530.59it/s]\u001b[A\n",
      "241576it [01:26, 2527.75it/s]\u001b[A\n",
      "241830it [01:26, 2530.02it/s]\u001b[A\n",
      "242084it [01:26, 2531.58it/s]\u001b[A\n",
      "242338it [01:26, 2533.12it/s]\u001b[A\n",
      "242592it [01:27, 2529.69it/s]\u001b[A\n",
      "242847it [01:27, 2533.77it/s]\u001b[A\n",
      "243101it [01:27, 2525.92it/s]\u001b[A\n",
      "243354it [01:27, 2523.23it/s]\u001b[A\n",
      "243611it [01:27, 2535.24it/s]\u001b[A\n",
      "243865it [01:27, 2535.31it/s]\u001b[A\n",
      "244121it [01:27, 2540.66it/s]\u001b[A\n",
      "244376it [01:27, 2534.69it/s]\u001b[A\n",
      "244631it [01:27, 2537.79it/s]\u001b[A\n",
      "244885it [01:28, 2515.53it/s]\u001b[A\n",
      "245141it [01:28, 2526.01it/s]\u001b[A\n",
      "245397it [01:28, 2533.65it/s]\u001b[A\n",
      "245653it [01:28, 2539.42it/s]\u001b[A\n",
      "245909it [01:28, 2542.99it/s]\u001b[A\n",
      "246164it [01:28, 2541.64it/s]\u001b[A\n",
      "246420it [01:28, 2544.90it/s]\u001b[A\n",
      "246676it [01:28, 2546.77it/s]\u001b[A\n",
      "246932it [01:28, 2548.42it/s]\u001b[A\n",
      "247187it [01:28, 2544.35it/s]\u001b[A\n",
      "247443it [01:29, 2546.95it/s]\u001b[A\n",
      "247699it [01:29, 2548.86it/s]\u001b[A\n",
      "247955it [01:29, 2550.14it/s]\u001b[A\n",
      "248211it [01:29, 2546.65it/s]\u001b[A\n",
      "248467it [01:29, 2550.19it/s]\u001b[A\n",
      "248723it [01:29, 2550.44it/s]\u001b[A\n",
      "248979it [01:29, 2443.61it/s]\u001b[A\n",
      "249233it [01:29, 2470.65it/s]\u001b[A\n",
      "249487it [01:29, 2490.82it/s]\u001b[A\n",
      "249744it [01:29, 2512.08it/s]\u001b[A\n",
      "250000it [01:30, 2525.54it/s]\u001b[A\n",
      "250256it [01:30, 2534.93it/s]\u001b[A\n",
      "250512it [01:30, 2540.02it/s]\u001b[A\n",
      "250768it [01:30, 2544.32it/s]\u001b[A\n",
      "251024it [01:30, 2546.60it/s]\u001b[A\n",
      "251279it [01:30, 2531.39it/s]\u001b[A\n",
      "251533it [01:30, 2375.43it/s]\u001b[A\n",
      "251787it [01:30, 2420.18it/s]\u001b[A\n",
      "252044it [01:30, 2462.16it/s]\u001b[A\n",
      "252303it [01:30, 2497.22it/s]\u001b[A\n",
      "252560it [01:31, 2516.68it/s]\u001b[A\n",
      "252817it [01:31, 2529.93it/s]\u001b[A\n",
      "253071it [01:31, 2531.03it/s]\u001b[A\n",
      "253328it [01:31, 2540.11it/s]\u001b[A\n",
      "253584it [01:31, 2545.50it/s]\u001b[A\n",
      "253839it [01:31, 2540.56it/s]\u001b[A\n",
      "254095it [01:31, 2546.11it/s]\u001b[A\n",
      "254350it [01:31, 2543.54it/s]\u001b[A\n",
      "254607it [01:31, 2548.77it/s]\u001b[A\n",
      "254862it [01:31, 2547.29it/s]\u001b[A\n",
      "255118it [01:32, 2549.80it/s]\u001b[A\n",
      "255374it [01:32, 2552.56it/s]\u001b[A\n",
      "255630it [01:32, 2549.33it/s]\u001b[A\n",
      "255885it [01:32, 2546.55it/s]\u001b[A\n",
      "256141it [01:32, 2549.97it/s]\u001b[A\n",
      "256397it [01:32, 2550.13it/s]\u001b[A\n",
      "256653it [01:32, 2549.90it/s]\u001b[A\n",
      "256909it [01:32, 2551.89it/s]\u001b[A\n",
      "257165it [01:32, 2551.87it/s]\u001b[A\n",
      "257421it [01:32, 2551.30it/s]\u001b[A\n",
      "257677it [01:33, 2551.88it/s]\u001b[A\n",
      "257933it [01:33, 2552.39it/s]\u001b[A\n",
      "258190it [01:33, 2555.21it/s]\u001b[A\n",
      "258446it [01:33, 2555.63it/s]\u001b[A\n",
      "258702it [01:33, 2547.74it/s]\u001b[A\n",
      "258957it [01:33, 2545.49it/s]\u001b[A\n",
      "259212it [01:33, 2546.08it/s]\u001b[A\n",
      "259467it [01:33, 2544.38it/s]\u001b[A\n",
      "259722it [01:33, 2542.63it/s]\u001b[A\n",
      "259977it [01:33, 2539.65it/s]\u001b[A\n",
      "260232it [01:34, 2540.49it/s]\u001b[A\n",
      "260488it [01:34, 2544.17it/s]\u001b[A\n",
      "260743it [01:34, 2530.67it/s]\u001b[A\n",
      "260997it [01:34, 2531.17it/s]\u001b[A\n",
      "261254it [01:34, 2541.58it/s]\u001b[A\n",
      "261510it [01:34, 2545.35it/s]\u001b[A\n",
      "261765it [01:34, 2542.06it/s]\u001b[A\n",
      "262021it [01:34, 2544.47it/s]\u001b[A\n",
      "262276it [01:34, 2544.17it/s]\u001b[A\n",
      "262532it [01:34, 2546.71it/s]\u001b[A\n",
      "262787it [01:35, 2546.62it/s]\u001b[A\n",
      "263043it [01:35, 2550.53it/s]\u001b[A\n",
      "263299it [01:35, 2546.57it/s]\u001b[A\n",
      "263556it [01:35, 2552.07it/s]\u001b[A\n",
      "263813it [01:35, 2556.07it/s]\u001b[A\n",
      "264069it [01:35, 2448.54it/s]\u001b[A\n",
      "264325it [01:35, 2478.94it/s]\u001b[A\n",
      "264581it [01:35, 2501.48it/s]\u001b[A\n",
      "264834it [01:35, 2509.10it/s]\u001b[A\n",
      "265089it [01:35, 2519.15it/s]\u001b[A\n",
      "265342it [01:36, 2519.04it/s]\u001b[A\n",
      "265595it [01:36, 2517.70it/s]\u001b[A\n",
      "265849it [01:36, 2521.79it/s]\u001b[A\n",
      "266105it [01:36, 2530.87it/s]\u001b[A\n",
      "266359it [01:36, 2516.06it/s]\u001b[A\n",
      "266612it [01:36, 2518.35it/s]\u001b[A\n",
      "266868it [01:36, 2530.31it/s]\u001b[A\n",
      "267124it [01:36, 2536.87it/s]\u001b[A\n",
      "267378it [01:36, 2534.32it/s]\u001b[A\n",
      "267634it [01:36, 2541.42it/s]\u001b[A\n",
      "267889it [01:37, 2543.64it/s]\u001b[A\n",
      "268145it [01:37, 2548.22it/s]\u001b[A\n",
      "268401it [01:37, 2549.32it/s]\u001b[A\n",
      "268658it [01:37, 2554.59it/s]\u001b[A\n",
      "268914it [01:37, 2550.00it/s]\u001b[A\n",
      "269170it [01:37, 2539.76it/s]\u001b[A\n",
      "269425it [01:37, 2540.71it/s]\u001b[A\n",
      "269680it [01:37, 2541.17it/s]\u001b[A\n",
      "269936it [01:37, 2544.68it/s]\u001b[A\n",
      "270191it [01:37, 2545.40it/s]\u001b[A\n",
      "270446it [01:38, 2537.75it/s]\u001b[A\n",
      "270702it [01:38, 2543.43it/s]\u001b[A\n",
      "270957it [01:38, 2541.67it/s]\u001b[A\n",
      "271213it [01:38, 2544.41it/s]\u001b[A\n",
      "271468it [01:38, 2543.87it/s]\u001b[A\n",
      "271723it [01:38, 2538.73it/s]\u001b[A\n",
      "271978it [01:38, 2539.35it/s]\u001b[A\n",
      "272232it [01:38, 2533.83it/s]\u001b[A\n",
      "272486it [01:38, 2533.87it/s]\u001b[A\n",
      "272743it [01:39, 2543.48it/s]\u001b[A\n",
      "272999it [01:39, 2546.56it/s]\u001b[A\n",
      "273255it [01:39, 2547.78it/s]\u001b[A\n",
      "273510it [01:39, 2537.83it/s]\u001b[A\n",
      "273766it [01:39, 2542.76it/s]\u001b[A\n",
      "274021it [01:39, 2544.12it/s]\u001b[A\n",
      "274276it [01:39, 2543.28it/s]\u001b[A\n",
      "274531it [01:39, 2543.67it/s]\u001b[A\n",
      "274786it [01:39, 2544.55it/s]\u001b[A\n",
      "275042it [01:39, 2546.01it/s]\u001b[A\n",
      "275297it [01:40, 2543.84it/s]\u001b[A\n",
      "275553it [01:40, 2546.51it/s]\u001b[A\n",
      "275809it [01:40, 2548.04it/s]\u001b[A\n",
      "276064it [01:40, 2534.44it/s]\u001b[A\n",
      "276318it [01:40, 2534.91it/s]\u001b[A\n",
      "276573it [01:40, 2539.35it/s]\u001b[A\n",
      "276827it [01:40, 2441.84it/s]\u001b[A\n",
      "277083it [01:40, 2474.41it/s]\u001b[A\n",
      "277339it [01:40, 2499.10it/s]\u001b[A\n",
      "277595it [01:40, 2515.79it/s]\u001b[A\n",
      "277851it [01:41, 2528.57it/s]\u001b[A\n",
      "278108it [01:41, 2539.60it/s]\u001b[A\n",
      "278363it [01:41, 2541.17it/s]\u001b[A\n",
      "278618it [01:41, 2543.07it/s]\u001b[A\n",
      "278874it [01:41, 2547.81it/s]\u001b[A\n",
      "279131it [01:41, 2552.65it/s]\u001b[A\n",
      "279391it [01:41, 2565.34it/s]\u001b[A\n",
      "279648it [01:41, 2561.23it/s]\u001b[A\n"
     ]
    },
    {
     "name": "stderr",
     "output_type": "stream",
     "text": [
      "279905it [01:41, 2553.03it/s]\u001b[A\n",
      "280161it [01:41, 2551.41it/s]\u001b[A\n",
      "280419it [01:42, 2557.17it/s]\u001b[A\n",
      "280675it [01:42, 2555.50it/s]\u001b[A\n",
      "280931it [01:42, 2553.91it/s]\u001b[A\n",
      "281187it [01:42, 2554.01it/s]\u001b[A\n",
      "281443it [01:42, 2554.50it/s]\u001b[A\n",
      "281699it [01:42, 2543.12it/s]\u001b[A\n",
      "281954it [01:42, 2543.84it/s]\u001b[A\n",
      "282209it [01:42, 2543.35it/s]\u001b[A\n",
      "282464it [01:42, 2544.39it/s]\u001b[A\n",
      "282720it [01:42, 2548.16it/s]\u001b[A\n",
      "282976it [01:43, 2549.21it/s]\u001b[A\n",
      "283231it [01:43, 2538.77it/s]\u001b[A\n",
      "283487it [01:43, 2543.18it/s]\u001b[A\n",
      "283742it [01:43, 2540.22it/s]\u001b[A\n",
      "283998it [01:43, 2543.31it/s]\u001b[A\n",
      "284254it [01:43, 2545.97it/s]\u001b[A\n",
      "284509it [01:43, 2545.23it/s]\u001b[A\n",
      "284765it [01:43, 2547.11it/s]\u001b[A\n",
      "285020it [01:43, 2545.69it/s]\u001b[A\n",
      "285275it [01:43, 2545.70it/s]\u001b[A\n",
      "285531it [01:44, 2549.59it/s]\u001b[A\n",
      "285787it [01:44, 2550.18it/s]\u001b[A\n",
      "286043it [01:44, 2545.18it/s]\u001b[A\n",
      "286298it [01:44, 2542.86it/s]\u001b[A\n",
      "286553it [01:44, 2542.51it/s]\u001b[A\n",
      "286808it [01:44, 2541.69it/s]\u001b[A\n",
      "287063it [01:44, 2539.80it/s]\u001b[A\n",
      "287318it [01:44, 2541.60it/s]\u001b[A\n",
      "287573it [01:44, 2541.08it/s]\u001b[A\n",
      "287829it [01:44, 2544.04it/s]\u001b[A\n",
      "288085it [01:45, 2546.14it/s]\u001b[A\n",
      "288340it [01:45, 2546.80it/s]\u001b[A\n",
      "288596it [01:45, 2549.25it/s]\u001b[A\n",
      "288851it [01:45, 2548.90it/s]\u001b[A\n",
      "289106it [01:45, 2548.42it/s]\u001b[A\n",
      "289361it [01:45, 2544.80it/s]\u001b[A\n",
      "289616it [01:45, 2441.22it/s]\u001b[A\n",
      "289872it [01:45, 2474.46it/s]\u001b[A\n",
      "290125it [01:45, 2489.38it/s]\u001b[A\n",
      "290380it [01:45, 2504.95it/s]\u001b[A\n",
      "290636it [01:46, 2519.56it/s]\u001b[A\n",
      "290891it [01:46, 2526.15it/s]\u001b[A\n",
      "291147it [01:46, 2534.03it/s]\u001b[A\n",
      "291402it [01:46, 2537.82it/s]\u001b[A\n",
      "291657it [01:46, 2540.04it/s]\u001b[A\n",
      "291912it [01:46, 2542.56it/s]\u001b[A\n",
      "292167it [01:46, 2543.87it/s]\u001b[A\n",
      "292424it [01:46, 2548.96it/s]\u001b[A\n",
      "292681it [01:46, 2553.93it/s]\u001b[A\n",
      "292937it [01:46, 2551.32it/s]\u001b[A\n",
      "293193it [01:47, 2552.71it/s]\u001b[A\n",
      "293449it [01:47, 2547.82it/s]\u001b[A\n",
      "293706it [01:47, 2551.71it/s]\u001b[A\n",
      "293962it [01:47, 2553.26it/s]\u001b[A\n",
      "294218it [01:47, 2554.17it/s]\u001b[A\n",
      "294474it [01:47, 2550.90it/s]\u001b[A\n",
      "294732it [01:47, 2559.02it/s]\u001b[A\n",
      "294988it [01:47, 2552.80it/s]\u001b[A\n",
      "295244it [01:47, 2544.78it/s]\u001b[A\n",
      "295499it [01:47, 2542.88it/s]\u001b[A\n",
      "295755it [01:48, 2547.27it/s]\u001b[A\n",
      "296010it [01:48, 2545.15it/s]\u001b[A\n",
      "296265it [01:48, 2525.18it/s]\u001b[A\n",
      "296519it [01:48, 2528.05it/s]\u001b[A\n",
      "296772it [01:48, 2526.03it/s]\u001b[A\n",
      "297027it [01:48, 2530.45it/s]\u001b[A\n",
      "297283it [01:48, 2536.08it/s]\u001b[A\n",
      "297538it [01:48, 2537.65it/s]\u001b[A\n",
      "297792it [01:48, 2534.63it/s]\u001b[A\n",
      "298047it [01:48, 2535.09it/s]\u001b[A\n",
      "298301it [01:49, 2533.10it/s]\u001b[A\n",
      "298555it [01:49, 2531.60it/s]\u001b[A\n",
      "298810it [01:49, 2535.16it/s]\u001b[A\n",
      "299064it [01:49, 2533.16it/s]\u001b[A\n",
      "299318it [01:49, 2524.68it/s]\u001b[A\n",
      "299571it [01:49, 2523.43it/s]\u001b[A\n",
      "299825it [01:49, 2527.12it/s]\u001b[A\n",
      "300079it [01:49, 2529.75it/s]\u001b[A\n",
      "300332it [01:49, 2529.40it/s]\u001b[A\n",
      "300586it [01:49, 2529.88it/s]\u001b[A\n",
      "300840it [01:50, 2532.05it/s]\u001b[A\n",
      "301094it [01:50, 2531.79it/s]\u001b[A\n",
      "301348it [01:50, 2519.08it/s]\u001b[A\n",
      "301600it [01:50, 2508.09it/s]\u001b[A\n",
      "301855it [01:50, 2518.25it/s]\u001b[A\n",
      "302107it [01:50, 2425.09it/s]\u001b[A\n",
      "302359it [01:50, 2451.39it/s]\u001b[A\n",
      "302613it [01:50, 2476.60it/s]\u001b[A\n",
      "302862it [01:50, 2278.02it/s]\u001b[A\n",
      "303115it [01:51, 2347.76it/s]\u001b[A\n",
      "303371it [01:51, 2406.22it/s]\u001b[A\n",
      "303623it [01:51, 2439.24it/s]\u001b[A\n",
      "303877it [01:51, 2468.31it/s]\u001b[A\n",
      "304129it [01:51, 2481.50it/s]\u001b[A\n",
      "304383it [01:51, 2497.94it/s]\u001b[A\n",
      "304635it [01:51, 2503.21it/s]\u001b[A\n",
      "304890it [01:51, 2514.66it/s]\u001b[A\n",
      "305144it [01:51, 2520.84it/s]\u001b[A\n",
      "305397it [01:51, 2522.28it/s]\u001b[A\n",
      "305651it [01:52, 2525.87it/s]\u001b[A\n",
      "305904it [01:52, 2011.12it/s]\u001b[A\n",
      "306122it [01:52, 2032.13it/s]\u001b[A\n",
      "306354it [01:52, 2110.36it/s]\u001b[A\n",
      "306575it [01:52, 2062.03it/s]\u001b[A\n",
      "306788it [01:52, 1781.94it/s]\u001b[A\n",
      "307039it [01:52, 1951.72it/s]\u001b[A\n",
      "307293it [01:52, 2096.83it/s]\u001b[A\n",
      "307546it [01:52, 2208.15it/s]\u001b[A\n",
      "307781it [01:53, 2248.88it/s]\u001b[A\n",
      "308014it [01:53, 2222.80it/s]\u001b[A\n",
      "308242it [01:53, 2228.20it/s]\u001b[A\n",
      "308469it [01:53, 1797.51it/s]\u001b[A\n",
      "308703it [01:53, 1931.51it/s]\u001b[A\n",
      "308952it [01:53, 2069.41it/s]\u001b[A\n",
      "309203it [01:53, 2184.22it/s]\u001b[A\n",
      "309457it [01:53, 2278.46it/s]\u001b[A\n",
      "309710it [01:53, 2348.09it/s]\u001b[A\n",
      "309962it [01:54, 2396.32it/s]\u001b[A\n",
      "310215it [01:54, 2433.73it/s]\u001b[A\n",
      "310466it [01:54, 2453.94it/s]\u001b[A\n",
      "310717it [01:54, 2469.70it/s]\u001b[A\n",
      "310966it [01:54, 2455.45it/s]\u001b[A\n",
      "311220it [01:54, 2478.05it/s]\u001b[A\n",
      "311476it [01:54, 2501.96it/s]\u001b[A\n",
      "311727it [01:55, 1400.46it/s]\u001b[A\n",
      "311924it [01:55, 1346.86it/s]\u001b[A\n",
      "312099it [01:55, 1230.21it/s]\u001b[A\n",
      "312307it [01:55, 1401.50it/s]\u001b[A\n",
      "312561it [01:55, 1619.08it/s]\u001b[A\n",
      "312809it [01:55, 1805.87it/s]\u001b[A\n",
      "313020it [01:55, 1839.19it/s]\u001b[A\n",
      "313270it [01:55, 1996.89it/s]\u001b[A\n",
      "313523it [01:55, 2131.19it/s]\u001b[A\n",
      "313767it [01:56, 2213.22it/s]\u001b[A\n",
      "314012it [01:56, 2279.09it/s]\u001b[A\n",
      "314265it [01:56, 2347.81it/s]\u001b[A\n",
      "314511it [01:56, 2378.41it/s]\u001b[A\n",
      "314754it [01:56, 2126.50it/s]\u001b[A\n",
      "315004it [01:56, 2225.73it/s]\u001b[A\n",
      "315259it [01:56, 2312.63it/s]\u001b[A\n",
      "315509it [01:56, 2364.57it/s]\u001b[A\n",
      "315762it [01:56, 2410.79it/s]\u001b[A\n",
      "316016it [01:57, 2446.17it/s]\u001b[A\n",
      "316267it [01:57, 2462.96it/s]\u001b[A\n",
      "316517it [01:57, 2473.25it/s]\u001b[A\n",
      "316766it [01:57, 2369.55it/s]\u001b[A\n",
      "317019it [01:57, 2414.04it/s]\u001b[A\n",
      "317269it [01:57, 2437.98it/s]\u001b[A\n",
      "317514it [01:57, 2366.74it/s]\u001b[A\n",
      "317764it [01:57, 2404.91it/s]\u001b[A\n",
      "318016it [01:57, 2438.08it/s]\u001b[A\n",
      "318268it [01:57, 2460.62it/s]\u001b[A\n",
      "318519it [01:58, 2473.85it/s]\u001b[A\n",
      "318767it [01:58, 2471.81it/s]\u001b[A\n",
      "319017it [01:58, 2477.49it/s]\u001b[A\n",
      "319269it [01:58, 2488.21it/s]\u001b[A\n",
      "319522it [01:58, 2498.85it/s]\u001b[A\n",
      "319773it [01:58, 2496.65it/s]\u001b[A\n",
      "320023it [01:58, 2497.09it/s]\u001b[A\n",
      "320273it [01:58, 2487.88it/s]\u001b[A\n",
      "320524it [01:58, 2492.80it/s]\u001b[A\n",
      "320779it [01:58, 2509.38it/s]\u001b[A\n",
      "321030it [01:59, 2505.01it/s]\u001b[A\n",
      "321281it [01:59, 2501.67it/s]\u001b[A\n",
      "321532it [01:59, 2493.46it/s]\u001b[A\n",
      "321782it [01:59, 2492.86it/s]\u001b[A\n",
      "322032it [01:59, 2489.91it/s]\u001b[A\n",
      "322284it [01:59, 2496.73it/s]\u001b[A\n",
      "322534it [01:59, 2497.71it/s]\u001b[A\n",
      "322784it [01:59, 2495.91it/s]\u001b[A\n",
      "323034it [01:59, 2490.66it/s]\u001b[A\n",
      "323284it [01:59, 2493.25it/s]\u001b[A\n",
      "323534it [02:00, 2489.68it/s]\u001b[A\n",
      "323783it [02:00, 2487.50it/s]\u001b[A\n",
      "324035it [02:00, 2496.00it/s]\u001b[A\n",
      "324288it [02:00, 2504.44it/s]\u001b[A\n",
      "324539it [02:00, 2504.65it/s]\u001b[A\n",
      "324790it [02:00, 2431.03it/s]\u001b[A\n",
      "325034it [02:00, 2389.18it/s]\u001b[A\n",
      "325289it [02:00, 2434.24it/s]\u001b[A\n",
      "325542it [02:00, 2462.03it/s]\u001b[A\n",
      "325793it [02:00, 2474.42it/s]\u001b[A\n",
      "326046it [02:01, 2490.77it/s]\u001b[A\n",
      "326299it [02:01, 2499.69it/s]\u001b[A\n",
      "326550it [02:01, 2494.80it/s]\u001b[A\n",
      "326800it [02:01, 2495.70it/s]\u001b[A\n",
      "327054it [02:01, 2507.93it/s]\u001b[A\n",
      "327306it [02:01, 2509.61it/s]\u001b[A\n",
      "327558it [02:01, 2504.81it/s]\u001b[A\n",
      "327811it [02:01, 2510.25it/s]\u001b[A\n",
      "328065it [02:01, 2518.47it/s]\u001b[A\n",
      "328317it [02:01, 2505.47it/s]\u001b[A\n",
      "328568it [02:02, 2503.52it/s]\u001b[A\n",
      "328819it [02:02, 2498.66it/s]\u001b[A\n",
      "329071it [02:02, 2504.64it/s]\u001b[A\n",
      "329322it [02:02, 2499.14it/s]\u001b[A\n",
      "329572it [02:02, 2497.36it/s]\u001b[A\n",
      "329822it [02:02, 2395.74it/s]\u001b[A\n",
      "330071it [02:02, 2421.72it/s]\u001b[A\n",
      "330318it [02:02, 2433.54it/s]\u001b[A\n",
      "330567it [02:02, 2450.08it/s]\u001b[A\n",
      "330822it [02:03, 2477.47it/s]\u001b[A\n",
      "331072it [02:03, 2483.98it/s]\u001b[A\n",
      "331323it [02:03, 2489.64it/s]\u001b[A\n",
      "331576it [02:03, 2500.12it/s]\u001b[A\n",
      "331829it [02:03, 2507.86it/s]\u001b[A\n",
      "332081it [02:03, 2508.87it/s]\u001b[A\n",
      "332332it [02:03, 2506.12it/s]\u001b[A\n",
      "332587it [02:03, 2518.95it/s]\u001b[A\n",
      "332841it [02:03, 2525.04it/s]\u001b[A\n",
      "333094it [02:03, 2511.97it/s]\u001b[A\n",
      "333346it [02:04, 2503.70it/s]\u001b[A\n",
      "333597it [02:04, 2488.09it/s]\u001b[A\n",
      "333848it [02:04, 2493.23it/s]\u001b[A\n",
      "334098it [02:04, 2488.01it/s]\u001b[A\n",
      "334353it [02:04, 2504.22it/s]\u001b[A\n",
      "334609it [02:04, 2520.22it/s]\u001b[A\n",
      "334862it [02:04, 2505.22it/s]\u001b[A\n",
      "335114it [02:04, 2506.96it/s]\u001b[A\n",
      "335371it [02:04, 2524.14it/s]\u001b[A\n",
      "335629it [02:04, 2538.04it/s]\u001b[A\n",
      "335884it [02:05, 2539.13it/s]\u001b[A\n",
      "336138it [02:05, 2531.15it/s]\u001b[A\n",
      "336392it [02:05, 2523.53it/s]\u001b[A\n",
      "336649it [02:05, 2534.23it/s]\u001b[A\n",
      "336905it [02:05, 2540.87it/s]\u001b[A\n",
      "337160it [02:05, 2526.57it/s]\u001b[A\n",
      "337413it [02:05, 2517.54it/s]\u001b[A\n",
      "337670it [02:05, 2530.02it/s]\u001b[A\n",
      "337926it [02:05, 2537.27it/s]\u001b[A\n",
      "338180it [02:05, 2534.57it/s]\u001b[A\n",
      "338434it [02:06, 2529.01it/s]\u001b[A\n",
      "338690it [02:06, 2536.06it/s]\u001b[A\n",
      "338947it [02:06, 2543.61it/s]\u001b[A\n",
      "339202it [02:06, 2533.33it/s]\u001b[A\n",
      "339456it [02:06, 2525.84it/s]\u001b[A\n",
      "339709it [02:06, 2516.64it/s]\u001b[A\n",
      "339961it [02:06, 2516.06it/s]\u001b[A\n",
      "340213it [02:06, 2514.03it/s]\u001b[A\n",
      "340465it [02:06, 2486.64it/s]\u001b[A\n",
      "340714it [02:06, 2486.49it/s]\u001b[A\n",
      "340970it [02:07, 2505.69it/s]\u001b[A\n",
      "341221it [02:07, 2505.41it/s]\u001b[A\n",
      "341472it [02:07, 2502.44it/s]\u001b[A\n",
      "341728it [02:07, 2516.89it/s]\u001b[A\n",
      "341983it [02:07, 2525.99it/s]\u001b[A\n"
     ]
    },
    {
     "name": "stderr",
     "output_type": "stream",
     "text": [
      "342236it [02:07, 2526.59it/s]\u001b[A\n",
      "342489it [02:07, 2404.87it/s]\u001b[A\n",
      "342745it [02:07, 2449.17it/s]\u001b[A\n",
      "342998it [02:07, 2470.48it/s]\u001b[A\n",
      "343246it [02:07, 2468.60it/s]\u001b[A\n",
      "343495it [02:08, 2474.46it/s]\u001b[A\n",
      "343748it [02:08, 2488.95it/s]\u001b[A\n",
      "343999it [02:08, 2493.03it/s]\u001b[A\n",
      "344249it [02:08, 2493.08it/s]\u001b[A\n",
      "344501it [02:08, 2498.89it/s]\u001b[A\n",
      "344754it [02:08, 2506.89it/s]\u001b[A\n",
      "345005it [02:08, 2507.24it/s]\u001b[A\n",
      "345256it [02:08, 2484.96it/s]\u001b[A\n",
      "345508it [02:08, 2493.31it/s]\u001b[A\n",
      "345761it [02:08, 2503.41it/s]\u001b[A\n",
      "346014it [02:09, 2508.58it/s]\u001b[A\n",
      "346265it [02:09, 2500.99it/s]\u001b[A\n",
      "346516it [02:09, 2493.21it/s]\u001b[A\n",
      "346767it [02:09, 2497.67it/s]\u001b[A\n",
      "347017it [02:09, 2490.05it/s]\u001b[A\n",
      "347270it [02:09, 2500.44it/s]\u001b[A\n",
      "347521it [02:09, 2501.48it/s]\u001b[A\n",
      "347772it [02:09, 2480.60it/s]\u001b[A\n",
      "348027it [02:09, 2499.56it/s]\u001b[A\n",
      "348282it [02:09, 2514.33it/s]\u001b[A\n",
      "348535it [02:10, 2516.54it/s]\u001b[A\n",
      "348787it [02:10, 2512.95it/s]\u001b[A\n",
      "349039it [02:10, 2495.85it/s]\u001b[A\n",
      "349291it [02:10, 2501.89it/s]\u001b[A\n",
      "349542it [02:10, 2402.79it/s]\u001b[A\n",
      "349791it [02:10, 2427.62it/s]\u001b[A\n",
      "350043it [02:10, 2452.92it/s]\u001b[A\n",
      "350298it [02:10, 2480.95it/s]\u001b[A\n",
      "350547it [02:10, 2483.07it/s]\u001b[A\n",
      "350796it [02:10, 2481.08it/s]\u001b[A\n",
      "351048it [02:11, 2492.34it/s]\u001b[A\n",
      "351301it [02:11, 2503.22it/s]\u001b[A\n",
      "351552it [02:11, 2495.38it/s]\u001b[A\n",
      "351803it [02:11, 2499.22it/s]\u001b[A\n",
      "352058it [02:11, 2512.38it/s]\u001b[A\n",
      "352310it [02:11, 2507.40it/s]\u001b[A\n",
      "352561it [02:11, 2505.36it/s]\u001b[A\n",
      "352812it [02:11, 2502.38it/s]\u001b[A\n",
      "353067it [02:11, 2513.56it/s]\u001b[A\n",
      "353320it [02:11, 2516.13it/s]\u001b[A\n",
      "353572it [02:12, 2510.99it/s]\u001b[A\n",
      "353824it [02:12, 2508.65it/s]\u001b[A\n",
      "354075it [02:12, 2502.59it/s]\u001b[A\n",
      "354328it [02:12, 2505.44it/s]\u001b[A\n",
      "354579it [02:12, 2468.26it/s]\u001b[A\n",
      "354826it [02:12, 2306.93it/s]\u001b[A\n",
      "355078it [02:12, 2364.84it/s]\u001b[A\n",
      "355326it [02:12, 2397.10it/s]\u001b[A\n",
      "355574it [02:12, 2420.84it/s]\u001b[A\n",
      "355823it [02:13, 2439.88it/s]\u001b[A\n",
      "356077it [02:13, 2467.69it/s]\u001b[A\n",
      "356327it [02:13, 2476.78it/s]\u001b[A\n",
      "356576it [02:13, 2233.35it/s]\u001b[A\n",
      "356832it [02:13, 2320.43it/s]\u001b[A\n",
      "357084it [02:13, 2375.35it/s]\u001b[A\n",
      "357325it [02:13, 2385.06it/s]\u001b[A\n",
      "357577it [02:13, 2422.73it/s]\u001b[A\n",
      "357829it [02:13, 2449.35it/s]\u001b[A\n",
      "358077it [02:13, 2455.93it/s]\u001b[A\n",
      "358330it [02:14, 2475.55it/s]\u001b[A\n",
      "358581it [02:14, 2485.67it/s]\u001b[A\n",
      "358831it [02:14, 2485.73it/s]\u001b[A\n",
      "359080it [02:14, 2481.31it/s]\u001b[A\n",
      "359336it [02:14, 2502.59it/s]\u001b[A\n",
      "359587it [02:14, 2504.50it/s]\u001b[A\n",
      "359838it [02:14, 2501.12it/s]\u001b[A\n",
      "360089it [02:14, 2498.13it/s]\u001b[A\n",
      "360345it [02:14, 2513.99it/s]\u001b[A\n",
      "360597it [02:14, 2515.33it/s]\u001b[A\n",
      "360849it [02:15, 2509.21it/s]\u001b[A\n",
      "361100it [02:15, 2506.76it/s]\u001b[A\n",
      "361354it [02:15, 2515.11it/s]\u001b[A\n",
      "361606it [02:15, 2503.74it/s]\u001b[A\n",
      "361857it [02:15, 2504.29it/s]\u001b[A\n",
      "362108it [02:15, 2363.88it/s]\u001b[A\n",
      "362362it [02:15, 2412.99it/s]\u001b[A\n",
      "362611it [02:15, 2435.36it/s]\u001b[A\n",
      "362860it [02:15, 2451.23it/s]\u001b[A\n",
      "363115it [02:15, 2479.26it/s]\u001b[A\n",
      "363371it [02:16, 2501.35it/s]\u001b[A\n",
      "363625it [02:16, 2510.72it/s]\u001b[A\n",
      "363879it [02:16, 2518.19it/s]\u001b[A\n",
      "364132it [02:16, 2483.33it/s]\u001b[A\n",
      "364384it [02:16, 2493.97it/s]\u001b[A\n",
      "364637it [02:16, 2503.04it/s]\u001b[A\n",
      "364889it [02:16, 2505.16it/s]\u001b[A\n",
      "365141it [02:16, 2509.07it/s]\u001b[A\n",
      "365392it [02:16, 2507.92it/s]\u001b[A\n",
      "365643it [02:16, 2505.40it/s]\u001b[A\n",
      "365894it [02:17, 2487.43it/s]\u001b[A\n",
      "366145it [02:17, 2491.97it/s]\u001b[A\n",
      "366398it [02:17, 2502.54it/s]\u001b[A\n",
      "366649it [02:17, 2501.97it/s]\u001b[A\n",
      "366900it [02:17, 2492.93it/s]\u001b[A\n",
      "367150it [02:17, 2359.82it/s]\u001b[A\n",
      "367405it [02:17, 2411.76it/s]\u001b[A\n",
      "367654it [02:17, 2433.54it/s]\u001b[A\n",
      "367904it [02:17, 2452.94it/s]\u001b[A\n",
      "368157it [02:18, 2474.11it/s]\u001b[A\n",
      "368408it [02:18, 2484.28it/s]\u001b[A\n",
      "368657it [02:18, 2483.20it/s]\u001b[A\n",
      "368906it [02:18, 2478.44it/s]\u001b[A\n",
      "369159it [02:18, 2493.37it/s]\u001b[A\n",
      "369412it [02:18, 2503.24it/s]\u001b[A\n",
      "369663it [02:18, 2503.34it/s]\u001b[A\n",
      "369918it [02:18, 2514.68it/s]\u001b[A\n",
      "370173it [02:18, 2524.90it/s]\u001b[A\n",
      "370427it [02:18, 2528.82it/s]\u001b[A\n",
      "370680it [02:19, 2515.11it/s]\u001b[A\n",
      "370932it [02:19, 2507.42it/s]\u001b[A\n",
      "371191it [02:19, 2529.13it/s]\u001b[A\n",
      "371444it [02:19, 2527.30it/s]\u001b[A\n",
      "371697it [02:19, 2517.83it/s]\u001b[A\n",
      "371949it [02:19, 2415.55it/s]\u001b[A\n",
      "372205it [02:19, 2455.20it/s]\u001b[A\n",
      "372458it [02:19, 2475.39it/s]\u001b[A\n",
      "372709it [02:19, 2484.34it/s]\u001b[A\n",
      "372967it [02:19, 2510.40it/s]\u001b[A\n",
      "373225it [02:20, 2530.72it/s]\u001b[A\n",
      "373479it [02:20, 2523.46it/s]\u001b[A\n",
      "373736it [02:20, 2535.09it/s]\u001b[A\n",
      "373992it [02:20, 2541.06it/s]\u001b[A\n",
      "374248it [02:20, 2546.19it/s]\u001b[A\n",
      "374503it [02:20, 2536.39it/s]\u001b[A\n",
      "374758it [02:20, 2539.36it/s]\u001b[A\n",
      "375086it [02:20, 2664.40it/s]\u001b[A\n"
     ]
    }
   ],
   "source": [
    "embs = {}\n",
    "for f in tqdm.tqdm(path.glob('*/*/*/*.npy')):\n",
    "    embs[f.stem] = np.load(str(f))"
   ]
  },
  {
   "cell_type": "code",
   "execution_count": 27,
   "metadata": {},
   "outputs": [
    {
     "data": {
      "text/plain": [
       "375086"
      ]
     },
     "execution_count": 27,
     "metadata": {},
     "output_type": "execute_result"
    }
   ],
   "source": [
    "len(embs)"
   ]
  },
  {
   "cell_type": "code",
   "execution_count": 49,
   "metadata": {},
   "outputs": [
    {
     "data": {
      "text/plain": [
       "(2484, 256)"
      ]
     },
     "execution_count": 49,
     "metadata": {},
     "output_type": "execute_result"
    }
   ],
   "source": [
    "sembs = embs / np.where(nums == 0.0, 1, nums)[:, np.newaxis]\n",
    "sembs.shape"
   ]
  },
  {
   "cell_type": "code",
   "execution_count": 50,
   "metadata": {},
   "outputs": [
    {
     "data": {
      "text/plain": [
       "(0.0, 0.3968268036842346)"
      ]
     },
     "execution_count": 50,
     "metadata": {},
     "output_type": "execute_result"
    }
   ],
   "source": [
    "sembs.min(), sembs.max()"
   ]
  },
  {
   "cell_type": "code",
   "execution_count": 51,
   "metadata": {},
   "outputs": [],
   "source": [
    "np.save('/home/stanislavv/data/librimeta/speaker-embs/16k.npy', sembs)"
   ]
  },
  {
   "cell_type": "code",
   "execution_count": 22,
   "metadata": {},
   "outputs": [
    {
     "data": {
      "text/plain": [
       "{'audio_file': '/home/stanislavv/data/libritts/LibriTTS/train-clean-100/1594/135914/1594_135914_000014_000001.wav',\n",
       " 'duration': 4.44,\n",
       " 'text': 'Fetnah concluded, that he had not been able to survive the pain of losing her.',\n",
       " 'offset': None,\n",
       " 'speaker': 1594,\n",
       " 'id': 0}"
      ]
     },
     "execution_count": 22,
     "metadata": {},
     "output_type": "execute_result"
    }
   ],
   "source": [
    "e = next(nemo.collections.asr.parts.manifest.item_iter(MAP_PATH))\n",
    "e"
   ]
  },
  {
   "cell_type": "code",
   "execution_count": 25,
   "metadata": {},
   "outputs": [
    {
     "data": {
      "text/plain": [
       "'1594_135914_000014_000001'"
      ]
     },
     "execution_count": 25,
     "metadata": {},
     "output_type": "execute_result"
    }
   ],
   "source": [
    "pathlib.Path(e['audio_file']).stem"
   ]
  },
  {
   "cell_type": "code",
   "execution_count": 38,
   "metadata": {},
   "outputs": [
    {
     "name": "stderr",
     "output_type": "stream",
     "text": [
      "\n",
      "0it [00:00, ?it/s]\u001b[A\n",
      "4837it [00:00, 40354.39it/s]\u001b[A\n"
     ]
    },
    {
     "data": {
      "text/plain": [
       "(4837, 256)"
      ]
     },
     "execution_count": 38,
     "metadata": {},
     "output_type": "execute_result"
    }
   ],
   "source": [
    "NAME = 'test-clean'\n",
    "MAP_PATH = f'/home/stanislavv/data/libritts/local/{NAME}.json'\n",
    "map_embs = []\n",
    "for e in tqdm.tqdm(nemo.collections.asr.parts.manifest.item_iter(MAP_PATH)):\n",
    "    map_embs.append(embs[pathlib.Path(e['audio_file']).stem])\n",
    "\n",
    "map_embs = np.stack(map_embs)\n",
    "map_embs.shape"
   ]
  },
  {
   "cell_type": "code",
   "execution_count": 39,
   "metadata": {},
   "outputs": [],
   "source": [
    "np.save(f'/home/stanislavv/data/librimeta/speaker-embs/{NAME}.npy', map_embs)"
   ]
  },
  {
   "cell_type": "markdown",
   "metadata": {},
   "source": [
    "# Lens"
   ]
  },
  {
   "cell_type": "code",
   "execution_count": 3,
   "metadata": {},
   "outputs": [
    {
     "data": {
      "text/plain": [
       "(354780, 2)"
      ]
     },
     "execution_count": 3,
     "metadata": {},
     "output_type": "execute_result"
    }
   ],
   "source": [
    "durs = np.load(\n",
    "    file='/home/stanislavv/data/librimeta/durs/libritts_original-qn15x5_24k/train-all_full-pad.npy',\n",
    "    allow_pickle=True,\n",
    ")\n",
    "durs.shape"
   ]
  },
  {
   "cell_type": "code",
   "execution_count": 5,
   "metadata": {},
   "outputs": [
    {
     "data": {
      "text/plain": [
       "(354780,)"
      ]
     },
     "execution_count": 5,
     "metadata": {},
     "output_type": "execute_result"
    }
   ],
   "source": [
    "lens = np.array([b.sum() + d.sum() for b, d in durs])\n",
    "lens.shape"
   ]
  },
  {
   "cell_type": "code",
   "execution_count": 18,
   "metadata": {},
   "outputs": [
    {
     "data": {
      "text/plain": [
       "4388"
      ]
     },
     "execution_count": 18,
     "metadata": {},
     "output_type": "execute_result"
    }
   ],
   "source": [
    "lens.max()"
   ]
  },
  {
   "cell_type": "code",
   "execution_count": 19,
   "metadata": {},
   "outputs": [
    {
     "data": {
      "text/plain": [
       "11"
      ]
     },
     "execution_count": 19,
     "metadata": {},
     "output_type": "execute_result"
    }
   ],
   "source": [
    "lens.min()"
   ]
  },
  {
   "cell_type": "code",
   "execution_count": 25,
   "metadata": {},
   "outputs": [
    {
     "data": {
      "image/png": "[encoded data removed]",
      "text/plain": [
       "<Figure size 1440x576 with 1 Axes>"
      ]
     },
     "metadata": {},
     "output_type": "display_data"
    }
   ],
   "source": [
    "sns.set(font_scale=1.5)\n",
    "plt.figure(figsize=(20, 8))\n",
    "sns.distplot(lens);"
   ]
  },
  {
   "cell_type": "code",
   "execution_count": 29,
   "metadata": {},
   "outputs": [
    {
     "data": {
      "text/plain": [
       "354780"
      ]
     },
     "execution_count": 29,
     "metadata": {},
     "output_type": "execute_result"
    }
   ],
   "source": [
    "DATA = '/home/stanislavv/data/libritts/local/train-all.json'\n",
    "adurs = np.array([e['duration'] for e in nemo.collections.asr.parts.manifest.item_iter(DATA)])\n",
    "len(adurs)"
   ]
  },
  {
   "cell_type": "code",
   "execution_count": 30,
   "metadata": {},
   "outputs": [
    {
     "data": {
      "image/png": "[encoded data removed]",
      "text/plain": [
       "<Figure size 1440x576 with 1 Axes>"
      ]
     },
     "metadata": {},
     "output_type": "display_data"
    }
   ],
   "source": [
    "sns.set(font_scale=1.5)\n",
    "plt.figure(figsize=(20, 8))\n",
    "sns.distplot(adurs);"
   ]
  },
  {
   "cell_type": "code",
   "execution_count": 33,
   "metadata": {},
   "outputs": [
    {
     "data": {
      "text/plain": [
       "43.88"
      ]
     },
     "execution_count": 33,
     "metadata": {},
     "output_type": "execute_result"
    }
   ],
   "source": [
    "adurs.max()"
   ]
  },
  {
   "cell_type": "code",
   "execution_count": 34,
   "metadata": {},
   "outputs": [
    {
     "data": {
      "text/plain": [
       "4388"
      ]
     },
     "execution_count": 34,
     "metadata": {},
     "output_type": "execute_result"
    }
   ],
   "source": [
    "lens.max()"
   ]
  }
 ],
 "metadata": {
  "kernelspec": {
   "display_name": "Python 3",
   "language": "python",
   "name": "python3"
  },
  "language_info": {
   "codemirror_mode": {
    "name": "ipython",
    "version": 3
   },
   "file_extension": ".py",
   "mimetype": "text/x-python",
   "name": "python",
   "nbconvert_exporter": "python",
   "pygments_lexer": "ipython3",
   "version": "3.6.9"
  }
 },
 "nbformat": 4,
 "nbformat_minor": 2
}
